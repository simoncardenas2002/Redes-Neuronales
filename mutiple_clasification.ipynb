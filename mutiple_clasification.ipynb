{
  "nbformat": 4,
  "nbformat_minor": 0,
  "metadata": {
    "colab": {
      "provenance": [],
      "authorship_tag": "ABX9TyNnJvhkgzEDNmqiQT5cNWfK",
      "include_colab_link": true
    },
    "kernelspec": {
      "name": "python3",
      "display_name": "Python 3"
    },
    "language_info": {
      "name": "python"
    },
    "accelerator": "GPU",
    "gpuClass": "standard"
  },
  "cells": [
    {
      "cell_type": "markdown",
      "metadata": {
        "id": "view-in-github",
        "colab_type": "text"
      },
      "source": [
        "<a href=\"https://colab.research.google.com/github/simoncardenas2002/Redes-Neuronales/blob/master/mutiple_clasification.ipynb\" target=\"_parent\"><img src=\"https://colab.research.google.com/assets/colab-badge.svg\" alt=\"Open In Colab\"/></a>"
      ]
    },
    {
      "cell_type": "code",
      "execution_count": 2,
      "metadata": {
        "id": "kOq1bsm47ycy"
      },
      "outputs": [],
      "source": [
        "import numpy as np\n",
        "from keras import layers,models\n",
        "from keras.datasets import reuters"
      ]
    },
    {
      "cell_type": "markdown",
      "source": [
        "### Se importa el dataset"
      ],
      "metadata": {
        "id": "--zxsmWD872o"
      }
    },
    {
      "cell_type": "code",
      "source": [
        "(train_data,train_labels),(test_data,test_labels)=reuters.load_data(num_words=10000)"
      ],
      "metadata": {
        "colab": {
          "base_uri": "https://localhost:8080/"
        },
        "id": "e_KW4aht8MN_",
        "outputId": "8bad980b-1963-435c-ad50-2470484c2293"
      },
      "execution_count": 3,
      "outputs": [
        {
          "output_type": "stream",
          "name": "stdout",
          "text": [
            "Downloading data from https://storage.googleapis.com/tensorflow/tf-keras-datasets/reuters.npz\n",
            "2110848/2110848 [==============================] - 0s 0us/step\n"
          ]
        }
      ]
    },
    {
      "cell_type": "markdown",
      "source": [
        "Organizamos los datos, primero con un índice de las palabras"
      ],
      "metadata": {
        "id": "klWKPPRE9SCW"
      }
    },
    {
      "cell_type": "code",
      "source": [
        "word_index=reuters.get_word_index()\n",
        "word_index=dict([(value,key) for (key,value) in word_index.items()])\n",
        "for _ in train_data[0]:\n",
        "  print(word_index.get(_ -3)) #el -3 se pone porque las primeras 3 palabras son palabras reservadas"
      ],
      "metadata": {
        "id": "1UPTTDBT8cZn"
      },
      "execution_count": null,
      "outputs": []
    },
    {
      "cell_type": "code",
      "source": [
        "train_data.shape"
      ],
      "metadata": {
        "colab": {
          "base_uri": "https://localhost:8080/"
        },
        "id": "WCbysULc9kIV",
        "outputId": "2d68a21b-dd93-4632-e604-e53515d11f4a"
      },
      "execution_count": 10,
      "outputs": [
        {
          "output_type": "execute_result",
          "data": {
            "text/plain": [
              "(8982,)"
            ]
          },
          "metadata": {},
          "execution_count": 10
        }
      ]
    },
    {
      "cell_type": "markdown",
      "source": [
        "Vemos que la data de entrenamiento no es de tipo tensor, por tanto usaremos la función de vectorización"
      ],
      "metadata": {
        "id": "Z0toNiOp-GlJ"
      }
    },
    {
      "cell_type": "code",
      "source": [
        "def vectorizar(sequences,dim=10000):\n",
        "  results=np.zeros((len(sequences),dim))\n",
        "  for i, sequences in enumerate(sequences):\n",
        "    results[i,sequences]=1\n",
        "  return results"
      ],
      "metadata": {
        "id": "M1A4-jvz-Msx"
      },
      "execution_count": 11,
      "outputs": []
    },
    {
      "cell_type": "code",
      "source": [
        "x_train=vectorizar(train_data)\n",
        "x_test=vectorizar(test_data)"
      ],
      "metadata": {
        "id": "n26b3Nls-Tsr"
      },
      "execution_count": 12,
      "outputs": []
    },
    {
      "cell_type": "code",
      "source": [
        "train_labels[1]"
      ],
      "metadata": {
        "colab": {
          "base_uri": "https://localhost:8080/"
        },
        "id": "Te-oclCp_8l-",
        "outputId": "3bc31451-2725-4d11-9ee9-ea934c883cc1"
      },
      "execution_count": 14,
      "outputs": [
        {
          "output_type": "execute_result",
          "data": {
            "text/plain": [
              "4"
            ]
          },
          "metadata": {},
          "execution_count": 14
        }
      ]
    },
    {
      "cell_type": "markdown",
      "source": [
        "Debemos hacer One hot encoding"
      ],
      "metadata": {
        "id": "18N8MyGgA3mk"
      }
    },
    {
      "cell_type": "code",
      "source": [
        "from keras.utils import to_categorical"
      ],
      "metadata": {
        "id": "XueV0NzfA87x"
      },
      "execution_count": 15,
      "outputs": []
    },
    {
      "cell_type": "code",
      "source": [
        "y_train= to_categorical(train_labels)\n",
        "y_test= to_categorical(test_labels)"
      ],
      "metadata": {
        "id": "qCe7vvlrBA7S"
      },
      "execution_count": 17,
      "outputs": []
    },
    {
      "cell_type": "code",
      "source": [
        "y_train[1]"
      ],
      "metadata": {
        "colab": {
          "base_uri": "https://localhost:8080/"
        },
        "id": "dftKD0vuBRHR",
        "outputId": "bbe4d616-933d-43a2-d26b-7bb1075d88ad"
      },
      "execution_count": 18,
      "outputs": [
        {
          "output_type": "execute_result",
          "data": {
            "text/plain": [
              "array([0., 0., 0., 0., 1., 0., 0., 0., 0., 0., 0., 0., 0., 0., 0., 0., 0.,\n",
              "       0., 0., 0., 0., 0., 0., 0., 0., 0., 0., 0., 0., 0., 0., 0., 0., 0.,\n",
              "       0., 0., 0., 0., 0., 0., 0., 0., 0., 0., 0., 0.], dtype=float32)"
            ]
          },
          "metadata": {},
          "execution_count": 18
        }
      ]
    },
    {
      "cell_type": "code",
      "source": [
        "model = models.Sequential()\n",
        "model.add(layers.Dense(65,activation=\"relu\",input_shape=(10000,))) #se debe poner el input al ser la primera capa\n",
        "model.add(layers.Dense(65,activation=\"relu\"))\n",
        "model.add(layers.Dense(46,activation=\"softmax\")) #46 neuronas porque son 46 diferentes categorías, lo cual es beneficioso\n",
        "#La activación de la última capa se hizo de tipo softmax debido a que esta activación es bastante util con la clasificación múltiple\n",
        "\n"
      ],
      "metadata": {
        "id": "8NAIYAoHBkTx"
      },
      "execution_count": 39,
      "outputs": []
    },
    {
      "cell_type": "markdown",
      "source": [
        "Compilamos el modelo"
      ],
      "metadata": {
        "id": "b4OrtpkOCnd5"
      }
    },
    {
      "cell_type": "code",
      "source": [
        "#la funcion de pérdida usada es especial para la clasificación múltiple\n",
        "model.compile(optimizer=\"rmsprop\",\n",
        "              loss=\"categorical_crossentropy\",\n",
        "              metrics=[\"accuracy\"])"
      ],
      "metadata": {
        "id": "XH_EBK8CCZxJ"
      },
      "execution_count": 40,
      "outputs": []
    },
    {
      "cell_type": "markdown",
      "source": [
        "Se realiza la partición de los datos"
      ],
      "metadata": {
        "id": "XsN9O7AnDwjf"
      }
    },
    {
      "cell_type": "code",
      "source": [
        "x_val = x_train[:1000]\n",
        "partial_x_train= x_train[1000:]\n",
        "\n",
        "y_val = y_train[:1000]\n",
        "partial_y_train= y_train[1000:]\n"
      ],
      "metadata": {
        "id": "U8vYbM-6CqUs"
      },
      "execution_count": 41,
      "outputs": []
    },
    {
      "cell_type": "code",
      "source": [
        "history=model.fit(partial_x_train,partial_y_train,\n",
        "          epochs=30,\n",
        "          batch_size=512,\n",
        "          validation_data=(x_val,y_val))"
      ],
      "metadata": {
        "colab": {
          "base_uri": "https://localhost:8080/"
        },
        "id": "ucCVQaFODZ0l",
        "outputId": "48eba694-e879-47b7-9a8e-d905c78b4f92"
      },
      "execution_count": 32,
      "outputs": [
        {
          "output_type": "stream",
          "name": "stdout",
          "text": [
            "Epoch 1/30\n",
            "16/16 [==============================] - 2s 106ms/step - loss: 2.9208 - accuracy: 0.4812 - val_loss: 1.9532 - val_accuracy: 0.6280\n",
            "Epoch 2/30\n",
            "16/16 [==============================] - 2s 95ms/step - loss: 1.6319 - accuracy: 0.6793 - val_loss: 1.4473 - val_accuracy: 0.6900\n",
            "Epoch 3/30\n",
            "16/16 [==============================] - 1s 62ms/step - loss: 1.2261 - accuracy: 0.7444 - val_loss: 1.2251 - val_accuracy: 0.7390\n",
            "Epoch 4/30\n",
            "16/16 [==============================] - 1s 54ms/step - loss: 0.9908 - accuracy: 0.7955 - val_loss: 1.1203 - val_accuracy: 0.7630\n",
            "Epoch 5/30\n",
            "16/16 [==============================] - 1s 55ms/step - loss: 0.8174 - accuracy: 0.8291 - val_loss: 1.0164 - val_accuracy: 0.8010\n",
            "Epoch 6/30\n",
            "16/16 [==============================] - 1s 56ms/step - loss: 0.6840 - accuracy: 0.8572 - val_loss: 0.9978 - val_accuracy: 0.8010\n",
            "Epoch 7/30\n",
            "16/16 [==============================] - 1s 56ms/step - loss: 0.5731 - accuracy: 0.8802 - val_loss: 0.9272 - val_accuracy: 0.8150\n",
            "Epoch 8/30\n",
            "16/16 [==============================] - 1s 53ms/step - loss: 0.4846 - accuracy: 0.8994 - val_loss: 0.9037 - val_accuracy: 0.8120\n",
            "Epoch 9/30\n",
            "16/16 [==============================] - 1s 54ms/step - loss: 0.4057 - accuracy: 0.9154 - val_loss: 0.8725 - val_accuracy: 0.8190\n",
            "Epoch 10/30\n",
            "16/16 [==============================] - 1s 54ms/step - loss: 0.3511 - accuracy: 0.9262 - val_loss: 0.8957 - val_accuracy: 0.8050\n",
            "Epoch 11/30\n",
            "16/16 [==============================] - 1s 55ms/step - loss: 0.3011 - accuracy: 0.9337 - val_loss: 0.8765 - val_accuracy: 0.8200\n",
            "Epoch 12/30\n",
            "16/16 [==============================] - 1s 53ms/step - loss: 0.2660 - accuracy: 0.9412 - val_loss: 0.8838 - val_accuracy: 0.8200\n",
            "Epoch 13/30\n",
            "16/16 [==============================] - 1s 55ms/step - loss: 0.2302 - accuracy: 0.9469 - val_loss: 0.8638 - val_accuracy: 0.8240\n",
            "Epoch 14/30\n",
            "16/16 [==============================] - 1s 69ms/step - loss: 0.2113 - accuracy: 0.9491 - val_loss: 0.8906 - val_accuracy: 0.8200\n",
            "Epoch 15/30\n",
            "16/16 [==============================] - 1s 94ms/step - loss: 0.1899 - accuracy: 0.9500 - val_loss: 0.8954 - val_accuracy: 0.8130\n",
            "Epoch 16/30\n",
            "16/16 [==============================] - 1s 74ms/step - loss: 0.1758 - accuracy: 0.9540 - val_loss: 0.9336 - val_accuracy: 0.8060\n",
            "Epoch 17/30\n",
            "16/16 [==============================] - 1s 58ms/step - loss: 0.1654 - accuracy: 0.9520 - val_loss: 0.9315 - val_accuracy: 0.8150\n",
            "Epoch 18/30\n",
            "16/16 [==============================] - 1s 55ms/step - loss: 0.1532 - accuracy: 0.9557 - val_loss: 0.9335 - val_accuracy: 0.8170\n",
            "Epoch 19/30\n",
            "16/16 [==============================] - 1s 52ms/step - loss: 0.1473 - accuracy: 0.9560 - val_loss: 0.9479 - val_accuracy: 0.8160\n",
            "Epoch 20/30\n",
            "16/16 [==============================] - 1s 52ms/step - loss: 0.1407 - accuracy: 0.9574 - val_loss: 0.9234 - val_accuracy: 0.8130\n",
            "Epoch 21/30\n",
            "16/16 [==============================] - 1s 54ms/step - loss: 0.1333 - accuracy: 0.9562 - val_loss: 0.9368 - val_accuracy: 0.8170\n",
            "Epoch 22/30\n",
            "16/16 [==============================] - 1s 52ms/step - loss: 0.1328 - accuracy: 0.9557 - val_loss: 0.9421 - val_accuracy: 0.8160\n",
            "Epoch 23/30\n",
            "16/16 [==============================] - 1s 53ms/step - loss: 0.1275 - accuracy: 0.9558 - val_loss: 1.0020 - val_accuracy: 0.8070\n",
            "Epoch 24/30\n",
            "16/16 [==============================] - 1s 54ms/step - loss: 0.1214 - accuracy: 0.9577 - val_loss: 0.9655 - val_accuracy: 0.8260\n",
            "Epoch 25/30\n",
            "16/16 [==============================] - 1s 52ms/step - loss: 0.1180 - accuracy: 0.9582 - val_loss: 0.9773 - val_accuracy: 0.8100\n",
            "Epoch 26/30\n",
            "16/16 [==============================] - 1s 54ms/step - loss: 0.1172 - accuracy: 0.9583 - val_loss: 0.9772 - val_accuracy: 0.8160\n",
            "Epoch 27/30\n",
            "16/16 [==============================] - 1s 57ms/step - loss: 0.1170 - accuracy: 0.9570 - val_loss: 0.9917 - val_accuracy: 0.8130\n",
            "Epoch 28/30\n",
            "16/16 [==============================] - 1s 86ms/step - loss: 0.1117 - accuracy: 0.9578 - val_loss: 0.9700 - val_accuracy: 0.8220\n",
            "Epoch 29/30\n",
            "16/16 [==============================] - 1s 90ms/step - loss: 0.1065 - accuracy: 0.9604 - val_loss: 1.0153 - val_accuracy: 0.8170\n",
            "Epoch 30/30\n",
            "16/16 [==============================] - 1s 57ms/step - loss: 0.1088 - accuracy: 0.9595 - val_loss: 1.0127 - val_accuracy: 0.8130\n"
          ]
        }
      ]
    },
    {
      "cell_type": "code",
      "source": [
        "import matplotlib.pyplot as plt\n",
        "\n",
        "#Obtenemos un diccionario del cambio de los valores en el entrenamiento\n",
        "history_dict=history.history\n",
        "\n",
        "loss_values=history_dict[\"loss\"]\n",
        "val_loss_values=history_dict[\"val_loss\"]\n",
        "\n",
        "fig=plt.figure(figsize=(10,10))\n",
        "epoch=range(1,len(loss_values)+1)\n",
        "plt.plot(epoch,loss_values,\"o\",label=\"Training\")\n",
        "plt.plot(epoch,val_loss_values,\"--\",label=\"Validation\")\n",
        "plt.legend()\n",
        "plt.show()"
      ],
      "metadata": {
        "colab": {
          "base_uri": "https://localhost:8080/",
          "height": 592
        },
        "id": "izk_ed2ED91l",
        "outputId": "d739e073-5014-42e0-9107-149497c9a86b"
      },
      "execution_count": 33,
      "outputs": [
        {
          "output_type": "display_data",
          "data": {
            "text/plain": [
              "<Figure size 720x720 with 1 Axes>"
            ],
            "image/png": "[encoded data removed]"
          },
          "metadata": {
            "needs_background": "light"
          }
        }
      ]
    },
    {
      "cell_type": "markdown",
      "source": [
        "Podemos ver que despues hay una gran diferencia en la pérdida de los valores de validación con la pérdida lo cual nos indica que nuestro modelo esta presentando Overfitting, donde nuestra red se aprende los valores de validación"
      ],
      "metadata": {
        "id": "1fTjDBrqMU2c"
      }
    },
    {
      "cell_type": "code",
      "source": [
        "history_dict=history.history\n",
        "\n",
        "accuracy_values=history_dict[\"accuracy\"]\n",
        "val_accuracy_values=history_dict[\"val_accuracy\"]\n",
        "\n",
        "fig=plt.figure(figsize=(10,10))\n",
        "epoch=range(1,len(loss_values)+1)\n",
        "plt.plot(epoch,accuracy_values,\"o\",label=\"Training\")\n",
        "plt.plot(epoch,val_accuracy_values,\"--\",label=\"Validation\")\n",
        "plt.legend()\n",
        "plt.show()"
      ],
      "metadata": {
        "colab": {
          "base_uri": "https://localhost:8080/",
          "height": 592
        },
        "id": "4dN7UNJ_M1YD",
        "outputId": "af03ec74-30b3-4304-eb09-6edd3cb327b0"
      },
      "execution_count": 34,
      "outputs": [
        {
          "output_type": "display_data",
          "data": {
            "text/plain": [
              "<Figure size 720x720 with 1 Axes>"
            ],
            "image/png": "[encoded data removed]"
          },
          "metadata": {
            "needs_background": "light"
          }
        }
      ]
    },
    {
      "cell_type": "markdown",
      "source": [
        "Aca tambien vemos lo mismo, el accuracy de training casi perfecto, mientras que la validación parece estancarse en un determinado punto"
      ],
      "metadata": {
        "id": "4YMTBdsdNF2E"
      }
    },
    {
      "cell_type": "code",
      "source": [
        "# al ver que el modelo presenta el overfitting despues de la epoca 9\n",
        "model.evaluate(x_test,y_test)"
      ],
      "metadata": {
        "colab": {
          "base_uri": "https://localhost:8080/"
        },
        "id": "YJiHG87tNYH-",
        "outputId": "8a1d2736-3188-4760-a2e7-135ba0f031cf"
      },
      "execution_count": 35,
      "outputs": [
        {
          "output_type": "stream",
          "name": "stdout",
          "text": [
            "71/71 [==============================] - 0s 4ms/step - loss: 1.1238 - accuracy: 0.7912\n"
          ]
        },
        {
          "output_type": "execute_result",
          "data": {
            "text/plain": [
              "[1.123759388923645, 0.7911843061447144]"
            ]
          },
          "metadata": {},
          "execution_count": 35
        }
      ]
    },
    {
      "cell_type": "markdown",
      "source": [
        "Se entrenará otro modelo con solo 9 épocas para analizar el cambio"
      ],
      "metadata": {
        "id": "VPRarZ67NuuD"
      }
    },
    {
      "cell_type": "code",
      "source": [
        "history2=model.fit(partial_x_train,partial_y_train,\n",
        "          epochs=9,\n",
        "          batch_size=512,\n",
        "          validation_data=(x_val,y_val))"
      ],
      "metadata": {
        "colab": {
          "base_uri": "https://localhost:8080/"
        },
        "id": "j2gVD5A5Ns32",
        "outputId": "cd2efc9c-30af-4a8c-c7aa-a65a7140c771"
      },
      "execution_count": 42,
      "outputs": [
        {
          "output_type": "stream",
          "name": "stdout",
          "text": [
            "Epoch 1/9\n",
            "16/16 [==============================] - 2s 90ms/step - loss: 2.7301 - accuracy: 0.4093 - val_loss: 1.8944 - val_accuracy: 0.6060\n",
            "Epoch 2/9\n",
            "16/16 [==============================] - 2s 102ms/step - loss: 1.5765 - accuracy: 0.6700 - val_loss: 1.3755 - val_accuracy: 0.7010\n",
            "Epoch 3/9\n",
            "16/16 [==============================] - 1s 87ms/step - loss: 1.1949 - accuracy: 0.7437 - val_loss: 1.1892 - val_accuracy: 0.7310\n",
            "Epoch 4/9\n",
            "16/16 [==============================] - 1s 55ms/step - loss: 0.9800 - accuracy: 0.7909 - val_loss: 1.0736 - val_accuracy: 0.7670\n",
            "Epoch 5/9\n",
            "16/16 [==============================] - 1s 52ms/step - loss: 0.8094 - accuracy: 0.8232 - val_loss: 1.0017 - val_accuracy: 0.7790\n",
            "Epoch 6/9\n",
            "16/16 [==============================] - 1s 54ms/step - loss: 0.6759 - accuracy: 0.8529 - val_loss: 0.9705 - val_accuracy: 0.7760\n",
            "Epoch 7/9\n",
            "16/16 [==============================] - 1s 59ms/step - loss: 0.5641 - accuracy: 0.8807 - val_loss: 0.9106 - val_accuracy: 0.8170\n",
            "Epoch 8/9\n",
            "16/16 [==============================] - 1s 54ms/step - loss: 0.4766 - accuracy: 0.8999 - val_loss: 0.8911 - val_accuracy: 0.8060\n",
            "Epoch 9/9\n",
            "16/16 [==============================] - 1s 54ms/step - loss: 0.4035 - accuracy: 0.9136 - val_loss: 0.8644 - val_accuracy: 0.8240\n"
          ]
        }
      ]
    },
    {
      "cell_type": "code",
      "source": [
        "history2_dict=history2.history\n",
        "\n",
        "accuracy_values2=history2_dict[\"accuracy\"]\n",
        "val_accuracy_values2=history2_dict[\"val_accuracy\"]\n",
        "\n",
        "fig=plt.figure(figsize=(10,10))\n",
        "epoch=range(1,len(accuracy_values2)+1)\n",
        "plt.plot(epoch,accuracy_values2,\"o\",label=\"Training\")\n",
        "plt.plot(epoch,val_accuracy_values2,\"--\",label=\"Validation\")\n",
        "plt.legend()\n",
        "plt.show()"
      ],
      "metadata": {
        "colab": {
          "base_uri": "https://localhost:8080/",
          "height": 592
        },
        "id": "T8AttCzvOMTh",
        "outputId": "977e3391-41a2-46c7-92cc-e1e98c31712c"
      },
      "execution_count": 43,
      "outputs": [
        {
          "output_type": "display_data",
          "data": {
            "text/plain": [
              "<Figure size 720x720 with 1 Axes>"
            ],
            "image/png": "[encoded data removed]"
          },
          "metadata": {
            "needs_background": "light"
          }
        }
      ]
    },
    {
      "cell_type": "code",
      "source": [
        "model.evaluate(x_test,y_test)"
      ],
      "metadata": {
        "colab": {
          "base_uri": "https://localhost:8080/"
        },
        "id": "n1sh5UTzPorI",
        "outputId": "dea9f79a-302a-4bd5-b8de-4bfffa5d2eec"
      },
      "execution_count": 44,
      "outputs": [
        {
          "output_type": "stream",
          "name": "stdout",
          "text": [
            "71/71 [==============================] - 0s 4ms/step - loss: 0.9540 - accuracy: 0.7907\n"
          ]
        },
        {
          "output_type": "execute_result",
          "data": {
            "text/plain": [
              "[0.9540107846260071, 0.790739119052887]"
            ]
          },
          "metadata": {},
          "execution_count": 44
        }
      ]
    },
    {
      "cell_type": "markdown",
      "source": [
        "Vemos que efectivamente presentamos una mejoría aunque pequeña, en el accuracy del modelo, por tanto no siempre es mejor evaluar a mayor cantidad de épocas\n"
      ],
      "metadata": {
        "id": "pPU7mhnPPnNP"
      }
    },
    {
      "cell_type": "markdown",
      "source": [
        "### Por tanto efectuaremos una regularización"
      ],
      "metadata": {
        "id": "Ky8IRJfqMsXy"
      }
    },
    {
      "cell_type": "code",
      "source": [],
      "metadata": {
        "id": "ndLWcrsCMGQN"
      },
      "execution_count": null,
      "outputs": []
    }
  ]
}