{
  "nbformat": 4,
  "nbformat_minor": 0,
  "metadata": {
    "colab": {
      "provenance": [],
      "authorship_tag": "ABX9TyOiFUcaW4thxOuxeG11ZPEO",
      "include_colab_link": true
    },
    "kernelspec": {
      "name": "python3",
      "display_name": "Python 3"
    },
    "language_info": {
      "name": "python"
    },
    "accelerator": "GPU",
    "gpuClass": "standard"
  },
  "cells": [
    {
      "cell_type": "markdown",
      "metadata": {
        "id": "view-in-github",
        "colab_type": "text"
      },
      "source": [
        "<a href=\"https://colab.research.google.com/github/simoncardenas2002/Redes-Neuronales/blob/master/mutiple_clasification.ipynb\" target=\"_parent\"><img src=\"https://colab.research.google.com/assets/colab-badge.svg\" alt=\"Open In Colab\"/></a>"
      ]
    },
    {
      "cell_type": "code",
      "execution_count": 1,
      "metadata": {
        "id": "kOq1bsm47ycy"
      },
      "outputs": [],
      "source": [
        "import numpy as np\n",
        "from keras import layers,models\n",
        "from keras.datasets import reuters"
      ]
    },
    {
      "cell_type": "markdown",
      "source": [
        "### Se importa el dataset"
      ],
      "metadata": {
        "id": "--zxsmWD872o"
      }
    },
    {
      "cell_type": "code",
      "source": [
        "(train_data,train_labels),(test_data,test_labels)=reuters.load_data(num_words=10000)"
      ],
      "metadata": {
        "colab": {
          "base_uri": "https://localhost:8080/"
        },
        "id": "e_KW4aht8MN_",
        "outputId": "01097688-45a6-4856-9951-ac7a5c0f59d9"
      },
      "execution_count": 2,
      "outputs": [
        {
          "output_type": "stream",
          "name": "stdout",
          "text": [
            "Downloading data from https://storage.googleapis.com/tensorflow/tf-keras-datasets/reuters.npz\n",
            "2110848/2110848 [==============================] - 0s 0us/step\n"
          ]
        }
      ]
    },
    {
      "cell_type": "markdown",
      "source": [
        "Organizamos los datos, primero con un índice de las palabras"
      ],
      "metadata": {
        "id": "klWKPPRE9SCW"
      }
    },
    {
      "cell_type": "code",
      "source": [
        "word_index=reuters.get_word_index()\n",
        "word_index=dict([(value,key) for (key,value) in word_index.items()])\n",
        "for _ in train_data[0]:\n",
        "  print(word_index.get(_ -3)) #el -3 se pone porque las primeras 3 palabras son palabras reservadas"
      ],
      "metadata": {
        "id": "1UPTTDBT8cZn"
      },
      "execution_count": null,
      "outputs": []
    },
    {
      "cell_type": "code",
      "source": [
        "train_data.shape"
      ],
      "metadata": {
        "colab": {
          "base_uri": "https://localhost:8080/"
        },
        "id": "WCbysULc9kIV",
        "outputId": "d72869d9-cb37-4ce6-a93c-8de8862522aa"
      },
      "execution_count": 4,
      "outputs": [
        {
          "output_type": "execute_result",
          "data": {
            "text/plain": [
              "(8982,)"
            ]
          },
          "metadata": {},
          "execution_count": 4
        }
      ]
    },
    {
      "cell_type": "markdown",
      "source": [
        "Vemos que la data de entrenamiento no es de tipo tensor, por tanto usaremos la función de vectorización"
      ],
      "metadata": {
        "id": "Z0toNiOp-GlJ"
      }
    },
    {
      "cell_type": "code",
      "source": [
        "def vectorizar(sequences,dim=10000):\n",
        "  results=np.zeros((len(sequences),dim))\n",
        "  for i, sequences in enumerate(sequences):\n",
        "    results[i,sequences]=1\n",
        "  return results"
      ],
      "metadata": {
        "id": "M1A4-jvz-Msx"
      },
      "execution_count": 5,
      "outputs": []
    },
    {
      "cell_type": "code",
      "source": [
        "x_train=vectorizar(train_data)\n",
        "x_test=vectorizar(test_data)"
      ],
      "metadata": {
        "id": "n26b3Nls-Tsr"
      },
      "execution_count": 6,
      "outputs": []
    },
    {
      "cell_type": "code",
      "source": [
        "train_labels[1]"
      ],
      "metadata": {
        "colab": {
          "base_uri": "https://localhost:8080/"
        },
        "id": "Te-oclCp_8l-",
        "outputId": "3151f85a-f386-4585-9aff-a72ae6fe5b65"
      },
      "execution_count": 7,
      "outputs": [
        {
          "output_type": "execute_result",
          "data": {
            "text/plain": [
              "4"
            ]
          },
          "metadata": {},
          "execution_count": 7
        }
      ]
    },
    {
      "cell_type": "markdown",
      "source": [
        "Debemos hacer One hot encoding"
      ],
      "metadata": {
        "id": "18N8MyGgA3mk"
      }
    },
    {
      "cell_type": "code",
      "source": [
        "from keras.utils import to_categorical"
      ],
      "metadata": {
        "id": "XueV0NzfA87x"
      },
      "execution_count": 8,
      "outputs": []
    },
    {
      "cell_type": "code",
      "source": [
        "y_train= to_categorical(train_labels)\n",
        "y_test= to_categorical(test_labels)"
      ],
      "metadata": {
        "id": "qCe7vvlrBA7S"
      },
      "execution_count": 9,
      "outputs": []
    },
    {
      "cell_type": "code",
      "source": [
        "y_train[1]"
      ],
      "metadata": {
        "colab": {
          "base_uri": "https://localhost:8080/"
        },
        "id": "dftKD0vuBRHR",
        "outputId": "aebbbaaa-2415-44c8-bb86-8a8c04abfada"
      },
      "execution_count": 10,
      "outputs": [
        {
          "output_type": "execute_result",
          "data": {
            "text/plain": [
              "array([0., 0., 0., 0., 1., 0., 0., 0., 0., 0., 0., 0., 0., 0., 0., 0., 0.,\n",
              "       0., 0., 0., 0., 0., 0., 0., 0., 0., 0., 0., 0., 0., 0., 0., 0., 0.,\n",
              "       0., 0., 0., 0., 0., 0., 0., 0., 0., 0., 0., 0.], dtype=float32)"
            ]
          },
          "metadata": {},
          "execution_count": 10
        }
      ]
    },
    {
      "cell_type": "code",
      "source": [
        "model = models.Sequential()\n",
        "model.add(layers.Dense(65,activation=\"relu\",input_shape=(10000,))) #se debe poner el input al ser la primera capa\n",
        "model.add(layers.Dense(65,activation=\"relu\"))\n",
        "model.add(layers.Dense(46,activation=\"softmax\")) #46 neuronas porque son 46 diferentes categorías, lo cual es beneficioso\n",
        "#La activación de la última capa se hizo de tipo softmax debido a que esta activación es bastante util con la clasificación múltiple\n",
        "\n"
      ],
      "metadata": {
        "id": "8NAIYAoHBkTx"
      },
      "execution_count": 11,
      "outputs": []
    },
    {
      "cell_type": "markdown",
      "source": [
        "Compilamos el modelo"
      ],
      "metadata": {
        "id": "b4OrtpkOCnd5"
      }
    },
    {
      "cell_type": "code",
      "source": [
        "#la funcion de pérdida usada es especial para la clasificación múltiple\n",
        "model.compile(optimizer=\"rmsprop\",\n",
        "              loss=\"categorical_crossentropy\",\n",
        "              metrics=[\"accuracy\"])"
      ],
      "metadata": {
        "id": "XH_EBK8CCZxJ"
      },
      "execution_count": 12,
      "outputs": []
    },
    {
      "cell_type": "markdown",
      "source": [
        "Se realiza la partición de los datos"
      ],
      "metadata": {
        "id": "XsN9O7AnDwjf"
      }
    },
    {
      "cell_type": "code",
      "source": [
        "x_val = x_train[:1000]\n",
        "partial_x_train= x_train[1000:]\n",
        "\n",
        "y_val = y_train[:1000]\n",
        "partial_y_train= y_train[1000:]\n"
      ],
      "metadata": {
        "id": "U8vYbM-6CqUs"
      },
      "execution_count": 13,
      "outputs": []
    },
    {
      "cell_type": "code",
      "source": [
        "history=model.fit(partial_x_train,partial_y_train,\n",
        "          epochs=30,\n",
        "          batch_size=512,\n",
        "          validation_data=(x_val,y_val))"
      ],
      "metadata": {
        "colab": {
          "base_uri": "https://localhost:8080/"
        },
        "id": "ucCVQaFODZ0l",
        "outputId": "48eba694-e879-47b7-9a8e-d905c78b4f92"
      },
      "execution_count": null,
      "outputs": [
        {
          "output_type": "stream",
          "name": "stdout",
          "text": [
            "Epoch 1/30\n",
            "16/16 [==============================] - 2s 106ms/step - loss: 2.9208 - accuracy: 0.4812 - val_loss: 1.9532 - val_accuracy: 0.6280\n",
            "Epoch 2/30\n",
            "16/16 [==============================] - 2s 95ms/step - loss: 1.6319 - accuracy: 0.6793 - val_loss: 1.4473 - val_accuracy: 0.6900\n",
            "Epoch 3/30\n",
            "16/16 [==============================] - 1s 62ms/step - loss: 1.2261 - accuracy: 0.7444 - val_loss: 1.2251 - val_accuracy: 0.7390\n",
            "Epoch 4/30\n",
            "16/16 [==============================] - 1s 54ms/step - loss: 0.9908 - accuracy: 0.7955 - val_loss: 1.1203 - val_accuracy: 0.7630\n",
            "Epoch 5/30\n",
            "16/16 [==============================] - 1s 55ms/step - loss: 0.8174 - accuracy: 0.8291 - val_loss: 1.0164 - val_accuracy: 0.8010\n",
            "Epoch 6/30\n",
            "16/16 [==============================] - 1s 56ms/step - loss: 0.6840 - accuracy: 0.8572 - val_loss: 0.9978 - val_accuracy: 0.8010\n",
            "Epoch 7/30\n",
            "16/16 [==============================] - 1s 56ms/step - loss: 0.5731 - accuracy: 0.8802 - val_loss: 0.9272 - val_accuracy: 0.8150\n",
            "Epoch 8/30\n",
            "16/16 [==============================] - 1s 53ms/step - loss: 0.4846 - accuracy: 0.8994 - val_loss: 0.9037 - val_accuracy: 0.8120\n",
            "Epoch 9/30\n",
            "16/16 [==============================] - 1s 54ms/step - loss: 0.4057 - accuracy: 0.9154 - val_loss: 0.8725 - val_accuracy: 0.8190\n",
            "Epoch 10/30\n",
            "16/16 [==============================] - 1s 54ms/step - loss: 0.3511 - accuracy: 0.9262 - val_loss: 0.8957 - val_accuracy: 0.8050\n",
            "Epoch 11/30\n",
            "16/16 [==============================] - 1s 55ms/step - loss: 0.3011 - accuracy: 0.9337 - val_loss: 0.8765 - val_accuracy: 0.8200\n",
            "Epoch 12/30\n",
            "16/16 [==============================] - 1s 53ms/step - loss: 0.2660 - accuracy: 0.9412 - val_loss: 0.8838 - val_accuracy: 0.8200\n",
            "Epoch 13/30\n",
            "16/16 [==============================] - 1s 55ms/step - loss: 0.2302 - accuracy: 0.9469 - val_loss: 0.8638 - val_accuracy: 0.8240\n",
            "Epoch 14/30\n",
            "16/16 [==============================] - 1s 69ms/step - loss: 0.2113 - accuracy: 0.9491 - val_loss: 0.8906 - val_accuracy: 0.8200\n",
            "Epoch 15/30\n",
            "16/16 [==============================] - 1s 94ms/step - loss: 0.1899 - accuracy: 0.9500 - val_loss: 0.8954 - val_accuracy: 0.8130\n",
            "Epoch 16/30\n",
            "16/16 [==============================] - 1s 74ms/step - loss: 0.1758 - accuracy: 0.9540 - val_loss: 0.9336 - val_accuracy: 0.8060\n",
            "Epoch 17/30\n",
            "16/16 [==============================] - 1s 58ms/step - loss: 0.1654 - accuracy: 0.9520 - val_loss: 0.9315 - val_accuracy: 0.8150\n",
            "Epoch 18/30\n",
            "16/16 [==============================] - 1s 55ms/step - loss: 0.1532 - accuracy: 0.9557 - val_loss: 0.9335 - val_accuracy: 0.8170\n",
            "Epoch 19/30\n",
            "16/16 [==============================] - 1s 52ms/step - loss: 0.1473 - accuracy: 0.9560 - val_loss: 0.9479 - val_accuracy: 0.8160\n",
            "Epoch 20/30\n",
            "16/16 [==============================] - 1s 52ms/step - loss: 0.1407 - accuracy: 0.9574 - val_loss: 0.9234 - val_accuracy: 0.8130\n",
            "Epoch 21/30\n",
            "16/16 [==============================] - 1s 54ms/step - loss: 0.1333 - accuracy: 0.9562 - val_loss: 0.9368 - val_accuracy: 0.8170\n",
            "Epoch 22/30\n",
            "16/16 [==============================] - 1s 52ms/step - loss: 0.1328 - accuracy: 0.9557 - val_loss: 0.9421 - val_accuracy: 0.8160\n",
            "Epoch 23/30\n",
            "16/16 [==============================] - 1s 53ms/step - loss: 0.1275 - accuracy: 0.9558 - val_loss: 1.0020 - val_accuracy: 0.8070\n",
            "Epoch 24/30\n",
            "16/16 [==============================] - 1s 54ms/step - loss: 0.1214 - accuracy: 0.9577 - val_loss: 0.9655 - val_accuracy: 0.8260\n",
            "Epoch 25/30\n",
            "16/16 [==============================] - 1s 52ms/step - loss: 0.1180 - accuracy: 0.9582 - val_loss: 0.9773 - val_accuracy: 0.8100\n",
            "Epoch 26/30\n",
            "16/16 [==============================] - 1s 54ms/step - loss: 0.1172 - accuracy: 0.9583 - val_loss: 0.9772 - val_accuracy: 0.8160\n",
            "Epoch 27/30\n",
            "16/16 [==============================] - 1s 57ms/step - loss: 0.1170 - accuracy: 0.9570 - val_loss: 0.9917 - val_accuracy: 0.8130\n",
            "Epoch 28/30\n",
            "16/16 [==============================] - 1s 86ms/step - loss: 0.1117 - accuracy: 0.9578 - val_loss: 0.9700 - val_accuracy: 0.8220\n",
            "Epoch 29/30\n",
            "16/16 [==============================] - 1s 90ms/step - loss: 0.1065 - accuracy: 0.9604 - val_loss: 1.0153 - val_accuracy: 0.8170\n",
            "Epoch 30/30\n",
            "16/16 [==============================] - 1s 57ms/step - loss: 0.1088 - accuracy: 0.9595 - val_loss: 1.0127 - val_accuracy: 0.8130\n"
          ]
        }
      ]
    },
    {
      "cell_type": "code",
      "source": [
        "import matplotlib.pyplot as plt\n",
        "\n",
        "#Obtenemos un diccionario del cambio de los valores en el entrenamiento\n",
        "history_dict=history.history\n",
        "\n",
        "loss_values=history_dict[\"loss\"]\n",
        "val_loss_values=history_dict[\"val_loss\"]\n",
        "\n",
        "fig=plt.figure(figsize=(10,10))\n",
        "epoch=range(1,len(loss_values)+1)\n",
        "plt.plot(epoch,loss_values,\"o\",label=\"Training\")\n",
        "plt.plot(epoch,val_loss_values,\"--\",label=\"Validation\")\n",
        "plt.legend()\n",
        "plt.show()"
      ],
      "metadata": {
        "colab": {
          "base_uri": "https://localhost:8080/",
          "height": 592
        },
        "id": "izk_ed2ED91l",
        "outputId": "d739e073-5014-42e0-9107-149497c9a86b"
      },
      "execution_count": null,
      "outputs": [
        {
          "output_type": "display_data",
          "data": {
            "text/plain": [
              "<Figure size 720x720 with 1 Axes>"
            ],
            "image/png": "[encoded data removed]"
          },
          "metadata": {
            "needs_background": "light"
          }
        }
      ]
    },
    {
      "cell_type": "markdown",
      "source": [
        "Podemos ver que despues hay una gran diferencia en la pérdida de los valores de validación con la pérdida lo cual nos indica que nuestro modelo esta presentando Overfitting, donde nuestra red se aprende los valores de validación"
      ],
      "metadata": {
        "id": "1fTjDBrqMU2c"
      }
    },
    {
      "cell_type": "code",
      "source": [
        "history_dict=history.history\n",
        "\n",
        "accuracy_values=history_dict[\"accuracy\"]\n",
        "val_accuracy_values=history_dict[\"val_accuracy\"]\n",
        "\n",
        "fig=plt.figure(figsize=(10,10))\n",
        "epoch=range(1,len(loss_values)+1)\n",
        "plt.plot(epoch,accuracy_values,\"o\",label=\"Training\")\n",
        "plt.plot(epoch,val_accuracy_values,\"--\",label=\"Validation\")\n",
        "plt.legend()\n",
        "plt.show()"
      ],
      "metadata": {
        "colab": {
          "base_uri": "https://localhost:8080/",
          "height": 592
        },
        "id": "4dN7UNJ_M1YD",
        "outputId": "af03ec74-30b3-4304-eb09-6edd3cb327b0"
      },
      "execution_count": null,
      "outputs": [
        {
          "output_type": "display_data",
          "data": {
            "text/plain": [
              "<Figure size 720x720 with 1 Axes>"
            ],
            "image/png": "[encoded data removed]"
          },
          "metadata": {
            "needs_background": "light"
          }
        }
      ]
    },
    {
      "cell_type": "markdown",
      "source": [
        "Aca tambien vemos lo mismo, el accuracy de training casi perfecto, mientras que la validación parece estancarse en un determinado punto"
      ],
      "metadata": {
        "id": "4YMTBdsdNF2E"
      }
    },
    {
      "cell_type": "code",
      "source": [
        "# al ver que el modelo presenta el overfitting despues de la epoca 9\n",
        "model.evaluate(x_test,y_test)"
      ],
      "metadata": {
        "colab": {
          "base_uri": "https://localhost:8080/"
        },
        "id": "YJiHG87tNYH-",
        "outputId": "8a1d2736-3188-4760-a2e7-135ba0f031cf"
      },
      "execution_count": null,
      "outputs": [
        {
          "output_type": "stream",
          "name": "stdout",
          "text": [
            "71/71 [==============================] - 0s 4ms/step - loss: 1.1238 - accuracy: 0.7912\n"
          ]
        },
        {
          "output_type": "execute_result",
          "data": {
            "text/plain": [
              "[1.123759388923645, 0.7911843061447144]"
            ]
          },
          "metadata": {},
          "execution_count": 35
        }
      ]
    },
    {
      "cell_type": "markdown",
      "source": [
        "Se entrenará otro modelo con solo 9 épocas para analizar el cambio"
      ],
      "metadata": {
        "id": "VPRarZ67NuuD"
      }
    },
    {
      "cell_type": "code",
      "source": [
        "history2=model.fit(partial_x_train,partial_y_train,\n",
        "          epochs=9,\n",
        "          batch_size=512,\n",
        "          validation_data=(x_val,y_val))"
      ],
      "metadata": {
        "colab": {
          "base_uri": "https://localhost:8080/"
        },
        "id": "j2gVD5A5Ns32",
        "outputId": "2eda1f04-9141-4edf-8e29-ed08b15650d4"
      },
      "execution_count": 14,
      "outputs": [
        {
          "output_type": "stream",
          "name": "stdout",
          "text": [
            "Epoch 1/9\n",
            "16/16 [==============================] - 2s 79ms/step - loss: 2.5588 - accuracy: 0.5299 - val_loss: 1.7047 - val_accuracy: 0.6380\n",
            "Epoch 2/9\n",
            "16/16 [==============================] - 1s 57ms/step - loss: 1.4621 - accuracy: 0.6954 - val_loss: 1.3441 - val_accuracy: 0.7010\n",
            "Epoch 3/9\n",
            "16/16 [==============================] - 1s 56ms/step - loss: 1.1410 - accuracy: 0.7536 - val_loss: 1.1815 - val_accuracy: 0.7270\n",
            "Epoch 4/9\n",
            "16/16 [==============================] - 1s 55ms/step - loss: 0.9320 - accuracy: 0.7948 - val_loss: 1.0774 - val_accuracy: 0.7670\n",
            "Epoch 5/9\n",
            "16/16 [==============================] - 1s 54ms/step - loss: 0.7646 - accuracy: 0.8353 - val_loss: 1.0000 - val_accuracy: 0.7840\n",
            "Epoch 6/9\n",
            "16/16 [==============================] - 1s 57ms/step - loss: 0.6328 - accuracy: 0.8654 - val_loss: 0.9427 - val_accuracy: 0.7920\n",
            "Epoch 7/9\n",
            "16/16 [==============================] - 1s 91ms/step - loss: 0.5244 - accuracy: 0.8903 - val_loss: 0.9120 - val_accuracy: 0.8100\n",
            "Epoch 8/9\n",
            "16/16 [==============================] - 2s 110ms/step - loss: 0.4320 - accuracy: 0.9093 - val_loss: 0.8795 - val_accuracy: 0.8130\n",
            "Epoch 9/9\n",
            "16/16 [==============================] - 3s 180ms/step - loss: 0.3666 - accuracy: 0.9222 - val_loss: 0.8647 - val_accuracy: 0.8180\n"
          ]
        }
      ]
    },
    {
      "cell_type": "code",
      "source": [
        "import matplotlib.pyplot as plt\n",
        "\n",
        "history2_dict=history2.history\n",
        "\n",
        "accuracy_values2=history2_dict[\"accuracy\"]\n",
        "val_accuracy_values2=history2_dict[\"val_accuracy\"]\n",
        "\n",
        "fig=plt.figure(figsize=(10,10))\n",
        "epoch=range(1,len(accuracy_values2)+1)\n",
        "plt.plot(epoch,accuracy_values2,\"o\",label=\"Training\")\n",
        "plt.plot(epoch,val_accuracy_values2,\"--\",label=\"Validation\")\n",
        "plt.legend()\n",
        "plt.show()"
      ],
      "metadata": {
        "colab": {
          "base_uri": "https://localhost:8080/",
          "height": 592
        },
        "id": "T8AttCzvOMTh",
        "outputId": "bb37e034-c32c-4c6e-d9e7-29d92a51468d"
      },
      "execution_count": 16,
      "outputs": [
        {
          "output_type": "display_data",
          "data": {
            "text/plain": [
              "<Figure size 720x720 with 1 Axes>"
            ],
            "image/png": "[encoded data removed]"
          },
          "metadata": {
            "needs_background": "light"
          }
        }
      ]
    },
    {
      "cell_type": "code",
      "source": [
        "model.evaluate(x_test,y_test)"
      ],
      "metadata": {
        "colab": {
          "base_uri": "https://localhost:8080/"
        },
        "id": "n1sh5UTzPorI",
        "outputId": "2342415d-0e1c-4265-aae6-309357bbf101"
      },
      "execution_count": 17,
      "outputs": [
        {
          "output_type": "stream",
          "name": "stdout",
          "text": [
            "71/71 [==============================] - 0s 4ms/step - loss: 0.9310 - accuracy: 0.7894\n"
          ]
        },
        {
          "output_type": "execute_result",
          "data": {
            "text/plain": [
              "[0.9309667944908142, 0.7894033789634705]"
            ]
          },
          "metadata": {},
          "execution_count": 17
        }
      ]
    },
    {
      "cell_type": "markdown",
      "source": [
        "Vemos que efectivamente presentamos una mejoría aunque pequeña, en el accuracy del modelo, por tanto no siempre es mejor evaluar a mayor cantidad de épocas\n"
      ],
      "metadata": {
        "id": "pPU7mhnPPnNP"
      }
    },
    {
      "cell_type": "code",
      "source": [
        "#Realizaremos una predicción usando el modelo\n",
        "predictions=model.predict(x_test)"
      ],
      "metadata": {
        "id": "1bVv2MX65pSh",
        "outputId": "7e901d3f-caea-4447-df58-b51e1a442b4d",
        "colab": {
          "base_uri": "https://localhost:8080/"
        }
      },
      "execution_count": 19,
      "outputs": [
        {
          "output_type": "stream",
          "name": "stdout",
          "text": [
            "71/71 [==============================] - 1s 5ms/step\n"
          ]
        }
      ]
    },
    {
      "cell_type": "code",
      "source": [
        "predictions[0]"
      ],
      "metadata": {
        "id": "74lpBeEZ5-vf",
        "outputId": "20eaace7-2ca5-46bf-8908-4b121c3632ad",
        "colab": {
          "base_uri": "https://localhost:8080/"
        }
      },
      "execution_count": 20,
      "outputs": [
        {
          "output_type": "execute_result",
          "data": {
            "text/plain": [
              "array([2.14840929e-05, 1.18304139e-04, 5.24280722e-06, 8.73763859e-01,\n",
              "       1.18146189e-01, 5.96036125e-06, 8.21020803e-05, 1.35141847e-04,\n",
              "       2.09727394e-03, 3.36415505e-05, 3.05827307e-05, 2.97146966e-04,\n",
              "       2.51565361e-04, 6.13401498e-05, 2.07217490e-05, 1.44103742e-05,\n",
              "       1.54080219e-03, 2.10094542e-04, 1.06286199e-04, 1.34602271e-03,\n",
              "       3.66567285e-04, 1.28414264e-04, 1.57037139e-05, 1.13022761e-04,\n",
              "       1.49575112e-06, 2.52473747e-05, 1.95584489e-05, 1.33255353e-05,\n",
              "       4.70435079e-05, 1.36888033e-04, 7.50325635e-05, 2.73730639e-05,\n",
              "       1.18121225e-05, 2.03382679e-05, 2.02271141e-04, 1.09011780e-05,\n",
              "       1.16092517e-04, 6.56327611e-05, 3.42969111e-06, 2.39675486e-04,\n",
              "       3.76815842e-06, 2.60612869e-05, 1.83686097e-05, 1.78929658e-05,\n",
              "       3.52740494e-06, 2.11414454e-06], dtype=float32)"
            ]
          },
          "metadata": {},
          "execution_count": 20
        }
      ]
    },
    {
      "cell_type": "code",
      "source": [
        "np.sum(predictions[0])"
      ],
      "metadata": {
        "id": "Vmfa60GR6Hf3",
        "outputId": "44fb647a-5899-4530-e968-a7dde710c33b",
        "colab": {
          "base_uri": "https://localhost:8080/"
        }
      },
      "execution_count": 21,
      "outputs": [
        {
          "output_type": "execute_result",
          "data": {
            "text/plain": [
              "0.99999964"
            ]
          },
          "metadata": {},
          "execution_count": 21
        }
      ]
    },
    {
      "cell_type": "markdown",
      "source": [
        "Cabe resaltar que siempre esta suma , al ser la suma de las probabilidades debe dar igual a 1"
      ],
      "metadata": {
        "id": "_mkcUHxk6LJE"
      }
    },
    {
      "cell_type": "code",
      "source": [
        "np.argmax(predictions[0])"
      ],
      "metadata": {
        "id": "CvAtNgzg6aV7",
        "outputId": "0a6efd5c-76cf-4537-a59e-dd6b2d9d84d3",
        "colab": {
          "base_uri": "https://localhost:8080/"
        }
      },
      "execution_count": 22,
      "outputs": [
        {
          "output_type": "execute_result",
          "data": {
            "text/plain": [
              "3"
            ]
          },
          "metadata": {},
          "execution_count": 22
        }
      ]
    },
    {
      "cell_type": "markdown",
      "source": [
        "### Ahora efectuaremos una regularización para ver posibles mejoras"
      ],
      "metadata": {
        "id": "Ky8IRJfqMsXy"
      }
    },
    {
      "cell_type": "markdown",
      "source": [
        "1) Probaremos DROPOUT"
      ],
      "metadata": {
        "id": "sas4S91S7DVs"
      }
    },
    {
      "cell_type": "code",
      "source": [
        "model2 = models.Sequential()\n",
        "model2.add(layers.Dense(64,activation=\"relu\",input_shape=(10000,))) #se debe poner el input al ser la primera capa\n",
        "model2.add(layers.Dropout(0.5))\n",
        "model2.add(layers.Dense(64,activation=\"relu\"))\n",
        "model2.add(layers.Dropout(0.25))\n",
        "model2.add(layers.Dense(46,activation=\"softmax\")) #46 neuronas porque son 46 diferentes categorías, lo cual es beneficioso\n",
        "#La activación de la última capa se hizo de tipo softmax debido a que esta activación es bastante util con la clasificación múltiple\n",
        "\n",
        "#Compilaremos\n",
        "model2.compile(optimizer=\"rmsprop\",\n",
        "              loss=\"categorical_crossentropy\",\n",
        "              metrics=[\"accuracy\"])\n"
      ],
      "metadata": {
        "id": "ndLWcrsCMGQN"
      },
      "execution_count": 23,
      "outputs": []
    },
    {
      "cell_type": "code",
      "source": [
        "\n",
        "history_model2=model2.fit(partial_x_train,partial_y_train,\n",
        "          epochs=30,\n",
        "          batch_size=512,\n",
        "          validation_data=(x_val,y_val))"
      ],
      "metadata": {
        "id": "X4qtbMhy8OQS"
      },
      "execution_count": null,
      "outputs": []
    },
    {
      "cell_type": "code",
      "source": [
        "history_model2_dict=history_model2.history\n",
        "\n",
        "accuracy_values2=history_model2_dict[\"accuracy\"]\n",
        "val_accuracy_values2=history_model2_dict[\"val_accuracy\"]\n",
        "\n",
        "fig=plt.figure(figsize=(10,10))\n",
        "epoch=range(1,len(accuracy_values2)+1)\n",
        "plt.plot(epoch,accuracy_values2,\"o\",label=\"Training\")\n",
        "plt.plot(epoch,val_accuracy_values2,\"--\",label=\"Validation\")\n",
        "plt.legend()\n",
        "plt.show()"
      ],
      "metadata": {
        "id": "wh4zlJ5i8SDD",
        "outputId": "6c226f0e-d5fe-49a9-d00f-36ce39b3e7c6",
        "colab": {
          "base_uri": "https://localhost:8080/",
          "height": 592
        }
      },
      "execution_count": 25,
      "outputs": [
        {
          "output_type": "display_data",
          "data": {
            "text/plain": [
              "<Figure size 720x720 with 1 Axes>"
            ],
            "image/png": "[encoded data removed]"
          },
          "metadata": {
            "needs_background": "light"
          }
        }
      ]
    },
    {
      "cell_type": "code",
      "source": [
        "history_model2_dict=history_model2.history\n",
        "\n",
        "accuracy_values2=history_model2_dict[\"loss\"]\n",
        "val_accuracy_values2=history_model2_dict[\"val_loss\"]\n",
        "\n",
        "fig=plt.figure(figsize=(10,10))\n",
        "epoch=range(1,len(accuracy_values2)+1)\n",
        "plt.plot(epoch,accuracy_values2,\"o\",label=\"Training\")\n",
        "plt.plot(epoch,val_accuracy_values2,\"--\",label=\"Validation\")\n",
        "plt.legend()\n",
        "plt.show()"
      ],
      "metadata": {
        "id": "Le-tyXWg9ruo",
        "outputId": "7ecebc9a-985d-4f5e-de0a-a65d8a0634f0",
        "colab": {
          "base_uri": "https://localhost:8080/",
          "height": 592
        }
      },
      "execution_count": 26,
      "outputs": [
        {
          "output_type": "display_data",
          "data": {
            "text/plain": [
              "<Figure size 720x720 with 1 Axes>"
            ],
            "image/png": "[encoded data removed]"
          },
          "metadata": {
            "needs_background": "light"
          }
        }
      ]
    },
    {
      "cell_type": "markdown",
      "source": [
        "Efectivamente vemos con el dropout un mejor comportamiento de los datos de entrenamiento y validación, sin embargo sigue pareciendo mas conveniente usar menor cantidad de épocas"
      ],
      "metadata": {
        "id": "4Kn-GW4k8rbB"
      }
    },
    {
      "cell_type": "code",
      "source": [
        "model.evaluate(x_test,y_test)"
      ],
      "metadata": {
        "id": "rjdy67VE8xr7",
        "outputId": "26694659-5872-4405-ddc7-629771d8ef37",
        "colab": {
          "base_uri": "https://localhost:8080/"
        }
      },
      "execution_count": 27,
      "outputs": [
        {
          "output_type": "stream",
          "name": "stdout",
          "text": [
            "71/71 [==============================] - 0s 6ms/step - loss: 0.9310 - accuracy: 0.7894\n"
          ]
        },
        {
          "output_type": "execute_result",
          "data": {
            "text/plain": [
              "[0.9309667944908142, 0.7894033789634705]"
            ]
          },
          "metadata": {},
          "execution_count": 27
        }
      ]
    },
    {
      "cell_type": "markdown",
      "source": [
        "#### Reduciremos la cantidad de épocas y probaremos"
      ],
      "metadata": {
        "id": "G7fdZ8Nj96ed"
      }
    },
    {
      "cell_type": "code",
      "source": [
        "model2 = models.Sequential()\n",
        "model2.add(layers.Dense(64,activation=\"relu\",input_shape=(10000,))) #se debe poner el input al ser la primera capa\n",
        "model2.add(layers.Dropout(0.5))\n",
        "model2.add(layers.Dense(64,activation=\"relu\"))\n",
        "model2.add(layers.Dropout(0.5))\n",
        "model2.add(layers.Dense(46,activation=\"softmax\")) #46 neuronas porque son 46 diferentes categorías, lo cual es beneficioso\n",
        "#La activación de la última capa se hizo de tipo softmax debido a que esta activación es bastante util con la clasificación múltiple\n",
        "\n",
        "#Compilaremos\n",
        "model2.compile(optimizer=\"rmsprop\",\n",
        "              loss=\"categorical_crossentropy\",\n",
        "              metrics=[\"accuracy\"])\n",
        "\n",
        "history_model2=model2.fit(partial_x_train,partial_y_train,\n",
        "          epochs=12,\n",
        "          batch_size=512,\n",
        "          validation_data=(x_val,y_val))\n",
        "\n",
        "history_model2_dict=history_model2.history\n",
        "\n",
        "accuracy_values2=history_model2_dict[\"accuracy\"]\n",
        "val_accuracy_values2=history_model2_dict[\"val_accuracy\"]\n",
        "\n",
        "fig=plt.figure(figsize=(10,10))\n",
        "epoch=range(1,len(accuracy_values2)+1)\n",
        "plt.plot(epoch,accuracy_values2,\"o\",label=\"Training\")\n",
        "plt.plot(epoch,val_accuracy_values2,\"--\",label=\"Validation\")\n",
        "plt.legend()\n",
        "plt.show()\n"
      ],
      "metadata": {
        "id": "Rdngxk_Q9_pd",
        "outputId": "f8c7b060-7ba2-496b-d6a3-bd2429854d37",
        "colab": {
          "base_uri": "https://localhost:8080/",
          "height": 1000
        }
      },
      "execution_count": 28,
      "outputs": [
        {
          "output_type": "stream",
          "name": "stdout",
          "text": [
            "Epoch 1/12\n",
            "16/16 [==============================] - 2s 101ms/step - loss: 2.9649 - accuracy: 0.3591 - val_loss: 1.9858 - val_accuracy: 0.5510\n",
            "Epoch 2/12\n",
            "16/16 [==============================] - 1s 56ms/step - loss: 2.0253 - accuracy: 0.5269 - val_loss: 1.5978 - val_accuracy: 0.6190\n",
            "Epoch 3/12\n",
            "16/16 [==============================] - 1s 57ms/step - loss: 1.7113 - accuracy: 0.5844 - val_loss: 1.4346 - val_accuracy: 0.6580\n",
            "Epoch 4/12\n",
            "16/16 [==============================] - 1s 54ms/step - loss: 1.5332 - accuracy: 0.6336 - val_loss: 1.3295 - val_accuracy: 0.6850\n",
            "Epoch 5/12\n",
            "16/16 [==============================] - 1s 54ms/step - loss: 1.3953 - accuracy: 0.6561 - val_loss: 1.2579 - val_accuracy: 0.7090\n",
            "Epoch 6/12\n",
            "16/16 [==============================] - 1s 52ms/step - loss: 1.3012 - accuracy: 0.6829 - val_loss: 1.2032 - val_accuracy: 0.7180\n",
            "Epoch 7/12\n",
            "16/16 [==============================] - 1s 84ms/step - loss: 1.2381 - accuracy: 0.7048 - val_loss: 1.1529 - val_accuracy: 0.7350\n",
            "Epoch 8/12\n",
            "16/16 [==============================] - 1s 93ms/step - loss: 1.1571 - accuracy: 0.7199 - val_loss: 1.1192 - val_accuracy: 0.7440\n",
            "Epoch 9/12\n",
            "16/16 [==============================] - 1s 69ms/step - loss: 1.1029 - accuracy: 0.7358 - val_loss: 1.0971 - val_accuracy: 0.7550\n",
            "Epoch 10/12\n",
            "16/16 [==============================] - 1s 54ms/step - loss: 1.0477 - accuracy: 0.7427 - val_loss: 1.0730 - val_accuracy: 0.7590\n",
            "Epoch 11/12\n",
            "16/16 [==============================] - 1s 56ms/step - loss: 0.9926 - accuracy: 0.7543 - val_loss: 1.0478 - val_accuracy: 0.7640\n",
            "Epoch 12/12\n",
            "16/16 [==============================] - 1s 57ms/step - loss: 0.9507 - accuracy: 0.7684 - val_loss: 1.0346 - val_accuracy: 0.7700\n"
          ]
        },
        {
          "output_type": "display_data",
          "data": {
            "text/plain": [
              "<Figure size 720x720 with 1 Axes>"
            ],
            "image/png": "[encoded data removed]"
          },
          "metadata": {
            "needs_background": "light"
          }
        }
      ]
    },
    {
      "cell_type": "code",
      "source": [
        "history_model2_dict=history_model2.history\n",
        "\n",
        "accuracy_values2=history_model2_dict[\"loss\"]\n",
        "val_accuracy_values2=history_model2_dict[\"val_loss\"]\n",
        "\n",
        "fig=plt.figure(figsize=(10,10))\n",
        "epoch=range(1,len(accuracy_values2)+1)\n",
        "plt.plot(epoch,accuracy_values2,\"o\",label=\"Training\")\n",
        "plt.plot(epoch,val_accuracy_values2,\"--\",label=\"Validation\")\n",
        "plt.legend()\n",
        "plt.show()"
      ],
      "metadata": {
        "id": "voJhoIGg-iRH",
        "outputId": "7875a645-2ff4-423a-a43c-1f48d8580bd9",
        "colab": {
          "base_uri": "https://localhost:8080/",
          "height": 592
        }
      },
      "execution_count": 29,
      "outputs": [
        {
          "output_type": "display_data",
          "data": {
            "text/plain": [
              "<Figure size 720x720 with 1 Axes>"
            ],
            "image/png": "[encoded data removed]"
          },
          "metadata": {
            "needs_background": "light"
          }
        }
      ]
    },
    {
      "cell_type": "code",
      "source": [
        "model.evaluate(x_test,y_test)"
      ],
      "metadata": {
        "id": "qrAwxxtU-lRk",
        "outputId": "4f1583e4-80b8-47d4-b7dc-28caa262c741",
        "colab": {
          "base_uri": "https://localhost:8080/"
        }
      },
      "execution_count": 30,
      "outputs": [
        {
          "output_type": "stream",
          "name": "stdout",
          "text": [
            "71/71 [==============================] - 1s 13ms/step - loss: 0.9310 - accuracy: 0.7894\n"
          ]
        },
        {
          "output_type": "execute_result",
          "data": {
            "text/plain": [
              "[0.9309667944908142, 0.7894033789634705]"
            ]
          },
          "metadata": {},
          "execution_count": 30
        }
      ]
    },
    {
      "cell_type": "markdown",
      "source": [
        "## Aca finalizamos viendo que con un dropout del 50% en ambas capas y reduciendo la cantidad de epocas, mejoró un poco el modelo"
      ],
      "metadata": {
        "id": "Rzm1Pjej-seQ"
      }
    }
  ]
}