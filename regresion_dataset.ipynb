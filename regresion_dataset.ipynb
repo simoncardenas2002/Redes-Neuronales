{
  "nbformat": 4,
  "nbformat_minor": 0,
  "metadata": {
    "colab": {
      "provenance": [],
      "authorship_tag": "ABX9TyONBFrxc/xXEArtAxmt6RcI",
      "include_colab_link": true
    },
    "kernelspec": {
      "name": "python3",
      "display_name": "Python 3"
    },
    "language_info": {
      "name": "python"
    }
  },
  "cells": [
    {
      "cell_type": "markdown",
      "metadata": {
        "id": "view-in-github",
        "colab_type": "text"
      },
      "source": [
        "<a href=\"https://colab.research.google.com/github/simoncardenas2002/Redes-Neuronales/blob/master/regresion_dataset.ipynb\" target=\"_parent\"><img src=\"https://colab.research.google.com/assets/colab-badge.svg\" alt=\"Open In Colab\"/></a>"
      ]
    },
    {
      "cell_type": "code",
      "execution_count": 2,
      "metadata": {
        "id": "IewNLmo3KoZo"
      },
      "outputs": [],
      "source": [
        "import pandas as pd\n",
        "import numpy as np\n",
        "from keras.datasets import boston_housing\n",
        "from keras import layers, models, optimizers"
      ]
    },
    {
      "cell_type": "code",
      "source": [
        "(train_data,train_labels),(test_data,test_labels)=boston_housing.load_data()\n"
      ],
      "metadata": {
        "colab": {
          "base_uri": "https://localhost:8080/"
        },
        "id": "tmM4mOP6K5VC",
        "outputId": "4e053151-a006-4638-a1ad-2481d0bd66fa"
      },
      "execution_count": 3,
      "outputs": [
        {
          "output_type": "stream",
          "name": "stdout",
          "text": [
            "Downloading data from https://storage.googleapis.com/tensorflow/tf-keras-datasets/boston_housing.npz\n",
            "57026/57026 [==============================] - 0s 0us/step\n"
          ]
        }
      ]
    },
    {
      "cell_type": "code",
      "source": [
        "train_data[0]"
      ],
      "metadata": {
        "colab": {
          "base_uri": "https://localhost:8080/"
        },
        "id": "5LZ7tUnALCvu",
        "outputId": "8e060599-27ab-44e3-b7df-e62806bb4035"
      },
      "execution_count": 9,
      "outputs": [
        {
          "output_type": "execute_result",
          "data": {
            "text/plain": [
              "array([  1.23247,   0.     ,   8.14   ,   0.     ,   0.538  ,   6.142  ,\n",
              "        91.7    ,   3.9769 ,   4.     , 307.     ,  21.     , 396.9    ,\n",
              "        18.72   ])"
            ]
          },
          "metadata": {},
          "execution_count": 9
        }
      ]
    },
    {
      "cell_type": "code",
      "source": [
        "train_labels[0]"
      ],
      "metadata": {
        "colab": {
          "base_uri": "https://localhost:8080/"
        },
        "id": "CiDoYhuyLHXR",
        "outputId": "f153e432-5f4b-40e6-ef24-100107856daf"
      },
      "execution_count": 8,
      "outputs": [
        {
          "output_type": "execute_result",
          "data": {
            "text/plain": [
              "15.2"
            ]
          },
          "metadata": {},
          "execution_count": 8
        }
      ]
    },
    {
      "cell_type": "markdown",
      "source": [
        "Para evitar que el modelo experimente un sesgo debido a las grandes diferencias de magnitud de los valores, debemos realizar un proceso de normalización"
      ],
      "metadata": {
        "id": "rWrnenhUMBvV"
      }
    },
    {
      "cell_type": "code",
      "source": [
        "#restaremos la media y dividirimos por la desv estandar, para normalizar de 0 a 1 todos los datos"
      ],
      "metadata": {
        "id": "eRrLrBzmMa7D"
      },
      "execution_count": null,
      "outputs": []
    },
    {
      "cell_type": "code",
      "source": [
        "mean = train_data.mean(axis=0) #media de los valores de cada una de las columnas\n",
        "train_data = train_data - mean\n",
        "std = train_data.std(axis=0)\n",
        "train_data= train_data/std\n",
        "\n",
        "test_data = test_data -mean #La razón por la cual utilizamos la media y la desviación\n",
        "test_data = test_data /std  # de la data de entrenamiento es por ética, debido a que\n",
        "                            # a los datos de test, no les debería dar ninguna información de si mismos "
      ],
      "metadata": {
        "id": "hw-vtTPAMgMU"
      },
      "execution_count": 12,
      "outputs": []
    },
    {
      "cell_type": "markdown",
      "source": [
        "### Crearemos el modelo"
      ],
      "metadata": {
        "id": "V_L6xiLvOrl2"
      }
    },
    {
      "cell_type": "code",
      "source": [
        "def build_model_regression(lr_var,input_data):\n",
        "  model = models.Sequential()\n",
        "  model.add (layers.Dense(64,activation= \"relu\",input_shape=(input_data,)))\n",
        "  model.add(layers.Dense(64,activation=\"relu\"))\n",
        "  model.add(layers.Dense(1)) #al ser lineal, no necesito poner una función de activación\n",
        "\n",
        "  model.compile(optimizer=optimizers.RMSprop(lr=lr_var),\n",
        "                loss=\"mse\",\n",
        "                metrics=[\"mae\"])\n",
        "  return model"
      ],
      "metadata": {
        "id": "aRczEpzHOp-Y"
      },
      "execution_count": 35,
      "outputs": []
    },
    {
      "cell_type": "code",
      "source": [
        "k = 4\n",
        "num_val_samples = len(train_data) // k\n",
        "num_empoch =85\n",
        "all_history=[]"
      ],
      "metadata": {
        "id": "qR-dqGPBREaA"
      },
      "execution_count": 45,
      "outputs": []
    },
    {
      "cell_type": "code",
      "source": [
        "valor=2\n",
        "num_val_samples"
      ],
      "metadata": {
        "colab": {
          "base_uri": "https://localhost:8080/"
        },
        "id": "okqTbVT9RtgP",
        "outputId": "582930df-5e1b-40d9-ab12-e25c7860f316"
      },
      "execution_count": 27,
      "outputs": [
        {
          "output_type": "execute_result",
          "data": {
            "text/plain": [
              "101"
            ]
          },
          "metadata": {},
          "execution_count": 27
        }
      ]
    },
    {
      "cell_type": "code",
      "source": [
        "for i in range(k):\n",
        "  print(\"fold: \",i)\n",
        "  val_data= train_data[i*num_val_samples : (i+1) * num_val_samples]\n",
        "  val_targets=train_labels[i*num_val_samples : (i+1)* num_val_samples]\n",
        "\n",
        "  partial_train_data= np.concatenate(\n",
        "      [train_data[:i *num_val_samples],\n",
        "       train_data[(i+1)*num_val_samples:]\n",
        "       ],\n",
        "       axis=0)\n",
        "  \n",
        "  partial_train_targets= np.concatenate(\n",
        "      [train_labels[:i *num_val_samples],\n",
        "       train_labels[(i+1)*num_val_samples:]\n",
        "       ],\n",
        "       axis=0)\n",
        "  \n",
        "  model= build_model_regression(0.001,13)\n",
        "  history = model.fit(partial_train_data, partial_train_targets,\n",
        "                      epochs= num_empoch,\n",
        "                      batch_size=16,\n",
        "                      validation_data=(val_data,val_targets),\n",
        "                      verbose=0)\n",
        "  \n",
        "  all_history.append(history.history[\"val_mae\"])\n",
        "\n"
      ],
      "metadata": {
        "colab": {
          "base_uri": "https://localhost:8080/"
        },
        "id": "AHHcQqZ1R8QX",
        "outputId": "96be4aa0-0f10-4357-9b2a-82d76d1f8811"
      },
      "execution_count": 46,
      "outputs": [
        {
          "output_type": "stream",
          "name": "stdout",
          "text": [
            "fold:  0\n"
          ]
        },
        {
          "output_type": "stream",
          "name": "stderr",
          "text": [
            "/usr/local/lib/python3.9/dist-packages/keras/optimizers/optimizer_v2/rmsprop.py:143: UserWarning: The `lr` argument is deprecated, use `learning_rate` instead.\n",
            "  super().__init__(name, **kwargs)\n"
          ]
        },
        {
          "output_type": "stream",
          "name": "stdout",
          "text": [
            "fold:  1\n",
            "fold:  2\n",
            "fold:  3\n"
          ]
        }
      ]
    },
    {
      "cell_type": "code",
      "source": [
        "all_mae_avg= pd.DataFrame(all_history).mean(axis=0)"
      ],
      "metadata": {
        "id": "bg0vGTBgWa6Z"
      },
      "execution_count": 47,
      "outputs": []
    },
    {
      "cell_type": "code",
      "source": [
        "import matplotlib.pyplot as plt\n",
        "fig = plt.figure(figsize=(10,10))\n",
        "plt.plot(range(1,len(all_mae_avg[15:])+1),all_mae_avg[15:])\n",
        "plt.show()"
      ],
      "metadata": {
        "colab": {
          "base_uri": "https://localhost:8080/",
          "height": 595
        },
        "id": "KQg6o22VXtjv",
        "outputId": "7f32ad0e-3d8f-4df9-8c9a-509a27ab02dc"
      },
      "execution_count": 48,
      "outputs": [
        {
          "output_type": "display_data",
          "data": {
            "text/plain": [
              "<Figure size 720x720 with 1 Axes>"
            ],
            "image/png": "[encoded data removed]"
          },
          "metadata": {
            "needs_background": "light"
          }
        }
      ]
    },
    {
      "cell_type": "code",
      "source": [
        "model.evaluate(test_data,test_labels)"
      ],
      "metadata": {
        "colab": {
          "base_uri": "https://localhost:8080/"
        },
        "id": "FBQCMDHsZk-1",
        "outputId": "506faa62-850d-48f2-a5cd-25fef47af79e"
      },
      "execution_count": 49,
      "outputs": [
        {
          "output_type": "stream",
          "name": "stdout",
          "text": [
            "4/4 [==============================] - 0s 3ms/step - loss: 19.8934 - mae: 2.8384\n"
          ]
        },
        {
          "output_type": "execute_result",
          "data": {
            "text/plain": [
              "[19.893430709838867, 2.838350296020508]"
            ]
          },
          "metadata": {},
          "execution_count": 49
        }
      ]
    }
  ]
}