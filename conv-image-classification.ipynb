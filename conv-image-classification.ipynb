{
 "cells": [
  {
   "cell_type": "code",
   "execution_count": 1,
   "id": "96b6e3a5",
   "metadata": {
    "execution": {
     "iopub.execute_input": "2023-03-29T19:08:03.205692Z",
     "iopub.status.busy": "2023-03-29T19:08:03.204566Z",
     "iopub.status.idle": "2023-03-29T19:08:10.333370Z",
     "shell.execute_reply": "2023-03-29T19:08:10.332236Z"
    },
    "papermill": {
     "duration": 7.140063,
     "end_time": "2023-03-29T19:08:10.336081",
     "exception": false,
     "start_time": "2023-03-29T19:08:03.196018",
     "status": "completed"
    },
    "tags": []
   },
   "outputs": [],
   "source": [
    "from tensorflow import keras\n",
    "from tensorflow.keras.utils import to_categorical\n",
    "from tensorflow.keras import regularizers\n",
    "from tensorflow.keras.models import Sequential\n",
    "from tensorflow.keras.layers import Conv2D , MaxPooling2D, Flatten , Dense, Dropout, Activation, BatchNormalization\n",
    "from tensorflow.keras.datasets import cifar10\n",
    "from tensorflow.keras.preprocessing.image import ImageDataGenerator\n",
    "from tensorflow.keras.callbacks import ModelCheckpoint"
   ]
  },
  {
   "cell_type": "code",
   "execution_count": 2,
   "id": "c1916650",
   "metadata": {
    "execution": {
     "iopub.execute_input": "2023-03-29T19:08:10.349763Z",
     "iopub.status.busy": "2023-03-29T19:08:10.349153Z",
     "iopub.status.idle": "2023-03-29T19:08:10.353681Z",
     "shell.execute_reply": "2023-03-29T19:08:10.352704Z"
    },
    "papermill": {
     "duration": 0.013572,
     "end_time": "2023-03-29T19:08:10.355844",
     "exception": false,
     "start_time": "2023-03-29T19:08:10.342272",
     "status": "completed"
    },
    "tags": []
   },
   "outputs": [],
   "source": [
    "import numpy as np\n",
    "import matplotlib.pyplot as plt"
   ]
  },
  {
   "cell_type": "code",
   "execution_count": 3,
   "id": "80017f62",
   "metadata": {
    "execution": {
     "iopub.execute_input": "2023-03-29T19:08:10.368691Z",
     "iopub.status.busy": "2023-03-29T19:08:10.368403Z",
     "iopub.status.idle": "2023-03-29T19:08:15.158678Z",
     "shell.execute_reply": "2023-03-29T19:08:15.157616Z"
    },
    "papermill": {
     "duration": 4.800171,
     "end_time": "2023-03-29T19:08:15.161833",
     "exception": false,
     "start_time": "2023-03-29T19:08:10.361662",
     "status": "completed"
    },
    "tags": []
   },
   "outputs": [
    {
     "name": "stdout",
     "output_type": "stream",
     "text": [
      "Downloading data from https://www.cs.toronto.edu/~kriz/cifar-10-python.tar.gz\n",
      "170498071/170498071 [==============================] - 2s 0us/step\n"
     ]
    }
   ],
   "source": [
    "(x_train,y_train),(x_test,y_test)=cifar10.load_data()"
   ]
  },
  {
   "cell_type": "code",
   "execution_count": 4,
   "id": "ff031dfa",
   "metadata": {
    "execution": {
     "iopub.execute_input": "2023-03-29T19:08:15.179805Z",
     "iopub.status.busy": "2023-03-29T19:08:15.179489Z",
     "iopub.status.idle": "2023-03-29T19:08:15.186445Z",
     "shell.execute_reply": "2023-03-29T19:08:15.185458Z"
    },
    "papermill": {
     "duration": 0.018173,
     "end_time": "2023-03-29T19:08:15.188618",
     "exception": false,
     "start_time": "2023-03-29T19:08:15.170445",
     "status": "completed"
    },
    "tags": []
   },
   "outputs": [
    {
     "data": {
      "text/plain": [
       "(50000, 32, 32, 3)"
      ]
     },
     "execution_count": 4,
     "metadata": {},
     "output_type": "execute_result"
    }
   ],
   "source": [
    "x_train.shape"
   ]
  },
  {
   "cell_type": "code",
   "execution_count": 5,
   "id": "733709cc",
   "metadata": {
    "execution": {
     "iopub.execute_input": "2023-03-29T19:08:15.206760Z",
     "iopub.status.busy": "2023-03-29T19:08:15.205946Z",
     "iopub.status.idle": "2023-03-29T19:08:15.444108Z",
     "shell.execute_reply": "2023-03-29T19:08:15.443018Z"
    },
    "papermill": {
     "duration": 0.251215,
     "end_time": "2023-03-29T19:08:15.447904",
     "exception": false,
     "start_time": "2023-03-29T19:08:15.196689",
     "status": "completed"
    },
    "tags": []
   },
   "outputs": [
    {
     "data": {
      "text/plain": [
       "<matplotlib.image.AxesImage at 0x7f29746229d0>"
      ]
     },
     "execution_count": 5,
     "metadata": {},
     "output_type": "execute_result"
    },
    {
     "data": {
      "image/png": "[encoded data removed]",
      "text/plain": [
       "<Figure size 640x480 with 1 Axes>"
      ]
     },
     "metadata": {},
     "output_type": "display_data"
    }
   ],
   "source": [
    "plt.imshow(x_train[32])"
   ]
  },
  {
   "cell_type": "markdown",
   "id": "de692d38",
   "metadata": {
    "papermill": {
     "duration": 0.010047,
     "end_time": "2023-03-29T19:08:15.467027",
     "exception": false,
     "start_time": "2023-03-29T19:08:15.456980",
     "status": "completed"
    },
    "tags": []
   },
   "source": [
    "### Comenzaremos con una limpieza de datos"
   ]
  },
  {
   "cell_type": "code",
   "execution_count": 6,
   "id": "0e43587e",
   "metadata": {
    "execution": {
     "iopub.execute_input": "2023-03-29T19:08:15.489078Z",
     "iopub.status.busy": "2023-03-29T19:08:15.488693Z",
     "iopub.status.idle": "2023-03-29T19:08:15.677237Z",
     "shell.execute_reply": "2023-03-29T19:08:15.676152Z"
    },
    "papermill": {
     "duration": 0.201983,
     "end_time": "2023-03-29T19:08:15.679769",
     "exception": false,
     "start_time": "2023-03-29T19:08:15.477786",
     "status": "completed"
    },
    "tags": []
   },
   "outputs": [],
   "source": [
    "#aca llevamos los valores de 0 a 1 para evitar cualquier tipo de sesgo\n",
    "x_train= x_train.astype(\"float32\")\n",
    "x_test= x_test.astype(\"float32\")"
   ]
  },
  {
   "cell_type": "code",
   "execution_count": 7,
   "id": "1ccd57aa",
   "metadata": {
    "execution": {
     "iopub.execute_input": "2023-03-29T19:08:15.700426Z",
     "iopub.status.busy": "2023-03-29T19:08:15.700075Z",
     "iopub.status.idle": "2023-03-29T19:08:15.708425Z",
     "shell.execute_reply": "2023-03-29T19:08:15.707517Z"
    },
    "papermill": {
     "duration": 0.021878,
     "end_time": "2023-03-29T19:08:15.710664",
     "exception": false,
     "start_time": "2023-03-29T19:08:15.688786",
     "status": "completed"
    },
    "tags": []
   },
   "outputs": [],
   "source": [
    "#haremos una clasificación \n",
    "num_classes = len(np.unique(y_train))\n",
    "y_train=to_categorical(y_train, num_classes) #usamos la función \"to_categorical\" que sabemos que nos crea un arreglo con 0 y 1 por cada dato\n",
    "y_test= to_categorical(y_test, num_classes)\n"
   ]
  },
  {
   "cell_type": "code",
   "execution_count": 8,
   "id": "352bd672",
   "metadata": {
    "execution": {
     "iopub.execute_input": "2023-03-29T19:08:15.729734Z",
     "iopub.status.busy": "2023-03-29T19:08:15.728793Z",
     "iopub.status.idle": "2023-03-29T19:08:15.737122Z",
     "shell.execute_reply": "2023-03-29T19:08:15.736104Z"
    },
    "papermill": {
     "duration": 0.019926,
     "end_time": "2023-03-29T19:08:15.739235",
     "exception": false,
     "start_time": "2023-03-29T19:08:15.719309",
     "status": "completed"
    },
    "tags": []
   },
   "outputs": [
    {
     "data": {
      "text/plain": [
       "10"
      ]
     },
     "execution_count": 8,
     "metadata": {},
     "output_type": "execute_result"
    }
   ],
   "source": [
    "#Tenemos 10 diferentes posibles salidas\n",
    "num_classes"
   ]
  },
  {
   "cell_type": "markdown",
   "id": "e5580389",
   "metadata": {
    "papermill": {
     "duration": 0.008674,
     "end_time": "2023-03-29T19:08:15.756497",
     "exception": false,
     "start_time": "2023-03-29T19:08:15.747823",
     "status": "completed"
    },
    "tags": []
   },
   "source": [
    "### Normalización "
   ]
  },
  {
   "cell_type": "code",
   "execution_count": 9,
   "id": "bbc0351b",
   "metadata": {
    "execution": {
     "iopub.execute_input": "2023-03-29T19:08:15.774902Z",
     "iopub.status.busy": "2023-03-29T19:08:15.774547Z",
     "iopub.status.idle": "2023-03-29T19:08:16.189999Z",
     "shell.execute_reply": "2023-03-29T19:08:16.188927Z"
    },
    "papermill": {
     "duration": 0.42766,
     "end_time": "2023-03-29T19:08:16.192670",
     "exception": false,
     "start_time": "2023-03-29T19:08:15.765010",
     "status": "completed"
    },
    "tags": []
   },
   "outputs": [],
   "source": [
    "mean= np.mean(x_train)\n",
    "std = np.std(x_train)"
   ]
  },
  {
   "cell_type": "code",
   "execution_count": 10,
   "id": "7d8f6f3f",
   "metadata": {
    "execution": {
     "iopub.execute_input": "2023-03-29T19:08:16.211644Z",
     "iopub.status.busy": "2023-03-29T19:08:16.211334Z",
     "iopub.status.idle": "2023-03-29T19:08:16.505020Z",
     "shell.execute_reply": "2023-03-29T19:08:16.503798Z"
    },
    "papermill": {
     "duration": 0.306405,
     "end_time": "2023-03-29T19:08:16.507829",
     "exception": false,
     "start_time": "2023-03-29T19:08:16.201424",
     "status": "completed"
    },
    "tags": []
   },
   "outputs": [],
   "source": [
    "x_train= (x_train -mean)/(std+1e-7)\n",
    "x_test= (x_test -mean)/(std+1e-7)"
   ]
  },
  {
   "cell_type": "markdown",
   "id": "84ce2929",
   "metadata": {
    "papermill": {
     "duration": 0.0086,
     "end_time": "2023-03-29T19:08:16.525271",
     "exception": false,
     "start_time": "2023-03-29T19:08:16.516671",
     "status": "completed"
    },
    "tags": []
   },
   "source": [
    "### Ahora que tenemos los datos mas organizados realizaremos una división de los datos entre validación , entrenamiento y test"
   ]
  },
  {
   "cell_type": "code",
   "execution_count": 11,
   "id": "8fd204cc",
   "metadata": {
    "execution": {
     "iopub.execute_input": "2023-03-29T19:08:16.543718Z",
     "iopub.status.busy": "2023-03-29T19:08:16.543371Z",
     "iopub.status.idle": "2023-03-29T19:08:16.549961Z",
     "shell.execute_reply": "2023-03-29T19:08:16.548929Z"
    },
    "papermill": {
     "duration": 0.018647,
     "end_time": "2023-03-29T19:08:16.552403",
     "exception": false,
     "start_time": "2023-03-29T19:08:16.533756",
     "status": "completed"
    },
    "tags": []
   },
   "outputs": [
    {
     "name": "stdout",
     "output_type": "stream",
     "text": [
      "x_train shape:  45000\n",
      "train  45000\n",
      "val  5000\n",
      "test  10000\n"
     ]
    }
   ],
   "source": [
    "(x_train ,x_valid)= x_train[5000:], x_train[:5000]\n",
    "(y_train ,y_valid)= y_train[5000:], y_train[:5000]\n",
    "\n",
    "print(\"x_train shape: \" ,x_train.shape[0])\n",
    "\n",
    "print(\"train \", x_train.shape[0])\n",
    "print(\"val \", x_valid.shape[0])\n",
    "print(\"test \", x_test.shape[0])\n"
   ]
  },
  {
   "cell_type": "markdown",
   "id": "35d29f4f",
   "metadata": {
    "papermill": {
     "duration": 0.008445,
     "end_time": "2023-03-29T19:08:16.569229",
     "exception": false,
     "start_time": "2023-03-29T19:08:16.560784",
     "status": "completed"
    },
    "tags": []
   },
   "source": [
    "### Crearemos el modelo de CNN"
   ]
  },
  {
   "cell_type": "markdown",
   "id": "eb36dd5d",
   "metadata": {
    "papermill": {
     "duration": 0.008517,
     "end_time": "2023-03-29T19:08:16.586163",
     "exception": false,
     "start_time": "2023-03-29T19:08:16.577646",
     "status": "completed"
    },
    "tags": []
   },
   "source": []
  },
  {
   "cell_type": "code",
   "execution_count": 12,
   "id": "d7b17312",
   "metadata": {
    "execution": {
     "iopub.execute_input": "2023-03-29T19:08:16.618048Z",
     "iopub.status.busy": "2023-03-29T19:08:16.616784Z",
     "iopub.status.idle": "2023-03-29T19:08:16.621853Z",
     "shell.execute_reply": "2023-03-29T19:08:16.620944Z"
    },
    "papermill": {
     "duration": 0.022908,
     "end_time": "2023-03-29T19:08:16.624190",
     "exception": false,
     "start_time": "2023-03-29T19:08:16.601282",
     "status": "completed"
    },
    "tags": []
   },
   "outputs": [],
   "source": [
    "base_filtros=32\n",
    "w_regularizer=1e-4"
   ]
  },
  {
   "cell_type": "code",
   "execution_count": 13,
   "id": "2789cf0a",
   "metadata": {
    "execution": {
     "iopub.execute_input": "2023-03-29T19:08:16.643460Z",
     "iopub.status.busy": "2023-03-29T19:08:16.642638Z",
     "iopub.status.idle": "2023-03-29T19:08:19.661683Z",
     "shell.execute_reply": "2023-03-29T19:08:19.660884Z"
    },
    "papermill": {
     "duration": 3.076891,
     "end_time": "2023-03-29T19:08:19.709823",
     "exception": false,
     "start_time": "2023-03-29T19:08:16.632932",
     "status": "completed"
    },
    "tags": []
   },
   "outputs": [
    {
     "name": "stdout",
     "output_type": "stream",
     "text": [
      "Model: \"sequential\"\n",
      "_________________________________________________________________\n",
      " Layer (type)                Output Shape              Param #   \n",
      "=================================================================\n",
      " conv2d (Conv2D)             (None, 32, 32, 32)        896       \n",
      "                                                                 \n",
      " activation (Activation)     (None, 32, 32, 32)        0         \n",
      "                                                                 \n",
      " batch_normalization (BatchN  (None, 32, 32, 32)       128       \n",
      " ormalization)                                                   \n",
      "                                                                 \n",
      " conv2d_1 (Conv2D)           (None, 32, 32, 32)        9248      \n",
      "                                                                 \n",
      " activation_1 (Activation)   (None, 32, 32, 32)        0         \n",
      "                                                                 \n",
      " batch_normalization_1 (Batc  (None, 32, 32, 32)       128       \n",
      " hNormalization)                                                 \n",
      "                                                                 \n",
      " max_pooling2d (MaxPooling2D  (None, 16, 16, 32)       0         \n",
      " )                                                               \n",
      "                                                                 \n",
      " dropout (Dropout)           (None, 16, 16, 32)        0         \n",
      "                                                                 \n",
      " conv2d_2 (Conv2D)           (None, 16, 16, 64)        18496     \n",
      "                                                                 \n",
      " activation_2 (Activation)   (None, 16, 16, 64)        0         \n",
      "                                                                 \n",
      " batch_normalization_2 (Batc  (None, 16, 16, 64)       256       \n",
      " hNormalization)                                                 \n",
      "                                                                 \n",
      " dropout_1 (Dropout)         (None, 16, 16, 64)        0         \n",
      "                                                                 \n",
      " conv2d_3 (Conv2D)           (None, 16, 16, 64)        36928     \n",
      "                                                                 \n",
      " activation_3 (Activation)   (None, 16, 16, 64)        0         \n",
      "                                                                 \n",
      " batch_normalization_3 (Batc  (None, 16, 16, 64)       256       \n",
      " hNormalization)                                                 \n",
      "                                                                 \n",
      " max_pooling2d_1 (MaxPooling  (None, 8, 8, 64)         0         \n",
      " 2D)                                                             \n",
      "                                                                 \n",
      " dropout_2 (Dropout)         (None, 8, 8, 64)          0         \n",
      "                                                                 \n",
      " conv2d_4 (Conv2D)           (None, 8, 8, 128)         73856     \n",
      "                                                                 \n",
      " activation_4 (Activation)   (None, 8, 8, 128)         0         \n",
      "                                                                 \n",
      " batch_normalization_4 (Batc  (None, 8, 8, 128)        512       \n",
      " hNormalization)                                                 \n",
      "                                                                 \n",
      " conv2d_5 (Conv2D)           (None, 8, 8, 128)         147584    \n",
      "                                                                 \n",
      " activation_5 (Activation)   (None, 8, 8, 128)         0         \n",
      "                                                                 \n",
      " batch_normalization_5 (Batc  (None, 8, 8, 128)        512       \n",
      " hNormalization)                                                 \n",
      "                                                                 \n",
      " max_pooling2d_2 (MaxPooling  (None, 4, 4, 128)        0         \n",
      " 2D)                                                             \n",
      "                                                                 \n",
      " dropout_3 (Dropout)         (None, 4, 4, 128)         0         \n",
      "                                                                 \n",
      " flatten (Flatten)           (None, 2048)              0         \n",
      "                                                                 \n",
      " dense (Dense)               (None, 10)                20490     \n",
      "                                                                 \n",
      "=================================================================\n",
      "Total params: 309,290\n",
      "Trainable params: 308,394\n",
      "Non-trainable params: 896\n",
      "_________________________________________________________________\n"
     ]
    }
   ],
   "source": [
    "model=Sequential()\n",
    "#primero tendremos una capa de convolución y luego una de activación\n",
    "#conv1\n",
    "model.add(Conv2D(base_filtros,(3,3),padding=\"same\",kernel_regularizer=regularizers.l2(w_regularizer),input_shape=(32,32,3)))\n",
    "model.add(Activation(\"relu\"))\n",
    "model.add(BatchNormalization())\n",
    "\n",
    "#conv2\n",
    "model.add(Conv2D(base_filtros,(3,3),padding=\"same\",kernel_regularizer=regularizers.l2(w_regularizer)))\n",
    "model.add(Activation(\"relu\"))\n",
    "model.add(BatchNormalization())\n",
    "model.add(MaxPooling2D(pool_size=(2,2)))\n",
    "model.add(Dropout(0.2))\n",
    "\n",
    "#conv3\n",
    "model.add(Conv2D(2*base_filtros,(3,3),padding=\"same\",kernel_regularizer=regularizers.l2(w_regularizer)))\n",
    "model.add(Activation(\"relu\"))\n",
    "model.add(BatchNormalization())\n",
    "model.add(Dropout(0.2))\n",
    "\n",
    "#conv4\n",
    "model.add(Conv2D(2*base_filtros,(3,3),padding=\"same\",kernel_regularizer=regularizers.l2(w_regularizer)))\n",
    "model.add(Activation(\"relu\"))\n",
    "model.add(BatchNormalization())\n",
    "model.add(MaxPooling2D(pool_size=(2,2)))\n",
    "model.add(Dropout(0.3))\n",
    "\n",
    "#conv5\n",
    "model.add(Conv2D(4*base_filtros,(3,3),padding=\"same\",kernel_regularizer=regularizers.l2(w_regularizer)))\n",
    "model.add(Activation(\"relu\"))\n",
    "model.add(BatchNormalization())\n",
    "\n",
    "#conv6\n",
    "model.add(Conv2D(4*base_filtros,(3,3),padding=\"same\",kernel_regularizer=regularizers.l2(w_regularizer)))\n",
    "model.add(Activation(\"relu\"))\n",
    "model.add(BatchNormalization())\n",
    "model.add(MaxPooling2D(pool_size=(2,2)))\n",
    "model.add(Dropout(0.4))\n",
    "\n",
    "#Clasificacion - flatten \n",
    "model.add(Flatten())\n",
    "model.add(Dense(num_classes,activation=\"softmax\"))\n",
    "\n",
    "model.summary()\n",
    "\n"
   ]
  },
  {
   "cell_type": "code",
   "execution_count": 14,
   "id": "d9e6e963",
   "metadata": {
    "execution": {
     "iopub.execute_input": "2023-03-29T19:08:19.737383Z",
     "iopub.status.busy": "2023-03-29T19:08:19.737009Z",
     "iopub.status.idle": "2023-03-29T19:08:19.742104Z",
     "shell.execute_reply": "2023-03-29T19:08:19.741004Z"
    },
    "papermill": {
     "duration": 0.020879,
     "end_time": "2023-03-29T19:08:19.744234",
     "exception": false,
     "start_time": "2023-03-29T19:08:19.723355",
     "status": "completed"
    },
    "tags": []
   },
   "outputs": [],
   "source": [
    "datagen= ImageDataGenerator(rotation_range=15,\n",
    "                  width_shift_range=0.1,\n",
    "                  height_shift_range=0.1,\n",
    "                  horizontal_flip=True,\n",
    "                  vertical_flip=True)"
   ]
  },
  {
   "cell_type": "code",
   "execution_count": 15,
   "id": "62ea173d",
   "metadata": {
    "execution": {
     "iopub.execute_input": "2023-03-29T19:08:19.800656Z",
     "iopub.status.busy": "2023-03-29T19:08:19.799823Z",
     "iopub.status.idle": "2023-03-29T19:08:19.806345Z",
     "shell.execute_reply": "2023-03-29T19:08:19.805002Z"
    },
    "papermill": {
     "duration": 0.045378,
     "end_time": "2023-03-29T19:08:19.810529",
     "exception": false,
     "start_time": "2023-03-29T19:08:19.765151",
     "status": "completed"
    },
    "tags": []
   },
   "outputs": [],
   "source": [
    "from tensorflow.keras import optimizers"
   ]
  },
  {
   "cell_type": "markdown",
   "id": "7bfd249c",
   "metadata": {
    "papermill": {
     "duration": 0.034217,
     "end_time": "2023-03-29T19:08:19.881763",
     "exception": false,
     "start_time": "2023-03-29T19:08:19.847546",
     "status": "completed"
    },
    "tags": []
   },
   "source": [
    "## entrenaremos el modelo"
   ]
  },
  {
   "cell_type": "code",
   "execution_count": 16,
   "id": "aecb7a22",
   "metadata": {
    "execution": {
     "iopub.execute_input": "2023-03-29T19:08:19.951132Z",
     "iopub.status.busy": "2023-03-29T19:08:19.950407Z",
     "iopub.status.idle": "2023-03-29T19:08:19.983370Z",
     "shell.execute_reply": "2023-03-29T19:08:19.982063Z"
    },
    "papermill": {
     "duration": 0.071522,
     "end_time": "2023-03-29T19:08:19.986608",
     "exception": false,
     "start_time": "2023-03-29T19:08:19.915086",
     "status": "completed"
    },
    "tags": []
   },
   "outputs": [],
   "source": [
    "model.compile(loss=\"categorical_crossentropy\",\n",
    "             optimizer=optimizers.Adam(),\n",
    "             metrics=[\"accuracy\"])"
   ]
  },
  {
   "cell_type": "code",
   "execution_count": 17,
   "id": "f90b9bb6",
   "metadata": {
    "execution": {
     "iopub.execute_input": "2023-03-29T19:08:20.053936Z",
     "iopub.status.busy": "2023-03-29T19:08:20.053372Z",
     "iopub.status.idle": "2023-03-29T19:08:20.059307Z",
     "shell.execute_reply": "2023-03-29T19:08:20.058058Z"
    },
    "papermill": {
     "duration": 0.045866,
     "end_time": "2023-03-29T19:08:20.065420",
     "exception": false,
     "start_time": "2023-03-29T19:08:20.019554",
     "status": "completed"
    },
    "scrolled": true,
    "tags": []
   },
   "outputs": [],
   "source": [
    "#hist= model.fit(x_train, y_train, \n",
    " #               batch_size=32, \n",
    " #               epochs=15,\n",
    "  #              validation_data=(x_valid,y_valid),\n",
    "  #              verbose=2, shuffle=True\n",
    "  #             )"
   ]
  },
  {
   "cell_type": "code",
   "execution_count": 18,
   "id": "5136dc67",
   "metadata": {
    "execution": {
     "iopub.execute_input": "2023-03-29T19:08:20.132612Z",
     "iopub.status.busy": "2023-03-29T19:08:20.132062Z",
     "iopub.status.idle": "2023-03-29T19:08:20.141536Z",
     "shell.execute_reply": "2023-03-29T19:08:20.140353Z"
    },
    "papermill": {
     "duration": 0.047477,
     "end_time": "2023-03-29T19:08:20.145099",
     "exception": false,
     "start_time": "2023-03-29T19:08:20.097622",
     "status": "completed"
    },
    "tags": []
   },
   "outputs": [],
   "source": [
    "checkpoint=ModelCheckpoint(\"mi_mejor_modelo.hdf5\",verbose=1,save_best_only=True,monitor=\"val_accuracy\")"
   ]
  },
  {
   "cell_type": "code",
   "execution_count": 19,
   "id": "bfd872b5",
   "metadata": {
    "execution": {
     "iopub.execute_input": "2023-03-29T19:08:20.212754Z",
     "iopub.status.busy": "2023-03-29T19:08:20.212221Z",
     "iopub.status.idle": "2023-03-29T20:12:13.860917Z",
     "shell.execute_reply": "2023-03-29T20:12:13.859813Z"
    },
    "papermill": {
     "duration": 3833.685654,
     "end_time": "2023-03-29T20:12:13.863491",
     "exception": false,
     "start_time": "2023-03-29T19:08:20.177837",
     "status": "completed"
    },
    "scrolled": true,
    "tags": []
   },
   "outputs": [
    {
     "name": "stdout",
     "output_type": "stream",
     "text": [
      "Epoch 1/120\n"
     ]
    },
    {
     "name": "stderr",
     "output_type": "stream",
     "text": [
      "2023-03-29 19:08:22.677246: E tensorflow/core/grappler/optimizers/meta_optimizer.cc:954] layout failed: INVALID_ARGUMENT: Size of values 0 does not match size of permutation 4 @ fanin shape insequential/dropout/dropout/SelectV2-2-TransposeNHWCToNCHW-LayoutOptimizer\n"
     ]
    },
    {
     "name": "stdout",
     "output_type": "stream",
     "text": [
      "\n",
      "Epoch 1: val_accuracy improved from -inf to 0.29940, saving model to mi_mejor_modelo.hdf5\n",
      "351/351 - 35s - loss: 2.2327 - accuracy: 0.3219 - val_loss: 2.1018 - val_accuracy: 0.2994 - 35s/epoch - 101ms/step\n",
      "Epoch 2/120\n",
      "\n",
      "Epoch 2: val_accuracy improved from 0.29940 to 0.47900, saving model to mi_mejor_modelo.hdf5\n",
      "351/351 - 24s - loss: 1.7260 - accuracy: 0.4379 - val_loss: 1.5361 - val_accuracy: 0.4790 - 24s/epoch - 68ms/step\n",
      "Epoch 3/120\n",
      "\n",
      "Epoch 3: val_accuracy improved from 0.47900 to 0.52540, saving model to mi_mejor_modelo.hdf5\n",
      "351/351 - 23s - loss: 1.5520 - accuracy: 0.5004 - val_loss: 1.4878 - val_accuracy: 0.5254 - 23s/epoch - 67ms/step\n",
      "Epoch 4/120\n",
      "\n",
      "Epoch 4: val_accuracy improved from 0.52540 to 0.57460, saving model to mi_mejor_modelo.hdf5\n",
      "351/351 - 24s - loss: 1.4076 - accuracy: 0.5415 - val_loss: 1.3428 - val_accuracy: 0.5746 - 24s/epoch - 68ms/step\n",
      "Epoch 5/120\n",
      "\n",
      "Epoch 5: val_accuracy improved from 0.57460 to 0.63160, saving model to mi_mejor_modelo.hdf5\n",
      "351/351 - 24s - loss: 1.3152 - accuracy: 0.5716 - val_loss: 1.1380 - val_accuracy: 0.6316 - 24s/epoch - 68ms/step\n",
      "Epoch 6/120\n",
      "\n",
      "Epoch 6: val_accuracy improved from 0.63160 to 0.63200, saving model to mi_mejor_modelo.hdf5\n",
      "351/351 - 24s - loss: 1.2416 - accuracy: 0.5966 - val_loss: 1.1336 - val_accuracy: 0.6320 - 24s/epoch - 68ms/step\n",
      "Epoch 7/120\n",
      "\n",
      "Epoch 7: val_accuracy did not improve from 0.63200\n",
      "351/351 - 23s - loss: 1.1749 - accuracy: 0.6160 - val_loss: 1.2099 - val_accuracy: 0.6188 - 23s/epoch - 66ms/step\n",
      "Epoch 8/120\n",
      "\n",
      "Epoch 8: val_accuracy did not improve from 0.63200\n",
      "351/351 - 24s - loss: 1.1413 - accuracy: 0.6307 - val_loss: 1.1236 - val_accuracy: 0.6250 - 24s/epoch - 67ms/step\n",
      "Epoch 9/120\n",
      "\n",
      "Epoch 9: val_accuracy improved from 0.63200 to 0.67740, saving model to mi_mejor_modelo.hdf5\n",
      "351/351 - 24s - loss: 1.0715 - accuracy: 0.6460 - val_loss: 0.9792 - val_accuracy: 0.6774 - 24s/epoch - 67ms/step\n",
      "Epoch 10/120\n",
      "\n",
      "Epoch 10: val_accuracy improved from 0.67740 to 0.69520, saving model to mi_mejor_modelo.hdf5\n",
      "351/351 - 23s - loss: 1.0326 - accuracy: 0.6590 - val_loss: 0.9395 - val_accuracy: 0.6952 - 23s/epoch - 67ms/step\n",
      "Epoch 11/120\n",
      "\n",
      "Epoch 11: val_accuracy did not improve from 0.69520\n",
      "351/351 - 24s - loss: 1.0024 - accuracy: 0.6682 - val_loss: 1.0727 - val_accuracy: 0.6650 - 24s/epoch - 67ms/step\n",
      "Epoch 12/120\n",
      "\n",
      "Epoch 12: val_accuracy did not improve from 0.69520\n",
      "351/351 - 24s - loss: 0.9700 - accuracy: 0.6829 - val_loss: 0.9636 - val_accuracy: 0.6912 - 24s/epoch - 67ms/step\n",
      "Epoch 13/120\n",
      "\n",
      "Epoch 13: val_accuracy improved from 0.69520 to 0.73120, saving model to mi_mejor_modelo.hdf5\n",
      "351/351 - 23s - loss: 0.9485 - accuracy: 0.6895 - val_loss: 0.8541 - val_accuracy: 0.7312 - 23s/epoch - 67ms/step\n",
      "Epoch 14/120\n",
      "\n",
      "Epoch 14: val_accuracy did not improve from 0.73120\n",
      "351/351 - 23s - loss: 0.9294 - accuracy: 0.6997 - val_loss: 0.9467 - val_accuracy: 0.7104 - 23s/epoch - 67ms/step\n",
      "Epoch 15/120\n",
      "\n",
      "Epoch 15: val_accuracy did not improve from 0.73120\n",
      "351/351 - 23s - loss: 0.9190 - accuracy: 0.7041 - val_loss: 0.9647 - val_accuracy: 0.7016 - 23s/epoch - 66ms/step\n",
      "Epoch 16/120\n",
      "\n",
      "Epoch 16: val_accuracy improved from 0.73120 to 0.73520, saving model to mi_mejor_modelo.hdf5\n",
      "351/351 - 23s - loss: 0.8967 - accuracy: 0.7126 - val_loss: 0.8556 - val_accuracy: 0.7352 - 23s/epoch - 66ms/step\n",
      "Epoch 17/120\n",
      "\n",
      "Epoch 17: val_accuracy improved from 0.73520 to 0.75280, saving model to mi_mejor_modelo.hdf5\n",
      "351/351 - 24s - loss: 0.8841 - accuracy: 0.7174 - val_loss: 0.8056 - val_accuracy: 0.7528 - 24s/epoch - 67ms/step\n",
      "Epoch 18/120\n",
      "\n",
      "Epoch 18: val_accuracy did not improve from 0.75280\n",
      "351/351 - 23s - loss: 0.8775 - accuracy: 0.7217 - val_loss: 0.8214 - val_accuracy: 0.7430 - 23s/epoch - 66ms/step\n",
      "Epoch 19/120\n",
      "\n",
      "Epoch 19: val_accuracy did not improve from 0.75280\n",
      "351/351 - 24s - loss: 0.8647 - accuracy: 0.7280 - val_loss: 0.8516 - val_accuracy: 0.7384 - 24s/epoch - 67ms/step\n",
      "Epoch 20/120\n",
      "\n",
      "Epoch 20: val_accuracy improved from 0.75280 to 0.76240, saving model to mi_mejor_modelo.hdf5\n",
      "351/351 - 23s - loss: 0.8520 - accuracy: 0.7329 - val_loss: 0.7826 - val_accuracy: 0.7624 - 23s/epoch - 67ms/step\n",
      "Epoch 21/120\n",
      "\n",
      "Epoch 21: val_accuracy did not improve from 0.76240\n",
      "351/351 - 23s - loss: 0.8442 - accuracy: 0.7368 - val_loss: 0.8936 - val_accuracy: 0.7436 - 23s/epoch - 66ms/step\n",
      "Epoch 22/120\n",
      "\n",
      "Epoch 22: val_accuracy did not improve from 0.76240\n",
      "351/351 - 24s - loss: 0.8420 - accuracy: 0.7391 - val_loss: 0.8544 - val_accuracy: 0.7426 - 24s/epoch - 67ms/step\n",
      "Epoch 23/120\n",
      "\n",
      "Epoch 23: val_accuracy improved from 0.76240 to 0.76900, saving model to mi_mejor_modelo.hdf5\n",
      "351/351 - 23s - loss: 0.8342 - accuracy: 0.7435 - val_loss: 0.7919 - val_accuracy: 0.7690 - 23s/epoch - 65ms/step\n",
      "Epoch 24/120\n",
      "\n",
      "Epoch 24: val_accuracy did not improve from 0.76900\n",
      "351/351 - 24s - loss: 0.8290 - accuracy: 0.7440 - val_loss: 0.8486 - val_accuracy: 0.7488 - 24s/epoch - 67ms/step\n",
      "Epoch 25/120\n",
      "\n",
      "Epoch 25: val_accuracy improved from 0.76900 to 0.77680, saving model to mi_mejor_modelo.hdf5\n",
      "351/351 - 23s - loss: 0.8144 - accuracy: 0.7500 - val_loss: 0.7553 - val_accuracy: 0.7768 - 23s/epoch - 66ms/step\n",
      "Epoch 26/120\n",
      "\n",
      "Epoch 26: val_accuracy improved from 0.77680 to 0.79460, saving model to mi_mejor_modelo.hdf5\n",
      "351/351 - 23s - loss: 0.8129 - accuracy: 0.7508 - val_loss: 0.7013 - val_accuracy: 0.7946 - 23s/epoch - 67ms/step\n",
      "Epoch 27/120\n",
      "\n",
      "Epoch 27: val_accuracy did not improve from 0.79460\n",
      "351/351 - 23s - loss: 0.8119 - accuracy: 0.7526 - val_loss: 0.7991 - val_accuracy: 0.7750 - 23s/epoch - 65ms/step\n",
      "Epoch 28/120\n",
      "\n",
      "Epoch 28: val_accuracy did not improve from 0.79460\n",
      "351/351 - 23s - loss: 0.7998 - accuracy: 0.7610 - val_loss: 0.7799 - val_accuracy: 0.7684 - 23s/epoch - 65ms/step\n",
      "Epoch 29/120\n",
      "\n",
      "Epoch 29: val_accuracy did not improve from 0.79460\n",
      "351/351 - 23s - loss: 0.7993 - accuracy: 0.7573 - val_loss: 0.7622 - val_accuracy: 0.7714 - 23s/epoch - 65ms/step\n",
      "Epoch 30/120\n",
      "\n",
      "Epoch 30: val_accuracy did not improve from 0.79460\n",
      "351/351 - 23s - loss: 0.7959 - accuracy: 0.7596 - val_loss: 0.7952 - val_accuracy: 0.7698 - 23s/epoch - 65ms/step\n",
      "Epoch 31/120\n",
      "\n",
      "Epoch 31: val_accuracy did not improve from 0.79460\n",
      "351/351 - 23s - loss: 0.7906 - accuracy: 0.7659 - val_loss: 0.7361 - val_accuracy: 0.7848 - 23s/epoch - 66ms/step\n",
      "Epoch 32/120\n",
      "\n",
      "Epoch 32: val_accuracy did not improve from 0.79460\n",
      "351/351 - 23s - loss: 0.7874 - accuracy: 0.7638 - val_loss: 0.6991 - val_accuracy: 0.7928 - 23s/epoch - 65ms/step\n",
      "Epoch 33/120\n",
      "\n",
      "Epoch 33: val_accuracy did not improve from 0.79460\n",
      "351/351 - 23s - loss: 0.7862 - accuracy: 0.7650 - val_loss: 0.7795 - val_accuracy: 0.7702 - 23s/epoch - 65ms/step\n",
      "Epoch 34/120\n",
      "\n",
      "Epoch 34: val_accuracy did not improve from 0.79460\n",
      "351/351 - 23s - loss: 0.7852 - accuracy: 0.7662 - val_loss: 0.7711 - val_accuracy: 0.7754 - 23s/epoch - 65ms/step\n",
      "Epoch 35/120\n",
      "\n",
      "Epoch 35: val_accuracy did not improve from 0.79460\n",
      "351/351 - 23s - loss: 0.7796 - accuracy: 0.7700 - val_loss: 0.7217 - val_accuracy: 0.7900 - 23s/epoch - 67ms/step\n",
      "Epoch 36/120\n",
      "\n",
      "Epoch 36: val_accuracy improved from 0.79460 to 0.80500, saving model to mi_mejor_modelo.hdf5\n",
      "351/351 - 24s - loss: 0.7753 - accuracy: 0.7712 - val_loss: 0.7041 - val_accuracy: 0.8050 - 24s/epoch - 68ms/step\n",
      "Epoch 37/120\n",
      "\n",
      "Epoch 37: val_accuracy did not improve from 0.80500\n",
      "351/351 - 23s - loss: 0.7758 - accuracy: 0.7724 - val_loss: 0.7923 - val_accuracy: 0.7762 - 23s/epoch - 66ms/step\n",
      "Epoch 38/120\n",
      "\n",
      "Epoch 38: val_accuracy did not improve from 0.80500\n",
      "351/351 - 23s - loss: 0.7717 - accuracy: 0.7729 - val_loss: 0.7494 - val_accuracy: 0.7870 - 23s/epoch - 65ms/step\n",
      "Epoch 39/120\n",
      "\n",
      "Epoch 39: val_accuracy did not improve from 0.80500\n",
      "351/351 - 23s - loss: 0.7722 - accuracy: 0.7746 - val_loss: 0.7530 - val_accuracy: 0.7928 - 23s/epoch - 66ms/step\n",
      "Epoch 40/120\n",
      "\n",
      "Epoch 40: val_accuracy did not improve from 0.80500\n",
      "351/351 - 24s - loss: 0.7670 - accuracy: 0.7765 - val_loss: 0.7181 - val_accuracy: 0.8022 - 24s/epoch - 67ms/step\n",
      "Epoch 41/120\n",
      "\n",
      "Epoch 41: val_accuracy did not improve from 0.80500\n",
      "351/351 - 23s - loss: 0.7729 - accuracy: 0.7746 - val_loss: 0.6838 - val_accuracy: 0.8032 - 23s/epoch - 65ms/step\n",
      "Epoch 42/120\n",
      "\n",
      "Epoch 42: val_accuracy improved from 0.80500 to 0.81600, saving model to mi_mejor_modelo.hdf5\n",
      "351/351 - 23s - loss: 0.7618 - accuracy: 0.7770 - val_loss: 0.6606 - val_accuracy: 0.8160 - 23s/epoch - 67ms/step\n",
      "Epoch 43/120\n",
      "\n",
      "Epoch 43: val_accuracy did not improve from 0.81600\n",
      "351/351 - 24s - loss: 0.7615 - accuracy: 0.7785 - val_loss: 0.7635 - val_accuracy: 0.7890 - 24s/epoch - 67ms/step\n",
      "Epoch 44/120\n",
      "\n",
      "Epoch 44: val_accuracy improved from 0.81600 to 0.81820, saving model to mi_mejor_modelo.hdf5\n",
      "351/351 - 23s - loss: 0.7608 - accuracy: 0.7785 - val_loss: 0.6528 - val_accuracy: 0.8182 - 23s/epoch - 66ms/step\n",
      "Epoch 45/120\n",
      "\n",
      "Epoch 45: val_accuracy did not improve from 0.81820\n",
      "351/351 - 23s - loss: 0.7604 - accuracy: 0.7783 - val_loss: 0.7550 - val_accuracy: 0.7898 - 23s/epoch - 65ms/step\n",
      "Epoch 46/120\n",
      "\n",
      "Epoch 46: val_accuracy did not improve from 0.81820\n",
      "351/351 - 23s - loss: 0.7547 - accuracy: 0.7816 - val_loss: 0.7385 - val_accuracy: 0.7988 - 23s/epoch - 66ms/step\n",
      "Epoch 47/120\n",
      "\n",
      "Epoch 47: val_accuracy did not improve from 0.81820\n",
      "351/351 - 23s - loss: 0.7547 - accuracy: 0.7801 - val_loss: 0.7241 - val_accuracy: 0.7988 - 23s/epoch - 67ms/step\n",
      "Epoch 48/120\n",
      "\n",
      "Epoch 48: val_accuracy improved from 0.81820 to 0.81860, saving model to mi_mejor_modelo.hdf5\n",
      "351/351 - 24s - loss: 0.7502 - accuracy: 0.7832 - val_loss: 0.6556 - val_accuracy: 0.8186 - 24s/epoch - 67ms/step\n",
      "Epoch 49/120\n",
      "\n",
      "Epoch 49: val_accuracy did not improve from 0.81860\n",
      "351/351 - 23s - loss: 0.7498 - accuracy: 0.7845 - val_loss: 0.7983 - val_accuracy: 0.7810 - 23s/epoch - 65ms/step\n",
      "Epoch 50/120\n",
      "\n",
      "Epoch 50: val_accuracy did not improve from 0.81860\n",
      "351/351 - 23s - loss: 0.7456 - accuracy: 0.7846 - val_loss: 0.7713 - val_accuracy: 0.7878 - 23s/epoch - 66ms/step\n",
      "Epoch 51/120\n",
      "\n",
      "Epoch 51: val_accuracy did not improve from 0.81860\n",
      "351/351 - 23s - loss: 0.7531 - accuracy: 0.7837 - val_loss: 0.7478 - val_accuracy: 0.7898 - 23s/epoch - 65ms/step\n",
      "Epoch 52/120\n",
      "\n",
      "Epoch 52: val_accuracy did not improve from 0.81860\n",
      "351/351 - 23s - loss: 0.7502 - accuracy: 0.7835 - val_loss: 0.6925 - val_accuracy: 0.8122 - 23s/epoch - 66ms/step\n",
      "Epoch 53/120\n",
      "\n",
      "Epoch 53: val_accuracy did not improve from 0.81860\n",
      "351/351 - 24s - loss: 0.7433 - accuracy: 0.7865 - val_loss: 0.7426 - val_accuracy: 0.7998 - 24s/epoch - 69ms/step\n",
      "Epoch 54/120\n",
      "\n",
      "Epoch 54: val_accuracy did not improve from 0.81860\n",
      "351/351 - 23s - loss: 0.7429 - accuracy: 0.7873 - val_loss: 0.7620 - val_accuracy: 0.7908 - 23s/epoch - 66ms/step\n",
      "Epoch 55/120\n",
      "\n",
      "Epoch 55: val_accuracy did not improve from 0.81860\n",
      "351/351 - 23s - loss: 0.7391 - accuracy: 0.7882 - val_loss: 0.7227 - val_accuracy: 0.8068 - 23s/epoch - 66ms/step\n",
      "Epoch 56/120\n",
      "\n",
      "Epoch 56: val_accuracy did not improve from 0.81860\n",
      "351/351 - 23s - loss: 0.7366 - accuracy: 0.7895 - val_loss: 0.7686 - val_accuracy: 0.7882 - 23s/epoch - 65ms/step\n",
      "Epoch 57/120\n",
      "\n",
      "Epoch 57: val_accuracy did not improve from 0.81860\n",
      "351/351 - 23s - loss: 0.7344 - accuracy: 0.7895 - val_loss: 0.7465 - val_accuracy: 0.7954 - 23s/epoch - 67ms/step\n",
      "Epoch 58/120\n",
      "\n",
      "Epoch 58: val_accuracy did not improve from 0.81860\n",
      "351/351 - 23s - loss: 0.7329 - accuracy: 0.7930 - val_loss: 0.6945 - val_accuracy: 0.8104 - 23s/epoch - 66ms/step\n",
      "Epoch 59/120\n",
      "\n",
      "Epoch 59: val_accuracy did not improve from 0.81860\n",
      "351/351 - 23s - loss: 0.7396 - accuracy: 0.7892 - val_loss: 0.6798 - val_accuracy: 0.8116 - 23s/epoch - 67ms/step\n",
      "Epoch 60/120\n",
      "\n",
      "Epoch 60: val_accuracy did not improve from 0.81860\n",
      "351/351 - 23s - loss: 0.7334 - accuracy: 0.7921 - val_loss: 0.7015 - val_accuracy: 0.8096 - 23s/epoch - 65ms/step\n",
      "Epoch 61/120\n",
      "\n",
      "Epoch 61: val_accuracy did not improve from 0.81860\n",
      "351/351 - 24s - loss: 0.7323 - accuracy: 0.7912 - val_loss: 0.7395 - val_accuracy: 0.8022 - 24s/epoch - 67ms/step\n",
      "Epoch 62/120\n",
      "\n",
      "Epoch 62: val_accuracy did not improve from 0.81860\n",
      "351/351 - 23s - loss: 0.7281 - accuracy: 0.7934 - val_loss: 0.7068 - val_accuracy: 0.8108 - 23s/epoch - 66ms/step\n",
      "Epoch 63/120\n",
      "\n",
      "Epoch 63: val_accuracy did not improve from 0.81860\n",
      "351/351 - 23s - loss: 0.7307 - accuracy: 0.7923 - val_loss: 0.7235 - val_accuracy: 0.8090 - 23s/epoch - 66ms/step\n",
      "Epoch 64/120\n",
      "\n",
      "Epoch 64: val_accuracy improved from 0.81860 to 0.82200, saving model to mi_mejor_modelo.hdf5\n",
      "351/351 - 24s - loss: 0.7298 - accuracy: 0.7933 - val_loss: 0.6619 - val_accuracy: 0.8220 - 24s/epoch - 68ms/step\n",
      "Epoch 65/120\n",
      "\n",
      "Epoch 65: val_accuracy did not improve from 0.82200\n",
      "351/351 - 24s - loss: 0.7309 - accuracy: 0.7921 - val_loss: 0.7260 - val_accuracy: 0.8038 - 24s/epoch - 67ms/step\n",
      "Epoch 66/120\n",
      "\n",
      "Epoch 66: val_accuracy improved from 0.82200 to 0.82360, saving model to mi_mejor_modelo.hdf5\n",
      "351/351 - 24s - loss: 0.7265 - accuracy: 0.7941 - val_loss: 0.6524 - val_accuracy: 0.8236 - 24s/epoch - 68ms/step\n",
      "Epoch 67/120\n",
      "\n",
      "Epoch 67: val_accuracy improved from 0.82360 to 0.83000, saving model to mi_mejor_modelo.hdf5\n",
      "351/351 - 23s - loss: 0.7222 - accuracy: 0.7953 - val_loss: 0.6336 - val_accuracy: 0.8300 - 23s/epoch - 67ms/step\n",
      "Epoch 68/120\n",
      "\n",
      "Epoch 68: val_accuracy did not improve from 0.83000\n",
      "351/351 - 23s - loss: 0.7252 - accuracy: 0.7946 - val_loss: 0.6619 - val_accuracy: 0.8204 - 23s/epoch - 65ms/step\n",
      "Epoch 69/120\n",
      "\n",
      "Epoch 69: val_accuracy did not improve from 0.83000\n",
      "351/351 - 23s - loss: 0.7241 - accuracy: 0.7949 - val_loss: 0.7642 - val_accuracy: 0.7946 - 23s/epoch - 66ms/step\n",
      "Epoch 70/120\n",
      "\n",
      "Epoch 70: val_accuracy did not improve from 0.83000\n",
      "351/351 - 23s - loss: 0.7235 - accuracy: 0.7959 - val_loss: 0.7585 - val_accuracy: 0.7932 - 23s/epoch - 64ms/step\n",
      "Epoch 71/120\n",
      "\n",
      "Epoch 71: val_accuracy did not improve from 0.83000\n",
      "351/351 - 23s - loss: 0.7239 - accuracy: 0.7966 - val_loss: 0.7130 - val_accuracy: 0.8120 - 23s/epoch - 66ms/step\n",
      "Epoch 72/120\n",
      "\n",
      "Epoch 72: val_accuracy did not improve from 0.83000\n",
      "351/351 - 23s - loss: 0.7181 - accuracy: 0.7999 - val_loss: 0.6378 - val_accuracy: 0.8294 - 23s/epoch - 67ms/step\n",
      "Epoch 73/120\n",
      "\n",
      "Epoch 73: val_accuracy did not improve from 0.83000\n",
      "351/351 - 23s - loss: 0.7141 - accuracy: 0.8009 - val_loss: 0.6869 - val_accuracy: 0.8188 - 23s/epoch - 66ms/step\n",
      "Epoch 74/120\n",
      "\n",
      "Epoch 74: val_accuracy did not improve from 0.83000\n",
      "351/351 - 23s - loss: 0.7264 - accuracy: 0.7942 - val_loss: 0.6824 - val_accuracy: 0.8148 - 23s/epoch - 67ms/step\n",
      "Epoch 75/120\n",
      "\n",
      "Epoch 75: val_accuracy did not improve from 0.83000\n",
      "351/351 - 23s - loss: 0.7223 - accuracy: 0.7965 - val_loss: 0.6886 - val_accuracy: 0.8180 - 23s/epoch - 65ms/step\n",
      "Epoch 76/120\n",
      "\n",
      "Epoch 76: val_accuracy did not improve from 0.83000\n",
      "351/351 - 24s - loss: 0.7111 - accuracy: 0.7997 - val_loss: 0.7020 - val_accuracy: 0.8150 - 24s/epoch - 67ms/step\n",
      "Epoch 77/120\n",
      "\n",
      "Epoch 77: val_accuracy did not improve from 0.83000\n",
      "351/351 - 24s - loss: 0.7123 - accuracy: 0.8004 - val_loss: 0.6797 - val_accuracy: 0.8166 - 24s/epoch - 67ms/step\n",
      "Epoch 78/120\n",
      "\n",
      "Epoch 78: val_accuracy did not improve from 0.83000\n",
      "351/351 - 23s - loss: 0.7166 - accuracy: 0.8011 - val_loss: 0.6873 - val_accuracy: 0.8150 - 23s/epoch - 67ms/step\n",
      "Epoch 79/120\n",
      "\n",
      "Epoch 79: val_accuracy did not improve from 0.83000\n",
      "351/351 - 24s - loss: 0.7136 - accuracy: 0.7997 - val_loss: 0.7573 - val_accuracy: 0.7966 - 24s/epoch - 67ms/step\n",
      "Epoch 80/120\n",
      "\n",
      "Epoch 80: val_accuracy did not improve from 0.83000\n",
      "351/351 - 23s - loss: 0.7157 - accuracy: 0.7978 - val_loss: 0.6613 - val_accuracy: 0.8240 - 23s/epoch - 66ms/step\n",
      "Epoch 81/120\n",
      "\n",
      "Epoch 81: val_accuracy did not improve from 0.83000\n",
      "351/351 - 23s - loss: 0.7129 - accuracy: 0.8022 - val_loss: 0.7639 - val_accuracy: 0.7994 - 23s/epoch - 65ms/step\n",
      "Epoch 82/120\n",
      "\n",
      "Epoch 82: val_accuracy did not improve from 0.83000\n",
      "351/351 - 23s - loss: 0.7167 - accuracy: 0.7995 - val_loss: 0.6995 - val_accuracy: 0.8136 - 23s/epoch - 67ms/step\n",
      "Epoch 83/120\n",
      "\n",
      "Epoch 83: val_accuracy did not improve from 0.83000\n",
      "351/351 - 22s - loss: 0.7143 - accuracy: 0.7992 - val_loss: 0.7202 - val_accuracy: 0.8104 - 22s/epoch - 63ms/step\n",
      "Epoch 84/120\n",
      "\n",
      "Epoch 84: val_accuracy did not improve from 0.83000\n",
      "351/351 - 23s - loss: 0.7126 - accuracy: 0.8020 - val_loss: 0.7348 - val_accuracy: 0.8082 - 23s/epoch - 66ms/step\n",
      "Epoch 85/120\n",
      "\n",
      "Epoch 85: val_accuracy did not improve from 0.83000\n",
      "351/351 - 23s - loss: 0.7124 - accuracy: 0.8007 - val_loss: 0.6778 - val_accuracy: 0.8150 - 23s/epoch - 66ms/step\n",
      "Epoch 86/120\n",
      "\n",
      "Epoch 86: val_accuracy did not improve from 0.83000\n",
      "351/351 - 23s - loss: 0.7131 - accuracy: 0.8020 - val_loss: 0.6536 - val_accuracy: 0.8300 - 23s/epoch - 66ms/step\n",
      "Epoch 87/120\n",
      "\n",
      "Epoch 87: val_accuracy did not improve from 0.83000\n",
      "351/351 - 23s - loss: 0.7112 - accuracy: 0.8030 - val_loss: 0.7416 - val_accuracy: 0.8016 - 23s/epoch - 65ms/step\n",
      "Epoch 88/120\n",
      "\n",
      "Epoch 88: val_accuracy did not improve from 0.83000\n",
      "351/351 - 23s - loss: 0.7141 - accuracy: 0.8014 - val_loss: 0.6693 - val_accuracy: 0.8262 - 23s/epoch - 66ms/step\n",
      "Epoch 89/120\n",
      "\n",
      "Epoch 89: val_accuracy improved from 0.83000 to 0.83100, saving model to mi_mejor_modelo.hdf5\n",
      "351/351 - 23s - loss: 0.7081 - accuracy: 0.8050 - val_loss: 0.6317 - val_accuracy: 0.8310 - 23s/epoch - 66ms/step\n",
      "Epoch 90/120\n",
      "\n",
      "Epoch 90: val_accuracy did not improve from 0.83100\n",
      "351/351 - 24s - loss: 0.7068 - accuracy: 0.8024 - val_loss: 0.6846 - val_accuracy: 0.8190 - 24s/epoch - 67ms/step\n",
      "Epoch 91/120\n",
      "\n",
      "Epoch 91: val_accuracy did not improve from 0.83100\n",
      "351/351 - 23s - loss: 0.7078 - accuracy: 0.8045 - val_loss: 0.6947 - val_accuracy: 0.8198 - 23s/epoch - 66ms/step\n",
      "Epoch 92/120\n",
      "\n",
      "Epoch 92: val_accuracy did not improve from 0.83100\n",
      "351/351 - 23s - loss: 0.7060 - accuracy: 0.8008 - val_loss: 0.6356 - val_accuracy: 0.8308 - 23s/epoch - 67ms/step\n",
      "Epoch 93/120\n",
      "\n",
      "Epoch 93: val_accuracy improved from 0.83100 to 0.83380, saving model to mi_mejor_modelo.hdf5\n",
      "351/351 - 23s - loss: 0.7088 - accuracy: 0.8036 - val_loss: 0.6210 - val_accuracy: 0.8338 - 23s/epoch - 66ms/step\n",
      "Epoch 94/120\n",
      "\n",
      "Epoch 94: val_accuracy did not improve from 0.83380\n",
      "351/351 - 23s - loss: 0.7066 - accuracy: 0.8048 - val_loss: 0.6786 - val_accuracy: 0.8208 - 23s/epoch - 65ms/step\n",
      "Epoch 95/120\n",
      "\n",
      "Epoch 95: val_accuracy did not improve from 0.83380\n",
      "351/351 - 23s - loss: 0.7062 - accuracy: 0.8027 - val_loss: 0.7150 - val_accuracy: 0.8104 - 23s/epoch - 66ms/step\n",
      "Epoch 96/120\n",
      "\n",
      "Epoch 96: val_accuracy improved from 0.83380 to 0.83400, saving model to mi_mejor_modelo.hdf5\n",
      "351/351 - 23s - loss: 0.7046 - accuracy: 0.8044 - val_loss: 0.6403 - val_accuracy: 0.8340 - 23s/epoch - 65ms/step\n",
      "Epoch 97/120\n",
      "\n",
      "Epoch 97: val_accuracy did not improve from 0.83400\n",
      "351/351 - 24s - loss: 0.7015 - accuracy: 0.8057 - val_loss: 0.7527 - val_accuracy: 0.8034 - 24s/epoch - 67ms/step\n",
      "Epoch 98/120\n",
      "\n",
      "Epoch 98: val_accuracy did not improve from 0.83400\n",
      "351/351 - 24s - loss: 0.7022 - accuracy: 0.8043 - val_loss: 0.6351 - val_accuracy: 0.8336 - 24s/epoch - 67ms/step\n",
      "Epoch 99/120\n",
      "\n",
      "Epoch 99: val_accuracy did not improve from 0.83400\n",
      "351/351 - 24s - loss: 0.7025 - accuracy: 0.8069 - val_loss: 0.7064 - val_accuracy: 0.8158 - 24s/epoch - 67ms/step\n",
      "Epoch 100/120\n",
      "\n",
      "Epoch 100: val_accuracy did not improve from 0.83400\n",
      "351/351 - 23s - loss: 0.7039 - accuracy: 0.8052 - val_loss: 0.6547 - val_accuracy: 0.8290 - 23s/epoch - 66ms/step\n",
      "Epoch 101/120\n",
      "\n",
      "Epoch 101: val_accuracy did not improve from 0.83400\n",
      "351/351 - 23s - loss: 0.7077 - accuracy: 0.8032 - val_loss: 0.6918 - val_accuracy: 0.8188 - 23s/epoch - 66ms/step\n",
      "Epoch 102/120\n",
      "\n",
      "Epoch 102: val_accuracy did not improve from 0.83400\n",
      "351/351 - 22s - loss: 0.7023 - accuracy: 0.8058 - val_loss: 0.6616 - val_accuracy: 0.8326 - 22s/epoch - 64ms/step\n",
      "Epoch 103/120\n",
      "\n",
      "Epoch 103: val_accuracy did not improve from 0.83400\n",
      "351/351 - 23s - loss: 0.6964 - accuracy: 0.8052 - val_loss: 0.6729 - val_accuracy: 0.8240 - 23s/epoch - 66ms/step\n",
      "Epoch 104/120\n",
      "\n",
      "Epoch 104: val_accuracy did not improve from 0.83400\n",
      "351/351 - 23s - loss: 0.7045 - accuracy: 0.8071 - val_loss: 0.6680 - val_accuracy: 0.8274 - 23s/epoch - 65ms/step\n",
      "Epoch 105/120\n",
      "\n",
      "Epoch 105: val_accuracy did not improve from 0.83400\n",
      "351/351 - 23s - loss: 0.6917 - accuracy: 0.8094 - val_loss: 0.7434 - val_accuracy: 0.8040 - 23s/epoch - 65ms/step\n",
      "Epoch 106/120\n",
      "\n",
      "Epoch 106: val_accuracy did not improve from 0.83400\n",
      "351/351 - 23s - loss: 0.6975 - accuracy: 0.8071 - val_loss: 0.6650 - val_accuracy: 0.8260 - 23s/epoch - 66ms/step\n",
      "Epoch 107/120\n",
      "\n",
      "Epoch 107: val_accuracy did not improve from 0.83400\n",
      "351/351 - 23s - loss: 0.6952 - accuracy: 0.8072 - val_loss: 0.6517 - val_accuracy: 0.8266 - 23s/epoch - 67ms/step\n",
      "Epoch 108/120\n",
      "\n",
      "Epoch 108: val_accuracy did not improve from 0.83400\n",
      "351/351 - 23s - loss: 0.7021 - accuracy: 0.8045 - val_loss: 0.6997 - val_accuracy: 0.8116 - 23s/epoch - 66ms/step\n",
      "Epoch 109/120\n",
      "\n",
      "Epoch 109: val_accuracy did not improve from 0.83400\n",
      "351/351 - 24s - loss: 0.6958 - accuracy: 0.8091 - val_loss: 0.6895 - val_accuracy: 0.8220 - 24s/epoch - 67ms/step\n",
      "Epoch 110/120\n",
      "\n",
      "Epoch 110: val_accuracy did not improve from 0.83400\n",
      "351/351 - 23s - loss: 0.6963 - accuracy: 0.8076 - val_loss: 0.6972 - val_accuracy: 0.8168 - 23s/epoch - 66ms/step\n",
      "Epoch 111/120\n",
      "\n",
      "Epoch 111: val_accuracy did not improve from 0.83400\n",
      "351/351 - 23s - loss: 0.6961 - accuracy: 0.8087 - val_loss: 0.6857 - val_accuracy: 0.8226 - 23s/epoch - 64ms/step\n",
      "Epoch 112/120\n",
      "\n",
      "Epoch 112: val_accuracy did not improve from 0.83400\n",
      "351/351 - 23s - loss: 0.6951 - accuracy: 0.8086 - val_loss: 0.6766 - val_accuracy: 0.8222 - 23s/epoch - 66ms/step\n",
      "Epoch 113/120\n",
      "\n",
      "Epoch 113: val_accuracy did not improve from 0.83400\n",
      "351/351 - 22s - loss: 0.6958 - accuracy: 0.8101 - val_loss: 0.7952 - val_accuracy: 0.7950 - 22s/epoch - 64ms/step\n",
      "Epoch 114/120\n",
      "\n",
      "Epoch 114: val_accuracy did not improve from 0.83400\n",
      "351/351 - 23s - loss: 0.6968 - accuracy: 0.8080 - val_loss: 0.6625 - val_accuracy: 0.8274 - 23s/epoch - 66ms/step\n",
      "Epoch 115/120\n",
      "\n",
      "Epoch 115: val_accuracy did not improve from 0.83400\n",
      "351/351 - 23s - loss: 0.6971 - accuracy: 0.8079 - val_loss: 0.6624 - val_accuracy: 0.8254 - 23s/epoch - 66ms/step\n",
      "Epoch 116/120\n",
      "\n",
      "Epoch 116: val_accuracy did not improve from 0.83400\n",
      "351/351 - 23s - loss: 0.6971 - accuracy: 0.8082 - val_loss: 0.6815 - val_accuracy: 0.8208 - 23s/epoch - 65ms/step\n",
      "Epoch 117/120\n",
      "\n",
      "Epoch 117: val_accuracy did not improve from 0.83400\n",
      "351/351 - 23s - loss: 0.6924 - accuracy: 0.8093 - val_loss: 0.6884 - val_accuracy: 0.8192 - 23s/epoch - 65ms/step\n",
      "Epoch 118/120\n",
      "\n",
      "Epoch 118: val_accuracy improved from 0.83400 to 0.84340, saving model to mi_mejor_modelo.hdf5\n",
      "351/351 - 23s - loss: 0.6920 - accuracy: 0.8091 - val_loss: 0.6198 - val_accuracy: 0.8434 - 23s/epoch - 65ms/step\n",
      "Epoch 119/120\n",
      "\n",
      "Epoch 119: val_accuracy did not improve from 0.84340\n",
      "351/351 - 23s - loss: 0.6979 - accuracy: 0.8097 - val_loss: 0.6652 - val_accuracy: 0.8230 - 23s/epoch - 65ms/step\n",
      "Epoch 120/120\n",
      "\n",
      "Epoch 120: val_accuracy did not improve from 0.84340\n",
      "351/351 - 23s - loss: 0.6914 - accuracy: 0.8098 - val_loss: 0.7839 - val_accuracy: 0.7966 - 23s/epoch - 65ms/step\n"
     ]
    }
   ],
   "source": [
    "hist= model.fit(datagen.flow(x_train,y_train,\n",
    "                      batch_size=128),\n",
    "          callbacks=[checkpoint],\n",
    "         steps_per_epoch=x_train.shape[0]//128 ,\n",
    "         epochs=120,\n",
    "         verbose=2,\n",
    "         validation_data=(x_valid,y_valid))"
   ]
  },
  {
   "cell_type": "code",
   "execution_count": 20,
   "id": "27cc2547",
   "metadata": {
    "execution": {
     "iopub.execute_input": "2023-03-29T20:12:13.927400Z",
     "iopub.status.busy": "2023-03-29T20:12:13.926324Z",
     "iopub.status.idle": "2023-03-29T20:12:14.140794Z",
     "shell.execute_reply": "2023-03-29T20:12:14.139812Z"
    },
    "papermill": {
     "duration": 0.248521,
     "end_time": "2023-03-29T20:12:14.143126",
     "exception": false,
     "start_time": "2023-03-29T20:12:13.894605",
     "status": "completed"
    },
    "tags": []
   },
   "outputs": [
    {
     "data": {
      "image/png": "[encoded data removed]",
      "text/plain": [
       "<Figure size 640x480 with 1 Axes>"
      ]
     },
     "metadata": {},
     "output_type": "display_data"
    }
   ],
   "source": [
    "plt.plot(hist.history[\"accuracy\"],label=\"Train\")\n",
    "plt.plot(hist.history[\"val_accuracy\"],label=\"Val\")\n",
    "plt.legend()\n",
    "plt.show()"
   ]
  },
  {
   "cell_type": "markdown",
   "id": "4d67e5ba",
   "metadata": {
    "papermill": {
     "duration": 0.030571,
     "end_time": "2023-03-29T20:12:14.205047",
     "exception": false,
     "start_time": "2023-03-29T20:12:14.174476",
     "status": "completed"
    },
    "tags": []
   },
   "source": [
    "**Vemos que el comportamiento es muy óptimo, sin overfitting, siempre aumentando su accuracy**"
   ]
  },
  {
   "cell_type": "code",
   "execution_count": 21,
   "id": "71129e25",
   "metadata": {
    "execution": {
     "iopub.execute_input": "2023-03-29T20:12:14.269792Z",
     "iopub.status.busy": "2023-03-29T20:12:14.268664Z",
     "iopub.status.idle": "2023-03-29T20:12:14.319837Z",
     "shell.execute_reply": "2023-03-29T20:12:14.318845Z"
    },
    "papermill": {
     "duration": 0.086081,
     "end_time": "2023-03-29T20:12:14.322232",
     "exception": false,
     "start_time": "2023-03-29T20:12:14.236151",
     "status": "completed"
    },
    "tags": []
   },
   "outputs": [],
   "source": [
    "model2=model\n",
    "model2.load_weights(\"./mi_mejor_modelo.hdf5\")"
   ]
  },
  {
   "cell_type": "code",
   "execution_count": 22,
   "id": "b9b55198",
   "metadata": {
    "execution": {
     "iopub.execute_input": "2023-03-29T20:12:14.386490Z",
     "iopub.status.busy": "2023-03-29T20:12:14.385507Z",
     "iopub.status.idle": "2023-03-29T20:12:16.067870Z",
     "shell.execute_reply": "2023-03-29T20:12:16.066913Z"
    },
    "papermill": {
     "duration": 1.716535,
     "end_time": "2023-03-29T20:12:16.070183",
     "exception": false,
     "start_time": "2023-03-29T20:12:14.353648",
     "status": "completed"
    },
    "tags": []
   },
   "outputs": [
    {
     "name": "stdout",
     "output_type": "stream",
     "text": [
      "313/313 [==============================] - 1s 4ms/step - loss: 0.6530 - accuracy: 0.8307\n"
     ]
    },
    {
     "data": {
      "text/plain": [
       "[0.6529817581176758, 0.8306999802589417]"
      ]
     },
     "execution_count": 22,
     "metadata": {},
     "output_type": "execute_result"
    }
   ],
   "source": [
    "model2.evaluate(x_test,y_test)"
   ]
  },
  {
   "cell_type": "markdown",
   "id": "9e7dfa34",
   "metadata": {
    "papermill": {
     "duration": 0.031753,
     "end_time": "2023-03-29T20:12:16.134221",
     "exception": false,
     "start_time": "2023-03-29T20:12:16.102468",
     "status": "completed"
    },
    "tags": []
   },
   "source": [
    "Entonces vemos que el accuracy aumenta bastante, al 82% "
   ]
  },
  {
   "cell_type": "code",
   "execution_count": null,
   "id": "c41c8161",
   "metadata": {
    "execution": {
     "iopub.status.busy": "2023-03-29T17:29:25.354120Z",
     "iopub.status.idle": "2023-03-29T17:29:25.354638Z",
     "shell.execute_reply": "2023-03-29T17:29:25.354357Z",
     "shell.execute_reply.started": "2023-03-29T17:29:25.354333Z"
    },
    "papermill": {
     "duration": 0.032254,
     "end_time": "2023-03-29T20:12:16.198323",
     "exception": false,
     "start_time": "2023-03-29T20:12:16.166069",
     "status": "completed"
    },
    "tags": []
   },
   "outputs": [],
   "source": []
  },
  {
   "cell_type": "markdown",
   "id": "d3d37fa2",
   "metadata": {
    "papermill": {
     "duration": 0.031283,
     "end_time": "2023-03-29T20:12:16.261471",
     "exception": false,
     "start_time": "2023-03-29T20:12:16.230188",
     "status": "completed"
    },
    "tags": []
   },
   "source": []
  }
 ],
 "metadata": {
  "kernelspec": {
   "display_name": "Python 3",
   "language": "python",
   "name": "python3"
  },
  "language_info": {
   "codemirror_mode": {
    "name": "ipython",
    "version": 3
   },
   "file_extension": ".py",
   "mimetype": "text/x-python",
   "name": "python",
   "nbconvert_exporter": "python",
   "pygments_lexer": "ipython3",
   "version": "3.7.12"
  },
  "papermill": {
   "default_parameters": {},
   "duration": 3865.730246,
   "end_time": "2023-03-29T20:12:19.700773",
   "environment_variables": {},
   "exception": null,
   "input_path": "__notebook__.ipynb",
   "output_path": "__notebook__.ipynb",
   "parameters": {},
   "start_time": "2023-03-29T19:07:53.970527",
   "version": "2.4.0"
  }
 },
 "nbformat": 4,
 "nbformat_minor": 5
}
