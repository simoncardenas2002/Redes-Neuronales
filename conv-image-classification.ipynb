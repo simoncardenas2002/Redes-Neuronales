{
 "cells": [
  {
   "cell_type": "code",
   "execution_count": 1,
   "id": "88f69734",
   "metadata": {
    "execution": {
     "iopub.execute_input": "2023-03-28T16:59:58.492972Z",
     "iopub.status.busy": "2023-03-28T16:59:58.492465Z",
     "iopub.status.idle": "2023-03-28T17:00:06.007589Z",
     "shell.execute_reply": "2023-03-28T17:00:06.006455Z"
    },
    "papermill": {
     "duration": 7.525096,
     "end_time": "2023-03-28T17:00:06.010224",
     "exception": false,
     "start_time": "2023-03-28T16:59:58.485128",
     "status": "completed"
    },
    "tags": []
   },
   "outputs": [],
   "source": [
    "from tensorflow import keras\n",
    "from tensorflow.keras.utils import to_categorical\n",
    "from tensorflow.keras import regularizers\n",
    "from tensorflow.keras.models import Sequential\n",
    "from tensorflow.keras.layers import Conv2D , MaxPooling2D, Flatten , Dense, Dropout, Activation\n",
    "from tensorflow.keras.datasets import cifar10"
   ]
  },
  {
   "cell_type": "code",
   "execution_count": 2,
   "id": "e85cc02a",
   "metadata": {
    "execution": {
     "iopub.execute_input": "2023-03-28T17:00:06.021631Z",
     "iopub.status.busy": "2023-03-28T17:00:06.020328Z",
     "iopub.status.idle": "2023-03-28T17:00:06.025622Z",
     "shell.execute_reply": "2023-03-28T17:00:06.024464Z"
    },
    "papermill": {
     "duration": 0.013345,
     "end_time": "2023-03-28T17:00:06.028379",
     "exception": false,
     "start_time": "2023-03-28T17:00:06.015034",
     "status": "completed"
    },
    "tags": []
   },
   "outputs": [],
   "source": [
    "import numpy as np\n",
    "import matplotlib.pyplot as plt"
   ]
  },
  {
   "cell_type": "code",
   "execution_count": 3,
   "id": "d5ae2192",
   "metadata": {
    "execution": {
     "iopub.execute_input": "2023-03-28T17:00:06.038690Z",
     "iopub.status.busy": "2023-03-28T17:00:06.037812Z",
     "iopub.status.idle": "2023-03-28T17:00:12.363518Z",
     "shell.execute_reply": "2023-03-28T17:00:12.362469Z"
    },
    "papermill": {
     "duration": 6.333212,
     "end_time": "2023-03-28T17:00:12.365986",
     "exception": false,
     "start_time": "2023-03-28T17:00:06.032774",
     "status": "completed"
    },
    "tags": []
   },
   "outputs": [
    {
     "name": "stdout",
     "output_type": "stream",
     "text": [
      "Downloading data from https://www.cs.toronto.edu/~kriz/cifar-10-python.tar.gz\n",
      "170498071/170498071 [==============================] - 4s 0us/step\n"
     ]
    }
   ],
   "source": [
    "(x_train,y_train),(x_test,y_test)=cifar10.load_data()"
   ]
  },
  {
   "cell_type": "code",
   "execution_count": 4,
   "id": "baa0a2e4",
   "metadata": {
    "execution": {
     "iopub.execute_input": "2023-03-28T17:00:12.384219Z",
     "iopub.status.busy": "2023-03-28T17:00:12.383229Z",
     "iopub.status.idle": "2023-03-28T17:00:12.390642Z",
     "shell.execute_reply": "2023-03-28T17:00:12.389619Z"
    },
    "papermill": {
     "duration": 0.018779,
     "end_time": "2023-03-28T17:00:12.393034",
     "exception": false,
     "start_time": "2023-03-28T17:00:12.374255",
     "status": "completed"
    },
    "tags": []
   },
   "outputs": [
    {
     "data": {
      "text/plain": [
       "(50000, 32, 32, 3)"
      ]
     },
     "execution_count": 4,
     "metadata": {},
     "output_type": "execute_result"
    }
   ],
   "source": [
    "x_train.shape"
   ]
  },
  {
   "cell_type": "code",
   "execution_count": 5,
   "id": "7b34357e",
   "metadata": {
    "execution": {
     "iopub.execute_input": "2023-03-28T17:00:12.410193Z",
     "iopub.status.busy": "2023-03-28T17:00:12.409868Z",
     "iopub.status.idle": "2023-03-28T17:00:12.643160Z",
     "shell.execute_reply": "2023-03-28T17:00:12.642120Z"
    },
    "papermill": {
     "duration": 0.244561,
     "end_time": "2023-03-28T17:00:12.645440",
     "exception": false,
     "start_time": "2023-03-28T17:00:12.400879",
     "status": "completed"
    },
    "tags": []
   },
   "outputs": [
    {
     "data": {
      "text/plain": [
       "<matplotlib.image.AxesImage at 0x7fb5919dc7d0>"
      ]
     },
     "execution_count": 5,
     "metadata": {},
     "output_type": "execute_result"
    },
    {
     "data": {
      "image/png": "[encoded data removed]",
      "text/plain": [
       "<Figure size 640x480 with 1 Axes>"
      ]
     },
     "metadata": {},
     "output_type": "display_data"
    }
   ],
   "source": [
    "plt.imshow(x_train[32])"
   ]
  },
  {
   "cell_type": "markdown",
   "id": "f32c6c61",
   "metadata": {
    "papermill": {
     "duration": 0.008175,
     "end_time": "2023-03-28T17:00:12.662385",
     "exception": false,
     "start_time": "2023-03-28T17:00:12.654210",
     "status": "completed"
    },
    "tags": []
   },
   "source": [
    "### Comenzaremos con una limpieza de datos"
   ]
  },
  {
   "cell_type": "code",
   "execution_count": 6,
   "id": "7b7bda56",
   "metadata": {
    "execution": {
     "iopub.execute_input": "2023-03-28T17:00:12.681432Z",
     "iopub.status.busy": "2023-03-28T17:00:12.680225Z",
     "iopub.status.idle": "2023-03-28T17:00:12.931721Z",
     "shell.execute_reply": "2023-03-28T17:00:12.930586Z"
    },
    "papermill": {
     "duration": 0.264136,
     "end_time": "2023-03-28T17:00:12.934702",
     "exception": false,
     "start_time": "2023-03-28T17:00:12.670566",
     "status": "completed"
    },
    "tags": []
   },
   "outputs": [],
   "source": [
    "#aca llevamos los valores de 0 a 1 para evitar cualquier tipo de sesgo\n",
    "x_train= x_train.astype(\"float32\")/255\n",
    "x_test= x_test.astype(\"float32\")/255"
   ]
  },
  {
   "cell_type": "code",
   "execution_count": 7,
   "id": "bc7afcad",
   "metadata": {
    "execution": {
     "iopub.execute_input": "2023-03-28T17:00:12.953137Z",
     "iopub.status.busy": "2023-03-28T17:00:12.952798Z",
     "iopub.status.idle": "2023-03-28T17:00:12.960909Z",
     "shell.execute_reply": "2023-03-28T17:00:12.959986Z"
    },
    "papermill": {
     "duration": 0.01976,
     "end_time": "2023-03-28T17:00:12.963166",
     "exception": false,
     "start_time": "2023-03-28T17:00:12.943406",
     "status": "completed"
    },
    "tags": []
   },
   "outputs": [],
   "source": [
    "#haremos una clasificación \n",
    "num_classes = len(np.unique(y_train))\n",
    "y_train=to_categorical(y_train, num_classes) #usamos la función \"to_categorical\" que sabemos que nos crea un arreglo con 0 y 1 por cada dato\n",
    "y_test= to_categorical(y_test, num_classes)\n"
   ]
  },
  {
   "cell_type": "code",
   "execution_count": 8,
   "id": "e94fbcd0",
   "metadata": {
    "execution": {
     "iopub.execute_input": "2023-03-28T17:00:12.981902Z",
     "iopub.status.busy": "2023-03-28T17:00:12.980746Z",
     "iopub.status.idle": "2023-03-28T17:00:12.987699Z",
     "shell.execute_reply": "2023-03-28T17:00:12.986632Z"
    },
    "papermill": {
     "duration": 0.018488,
     "end_time": "2023-03-28T17:00:12.989938",
     "exception": false,
     "start_time": "2023-03-28T17:00:12.971450",
     "status": "completed"
    },
    "tags": []
   },
   "outputs": [
    {
     "data": {
      "text/plain": [
       "10"
      ]
     },
     "execution_count": 8,
     "metadata": {},
     "output_type": "execute_result"
    }
   ],
   "source": [
    "#Tenemos 10 diferentes posibles salidas\n",
    "num_classes"
   ]
  },
  {
   "cell_type": "markdown",
   "id": "8a27b0d2",
   "metadata": {
    "papermill": {
     "duration": 0.008337,
     "end_time": "2023-03-28T17:00:13.006680",
     "exception": false,
     "start_time": "2023-03-28T17:00:12.998343",
     "status": "completed"
    },
    "tags": []
   },
   "source": [
    "### Ahora que tenemos los datos mas organizados realizaremos una división de los datos entre validación , entrenamiento y test"
   ]
  },
  {
   "cell_type": "code",
   "execution_count": 9,
   "id": "3b87fbec",
   "metadata": {
    "execution": {
     "iopub.execute_input": "2023-03-28T17:00:13.025704Z",
     "iopub.status.busy": "2023-03-28T17:00:13.024727Z",
     "iopub.status.idle": "2023-03-28T17:00:13.032726Z",
     "shell.execute_reply": "2023-03-28T17:00:13.031442Z"
    },
    "papermill": {
     "duration": 0.019792,
     "end_time": "2023-03-28T17:00:13.034874",
     "exception": false,
     "start_time": "2023-03-28T17:00:13.015082",
     "status": "completed"
    },
    "tags": []
   },
   "outputs": [
    {
     "name": "stdout",
     "output_type": "stream",
     "text": [
      "x_train shape:  45000\n",
      "train  45000\n",
      "val  5000\n",
      "test  10000\n"
     ]
    }
   ],
   "source": [
    "(x_train ,x_valid)= x_train[5000:], x_train[:5000]\n",
    "(y_train ,y_valid)= y_train[5000:], y_train[:5000]\n",
    "\n",
    "print(\"x_train shape: \" ,x_train.shape[0])\n",
    "\n",
    "print(\"train \", x_train.shape[0])\n",
    "print(\"val \", x_valid.shape[0])\n",
    "print(\"test \", x_test.shape[0])\n"
   ]
  },
  {
   "cell_type": "markdown",
   "id": "e250f695",
   "metadata": {
    "papermill": {
     "duration": 0.008548,
     "end_time": "2023-03-28T17:00:13.051946",
     "exception": false,
     "start_time": "2023-03-28T17:00:13.043398",
     "status": "completed"
    },
    "tags": []
   },
   "source": [
    "### Crearemos el modelo de CNN"
   ]
  },
  {
   "cell_type": "markdown",
   "id": "749f070e",
   "metadata": {
    "papermill": {
     "duration": 0.00839,
     "end_time": "2023-03-28T17:00:13.069520",
     "exception": false,
     "start_time": "2023-03-28T17:00:13.061130",
     "status": "completed"
    },
    "tags": []
   },
   "source": []
  },
  {
   "cell_type": "code",
   "execution_count": 10,
   "id": "a65d822b",
   "metadata": {
    "execution": {
     "iopub.execute_input": "2023-03-28T17:00:13.088647Z",
     "iopub.status.busy": "2023-03-28T17:00:13.087638Z",
     "iopub.status.idle": "2023-03-28T17:00:13.092835Z",
     "shell.execute_reply": "2023-03-28T17:00:13.091739Z"
    },
    "papermill": {
     "duration": 0.017007,
     "end_time": "2023-03-28T17:00:13.094926",
     "exception": false,
     "start_time": "2023-03-28T17:00:13.077919",
     "status": "completed"
    },
    "tags": []
   },
   "outputs": [],
   "source": [
    "base_filtros=32\n",
    "w_regularizer=1e-4"
   ]
  },
  {
   "cell_type": "code",
   "execution_count": 11,
   "id": "54aafef0",
   "metadata": {
    "execution": {
     "iopub.execute_input": "2023-03-28T17:00:13.113551Z",
     "iopub.status.busy": "2023-03-28T17:00:13.112956Z",
     "iopub.status.idle": "2023-03-28T17:00:16.028468Z",
     "shell.execute_reply": "2023-03-28T17:00:16.027603Z"
    },
    "papermill": {
     "duration": 2.963159,
     "end_time": "2023-03-28T17:00:16.066779",
     "exception": false,
     "start_time": "2023-03-28T17:00:13.103620",
     "status": "completed"
    },
    "tags": []
   },
   "outputs": [
    {
     "name": "stdout",
     "output_type": "stream",
     "text": [
      "Model: \"sequential\"\n",
      "_________________________________________________________________\n",
      " Layer (type)                Output Shape              Param #   \n",
      "=================================================================\n",
      " conv2d (Conv2D)             (None, 32, 32, 32)        896       \n",
      "                                                                 \n",
      " activation (Activation)     (None, 32, 32, 32)        0         \n",
      "                                                                 \n",
      " conv2d_1 (Conv2D)           (None, 32, 32, 32)        9248      \n",
      "                                                                 \n",
      " activation_1 (Activation)   (None, 32, 32, 32)        0         \n",
      "                                                                 \n",
      " max_pooling2d (MaxPooling2D  (None, 16, 16, 32)       0         \n",
      " )                                                               \n",
      "                                                                 \n",
      " dropout (Dropout)           (None, 16, 16, 32)        0         \n",
      "                                                                 \n",
      " conv2d_2 (Conv2D)           (None, 16, 16, 64)        18496     \n",
      "                                                                 \n",
      " activation_2 (Activation)   (None, 16, 16, 64)        0         \n",
      "                                                                 \n",
      " dropout_1 (Dropout)         (None, 16, 16, 64)        0         \n",
      "                                                                 \n",
      " conv2d_3 (Conv2D)           (None, 16, 16, 64)        36928     \n",
      "                                                                 \n",
      " activation_3 (Activation)   (None, 16, 16, 64)        0         \n",
      "                                                                 \n",
      " max_pooling2d_1 (MaxPooling  (None, 8, 8, 64)         0         \n",
      " 2D)                                                             \n",
      "                                                                 \n",
      " dropout_2 (Dropout)         (None, 8, 8, 64)          0         \n",
      "                                                                 \n",
      " conv2d_4 (Conv2D)           (None, 8, 8, 128)         73856     \n",
      "                                                                 \n",
      " activation_4 (Activation)   (None, 8, 8, 128)         0         \n",
      "                                                                 \n",
      " conv2d_5 (Conv2D)           (None, 8, 8, 128)         147584    \n",
      "                                                                 \n",
      " activation_5 (Activation)   (None, 8, 8, 128)         0         \n",
      "                                                                 \n",
      " max_pooling2d_2 (MaxPooling  (None, 4, 4, 128)        0         \n",
      " 2D)                                                             \n",
      "                                                                 \n",
      " dropout_3 (Dropout)         (None, 4, 4, 128)         0         \n",
      "                                                                 \n",
      " flatten (Flatten)           (None, 2048)              0         \n",
      "                                                                 \n",
      " dense (Dense)               (None, 10)                20490     \n",
      "                                                                 \n",
      "=================================================================\n",
      "Total params: 307,498\n",
      "Trainable params: 307,498\n",
      "Non-trainable params: 0\n",
      "_________________________________________________________________\n"
     ]
    }
   ],
   "source": [
    "model=Sequential()\n",
    "#primero tendremos una capa de convolución y luego una de activación\n",
    "#conv1\n",
    "model.add(Conv2D(base_filtros,(3,3),padding=\"same\",kernel_regularizer=regularizers.l2(w_regularizer),input_shape=(32,32,3)))\n",
    "model.add(Activation(\"relu\"))\n",
    "\n",
    "#conv2\n",
    "model.add(Conv2D(base_filtros,(3,3),padding=\"same\",kernel_regularizer=regularizers.l2(w_regularizer)))\n",
    "model.add(Activation(\"relu\"))\n",
    "model.add(MaxPooling2D(pool_size=(2,2)))\n",
    "model.add(Dropout(0.2))\n",
    "\n",
    "#conv3\n",
    "model.add(Conv2D(2*base_filtros,(3,3),padding=\"same\",kernel_regularizer=regularizers.l2(w_regularizer)))\n",
    "model.add(Activation(\"relu\"))\n",
    "model.add(Dropout(0.2))\n",
    "\n",
    "#conv4\n",
    "model.add(Conv2D(2*base_filtros,(3,3),padding=\"same\",kernel_regularizer=regularizers.l2(w_regularizer)))\n",
    "model.add(Activation(\"relu\"))\n",
    "model.add(MaxPooling2D(pool_size=(2,2)))\n",
    "model.add(Dropout(0.3))\n",
    "\n",
    "#conv5\n",
    "model.add(Conv2D(4*base_filtros,(3,3),padding=\"same\",kernel_regularizer=regularizers.l2(w_regularizer)))\n",
    "model.add(Activation(\"relu\"))\n",
    "\n",
    "#conv6\n",
    "model.add(Conv2D(4*base_filtros,(3,3),padding=\"same\",kernel_regularizer=regularizers.l2(w_regularizer)))\n",
    "model.add(Activation(\"relu\"))\n",
    "model.add(MaxPooling2D(pool_size=(2,2)))\n",
    "model.add(Dropout(0.4))\n",
    "\n",
    "#Clasificacion - flatten \n",
    "model.add(Flatten())\n",
    "model.add(Dense(num_classes,activation=\"softmax\"))\n",
    "\n",
    "model.summary()\n",
    "\n"
   ]
  },
  {
   "cell_type": "markdown",
   "id": "434faca1",
   "metadata": {
    "papermill": {
     "duration": 0.011167,
     "end_time": "2023-03-28T17:00:16.093125",
     "exception": false,
     "start_time": "2023-03-28T17:00:16.081958",
     "status": "completed"
    },
    "tags": []
   },
   "source": [
    "## entrenaremos el modelo"
   ]
  },
  {
   "cell_type": "code",
   "execution_count": 12,
   "id": "f35be1ca",
   "metadata": {
    "execution": {
     "iopub.execute_input": "2023-03-28T17:00:16.117656Z",
     "iopub.status.busy": "2023-03-28T17:00:16.116741Z",
     "iopub.status.idle": "2023-03-28T17:00:16.135186Z",
     "shell.execute_reply": "2023-03-28T17:00:16.134209Z"
    },
    "papermill": {
     "duration": 0.033036,
     "end_time": "2023-03-28T17:00:16.137544",
     "exception": false,
     "start_time": "2023-03-28T17:00:16.104508",
     "status": "completed"
    },
    "tags": []
   },
   "outputs": [],
   "source": [
    "model.compile(loss=\"categorical_crossentropy\",\n",
    "             optimizer=\"rmsprop\",\n",
    "             metrics=[\"accuracy\"])"
   ]
  },
  {
   "cell_type": "code",
   "execution_count": 13,
   "id": "70ff47f5",
   "metadata": {
    "execution": {
     "iopub.execute_input": "2023-03-28T17:00:16.161543Z",
     "iopub.status.busy": "2023-03-28T17:00:16.160643Z",
     "iopub.status.idle": "2023-03-28T17:14:41.056182Z",
     "shell.execute_reply": "2023-03-28T17:14:41.055055Z"
    },
    "papermill": {
     "duration": 864.91043,
     "end_time": "2023-03-28T17:14:41.059104",
     "exception": false,
     "start_time": "2023-03-28T17:00:16.148674",
     "status": "completed"
    },
    "scrolled": true,
    "tags": []
   },
   "outputs": [
    {
     "name": "stdout",
     "output_type": "stream",
     "text": [
      "Epoch 1/100\n"
     ]
    },
    {
     "name": "stderr",
     "output_type": "stream",
     "text": [
      "2023-03-28 17:00:19.021088: E tensorflow/core/grappler/optimizers/meta_optimizer.cc:954] layout failed: INVALID_ARGUMENT: Size of values 0 does not match size of permutation 4 @ fanin shape insequential/dropout/dropout/SelectV2-2-TransposeNHWCToNCHW-LayoutOptimizer\n"
     ]
    },
    {
     "name": "stdout",
     "output_type": "stream",
     "text": [
      "1407/1407 - 18s - loss: 1.7352 - accuracy: 0.3737 - val_loss: 1.3675 - val_accuracy: 0.5226 - 18s/epoch - 13ms/step\n",
      "Epoch 2/100\n",
      "1407/1407 - 8s - loss: 1.2712 - accuracy: 0.5643 - val_loss: 1.1179 - val_accuracy: 0.6156 - 8s/epoch - 6ms/step\n",
      "Epoch 3/100\n",
      "1407/1407 - 8s - loss: 1.0983 - accuracy: 0.6369 - val_loss: 1.0217 - val_accuracy: 0.6618 - 8s/epoch - 6ms/step\n",
      "Epoch 4/100\n",
      "1407/1407 - 8s - loss: 1.0010 - accuracy: 0.6762 - val_loss: 1.0697 - val_accuracy: 0.6726 - 8s/epoch - 6ms/step\n",
      "Epoch 5/100\n",
      "1407/1407 - 9s - loss: 0.9422 - accuracy: 0.7017 - val_loss: 0.8263 - val_accuracy: 0.7462 - 9s/epoch - 6ms/step\n",
      "Epoch 6/100\n",
      "1407/1407 - 8s - loss: 0.9005 - accuracy: 0.7203 - val_loss: 0.9304 - val_accuracy: 0.6972 - 8s/epoch - 6ms/step\n",
      "Epoch 7/100\n",
      "1407/1407 - 8s - loss: 0.8768 - accuracy: 0.7308 - val_loss: 1.0389 - val_accuracy: 0.6994 - 8s/epoch - 6ms/step\n",
      "Epoch 8/100\n",
      "1407/1407 - 8s - loss: 0.8593 - accuracy: 0.7415 - val_loss: 0.9542 - val_accuracy: 0.7166 - 8s/epoch - 6ms/step\n",
      "Epoch 9/100\n",
      "1407/1407 - 8s - loss: 0.8553 - accuracy: 0.7473 - val_loss: 0.7850 - val_accuracy: 0.7682 - 8s/epoch - 6ms/step\n",
      "Epoch 10/100\n",
      "1407/1407 - 8s - loss: 0.8525 - accuracy: 0.7480 - val_loss: 0.9710 - val_accuracy: 0.7246 - 8s/epoch - 6ms/step\n",
      "Epoch 11/100\n",
      "1407/1407 - 8s - loss: 0.8500 - accuracy: 0.7503 - val_loss: 0.8191 - val_accuracy: 0.7630 - 8s/epoch - 6ms/step\n",
      "Epoch 12/100\n",
      "1407/1407 - 8s - loss: 0.8426 - accuracy: 0.7522 - val_loss: 1.1306 - val_accuracy: 0.6670 - 8s/epoch - 6ms/step\n",
      "Epoch 13/100\n",
      "1407/1407 - 8s - loss: 0.8485 - accuracy: 0.7520 - val_loss: 0.9078 - val_accuracy: 0.7308 - 8s/epoch - 6ms/step\n",
      "Epoch 14/100\n",
      "1407/1407 - 8s - loss: 0.8433 - accuracy: 0.7560 - val_loss: 0.8130 - val_accuracy: 0.7686 - 8s/epoch - 6ms/step\n",
      "Epoch 15/100\n",
      "1407/1407 - 8s - loss: 0.8468 - accuracy: 0.7558 - val_loss: 0.9404 - val_accuracy: 0.7296 - 8s/epoch - 6ms/step\n",
      "Epoch 16/100\n",
      "1407/1407 - 9s - loss: 0.8482 - accuracy: 0.7572 - val_loss: 0.8745 - val_accuracy: 0.7604 - 9s/epoch - 6ms/step\n",
      "Epoch 17/100\n",
      "1407/1407 - 8s - loss: 0.8465 - accuracy: 0.7561 - val_loss: 0.7599 - val_accuracy: 0.7842 - 8s/epoch - 6ms/step\n",
      "Epoch 18/100\n",
      "1407/1407 - 8s - loss: 0.8573 - accuracy: 0.7546 - val_loss: 0.8894 - val_accuracy: 0.7424 - 8s/epoch - 6ms/step\n",
      "Epoch 19/100\n",
      "1407/1407 - 8s - loss: 0.8536 - accuracy: 0.7567 - val_loss: 0.8928 - val_accuracy: 0.7362 - 8s/epoch - 6ms/step\n",
      "Epoch 20/100\n",
      "1407/1407 - 8s - loss: 0.8494 - accuracy: 0.7572 - val_loss: 0.8102 - val_accuracy: 0.7756 - 8s/epoch - 6ms/step\n",
      "Epoch 21/100\n",
      "1407/1407 - 8s - loss: 0.8570 - accuracy: 0.7570 - val_loss: 0.7847 - val_accuracy: 0.7906 - 8s/epoch - 6ms/step\n",
      "Epoch 22/100\n",
      "1407/1407 - 8s - loss: 0.8644 - accuracy: 0.7532 - val_loss: 0.8710 - val_accuracy: 0.7490 - 8s/epoch - 6ms/step\n",
      "Epoch 23/100\n",
      "1407/1407 - 9s - loss: 0.8663 - accuracy: 0.7558 - val_loss: 0.7467 - val_accuracy: 0.7964 - 9s/epoch - 6ms/step\n",
      "Epoch 24/100\n",
      "1407/1407 - 9s - loss: 0.8609 - accuracy: 0.7556 - val_loss: 1.2149 - val_accuracy: 0.6644 - 9s/epoch - 6ms/step\n",
      "Epoch 25/100\n",
      "1407/1407 - 8s - loss: 0.8611 - accuracy: 0.7563 - val_loss: 0.8741 - val_accuracy: 0.7470 - 8s/epoch - 6ms/step\n",
      "Epoch 26/100\n",
      "1407/1407 - 8s - loss: 0.8616 - accuracy: 0.7561 - val_loss: 0.7496 - val_accuracy: 0.7918 - 8s/epoch - 6ms/step\n",
      "Epoch 27/100\n",
      "1407/1407 - 8s - loss: 0.8641 - accuracy: 0.7543 - val_loss: 0.8246 - val_accuracy: 0.7712 - 8s/epoch - 6ms/step\n",
      "Epoch 28/100\n",
      "1407/1407 - 8s - loss: 0.8702 - accuracy: 0.7547 - val_loss: 1.4382 - val_accuracy: 0.6050 - 8s/epoch - 6ms/step\n",
      "Epoch 29/100\n",
      "1407/1407 - 8s - loss: 0.8761 - accuracy: 0.7542 - val_loss: 0.8185 - val_accuracy: 0.7714 - 8s/epoch - 6ms/step\n",
      "Epoch 30/100\n",
      "1407/1407 - 8s - loss: 0.8789 - accuracy: 0.7534 - val_loss: 0.7699 - val_accuracy: 0.7902 - 8s/epoch - 6ms/step\n",
      "Epoch 31/100\n",
      "1407/1407 - 9s - loss: 0.8829 - accuracy: 0.7510 - val_loss: 0.9847 - val_accuracy: 0.7216 - 9s/epoch - 6ms/step\n",
      "Epoch 32/100\n",
      "1407/1407 - 8s - loss: 0.8814 - accuracy: 0.7501 - val_loss: 1.3917 - val_accuracy: 0.6212 - 8s/epoch - 6ms/step\n",
      "Epoch 33/100\n",
      "1407/1407 - 8s - loss: 0.8931 - accuracy: 0.7497 - val_loss: 0.9034 - val_accuracy: 0.7450 - 8s/epoch - 6ms/step\n",
      "Epoch 34/100\n",
      "1407/1407 - 8s - loss: 0.8839 - accuracy: 0.7536 - val_loss: 0.9749 - val_accuracy: 0.7134 - 8s/epoch - 6ms/step\n",
      "Epoch 35/100\n",
      "1407/1407 - 9s - loss: 0.8900 - accuracy: 0.7489 - val_loss: 0.9237 - val_accuracy: 0.7384 - 9s/epoch - 6ms/step\n",
      "Epoch 36/100\n",
      "1407/1407 - 8s - loss: 0.8915 - accuracy: 0.7489 - val_loss: 0.8010 - val_accuracy: 0.7736 - 8s/epoch - 6ms/step\n",
      "Epoch 37/100\n",
      "1407/1407 - 8s - loss: 0.9076 - accuracy: 0.7451 - val_loss: 0.8150 - val_accuracy: 0.7776 - 8s/epoch - 6ms/step\n",
      "Epoch 38/100\n",
      "1407/1407 - 8s - loss: 0.9046 - accuracy: 0.7438 - val_loss: 0.8296 - val_accuracy: 0.7728 - 8s/epoch - 6ms/step\n",
      "Epoch 39/100\n",
      "1407/1407 - 9s - loss: 0.9095 - accuracy: 0.7448 - val_loss: 0.9590 - val_accuracy: 0.7262 - 9s/epoch - 6ms/step\n",
      "Epoch 40/100\n",
      "1407/1407 - 8s - loss: 0.9167 - accuracy: 0.7448 - val_loss: 0.8250 - val_accuracy: 0.7726 - 8s/epoch - 6ms/step\n",
      "Epoch 41/100\n",
      "1407/1407 - 8s - loss: 0.9237 - accuracy: 0.7417 - val_loss: 0.8972 - val_accuracy: 0.7590 - 8s/epoch - 6ms/step\n",
      "Epoch 42/100\n",
      "1407/1407 - 8s - loss: 0.9271 - accuracy: 0.7410 - val_loss: 1.0110 - val_accuracy: 0.7222 - 8s/epoch - 6ms/step\n",
      "Epoch 43/100\n",
      "1407/1407 - 9s - loss: 0.9379 - accuracy: 0.7376 - val_loss: 1.0378 - val_accuracy: 0.7026 - 9s/epoch - 6ms/step\n",
      "Epoch 44/100\n",
      "1407/1407 - 8s - loss: 0.9442 - accuracy: 0.7356 - val_loss: 0.8926 - val_accuracy: 0.7472 - 8s/epoch - 6ms/step\n",
      "Epoch 45/100\n",
      "1407/1407 - 8s - loss: 0.9416 - accuracy: 0.7365 - val_loss: 0.9997 - val_accuracy: 0.7206 - 8s/epoch - 6ms/step\n",
      "Epoch 46/100\n",
      "1407/1407 - 8s - loss: 0.9452 - accuracy: 0.7366 - val_loss: 1.0387 - val_accuracy: 0.6992 - 8s/epoch - 6ms/step\n",
      "Epoch 47/100\n",
      "1407/1407 - 9s - loss: 0.9539 - accuracy: 0.7330 - val_loss: 0.9318 - val_accuracy: 0.7298 - 9s/epoch - 6ms/step\n",
      "Epoch 48/100\n",
      "1407/1407 - 8s - loss: 0.9505 - accuracy: 0.7319 - val_loss: 0.7502 - val_accuracy: 0.7884 - 8s/epoch - 6ms/step\n",
      "Epoch 49/100\n",
      "1407/1407 - 8s - loss: 0.9657 - accuracy: 0.7294 - val_loss: 1.0285 - val_accuracy: 0.7362 - 8s/epoch - 6ms/step\n",
      "Epoch 50/100\n",
      "1407/1407 - 9s - loss: 0.9690 - accuracy: 0.7310 - val_loss: 0.9598 - val_accuracy: 0.7372 - 9s/epoch - 6ms/step\n",
      "Epoch 51/100\n",
      "1407/1407 - 8s - loss: 0.9671 - accuracy: 0.7305 - val_loss: 0.9545 - val_accuracy: 0.7324 - 8s/epoch - 6ms/step\n",
      "Epoch 52/100\n",
      "1407/1407 - 8s - loss: 0.9605 - accuracy: 0.7298 - val_loss: 0.7843 - val_accuracy: 0.7880 - 8s/epoch - 6ms/step\n",
      "Epoch 53/100\n",
      "1407/1407 - 8s - loss: 0.9615 - accuracy: 0.7326 - val_loss: 0.8252 - val_accuracy: 0.7714 - 8s/epoch - 6ms/step\n",
      "Epoch 54/100\n",
      "1407/1407 - 9s - loss: 0.9672 - accuracy: 0.7271 - val_loss: 0.9040 - val_accuracy: 0.7512 - 9s/epoch - 6ms/step\n",
      "Epoch 55/100\n",
      "1407/1407 - 8s - loss: 0.9652 - accuracy: 0.7289 - val_loss: 1.1583 - val_accuracy: 0.6744 - 8s/epoch - 6ms/step\n",
      "Epoch 56/100\n",
      "1407/1407 - 8s - loss: 0.9857 - accuracy: 0.7233 - val_loss: 0.8609 - val_accuracy: 0.7606 - 8s/epoch - 6ms/step\n",
      "Epoch 57/100\n",
      "1407/1407 - 8s - loss: 0.9862 - accuracy: 0.7276 - val_loss: 1.1737 - val_accuracy: 0.6430 - 8s/epoch - 6ms/step\n",
      "Epoch 58/100\n",
      "1407/1407 - 9s - loss: 0.9828 - accuracy: 0.7261 - val_loss: 0.8365 - val_accuracy: 0.7640 - 9s/epoch - 6ms/step\n",
      "Epoch 59/100\n",
      "1407/1407 - 8s - loss: 0.9861 - accuracy: 0.7240 - val_loss: 1.1476 - val_accuracy: 0.6792 - 8s/epoch - 6ms/step\n",
      "Epoch 60/100\n",
      "1407/1407 - 8s - loss: 1.0022 - accuracy: 0.7203 - val_loss: 1.1292 - val_accuracy: 0.6758 - 8s/epoch - 6ms/step\n",
      "Epoch 61/100\n",
      "1407/1407 - 8s - loss: 1.0019 - accuracy: 0.7195 - val_loss: 0.9994 - val_accuracy: 0.7202 - 8s/epoch - 6ms/step\n",
      "Epoch 62/100\n",
      "1407/1407 - 9s - loss: 0.9894 - accuracy: 0.7221 - val_loss: 0.9644 - val_accuracy: 0.7260 - 9s/epoch - 6ms/step\n",
      "Epoch 63/100\n",
      "1407/1407 - 8s - loss: 1.0002 - accuracy: 0.7187 - val_loss: 0.7969 - val_accuracy: 0.7752 - 8s/epoch - 6ms/step\n",
      "Epoch 64/100\n",
      "1407/1407 - 8s - loss: 1.0114 - accuracy: 0.7152 - val_loss: 1.3854 - val_accuracy: 0.5998 - 8s/epoch - 6ms/step\n",
      "Epoch 65/100\n",
      "1407/1407 - 8s - loss: 1.0038 - accuracy: 0.7171 - val_loss: 0.9706 - val_accuracy: 0.7262 - 8s/epoch - 6ms/step\n",
      "Epoch 66/100\n",
      "1407/1407 - 9s - loss: 1.0122 - accuracy: 0.7145 - val_loss: 1.3854 - val_accuracy: 0.6382 - 9s/epoch - 6ms/step\n",
      "Epoch 67/100\n",
      "1407/1407 - 8s - loss: 1.0195 - accuracy: 0.7112 - val_loss: 0.8476 - val_accuracy: 0.7552 - 8s/epoch - 6ms/step\n",
      "Epoch 68/100\n",
      "1407/1407 - 8s - loss: 1.0273 - accuracy: 0.7111 - val_loss: 0.8213 - val_accuracy: 0.7698 - 8s/epoch - 6ms/step\n",
      "Epoch 69/100\n",
      "1407/1407 - 9s - loss: 1.0380 - accuracy: 0.7086 - val_loss: 1.0657 - val_accuracy: 0.6992 - 9s/epoch - 6ms/step\n",
      "Epoch 70/100\n",
      "1407/1407 - 8s - loss: 1.0420 - accuracy: 0.7045 - val_loss: 0.9614 - val_accuracy: 0.7448 - 8s/epoch - 6ms/step\n",
      "Epoch 71/100\n",
      "1407/1407 - 8s - loss: 1.0197 - accuracy: 0.7106 - val_loss: 1.0611 - val_accuracy: 0.7088 - 8s/epoch - 6ms/step\n",
      "Epoch 72/100\n",
      "1407/1407 - 8s - loss: 1.0452 - accuracy: 0.7067 - val_loss: 0.8697 - val_accuracy: 0.7574 - 8s/epoch - 6ms/step\n",
      "Epoch 73/100\n",
      "1407/1407 - 8s - loss: 1.0395 - accuracy: 0.7073 - val_loss: 0.9968 - val_accuracy: 0.7298 - 8s/epoch - 6ms/step\n",
      "Epoch 74/100\n",
      "1407/1407 - 8s - loss: 1.0458 - accuracy: 0.7037 - val_loss: 1.0254 - val_accuracy: 0.7098 - 8s/epoch - 6ms/step\n",
      "Epoch 75/100\n",
      "1407/1407 - 8s - loss: 1.0499 - accuracy: 0.7010 - val_loss: 0.9844 - val_accuracy: 0.7264 - 8s/epoch - 6ms/step\n",
      "Epoch 76/100\n",
      "1407/1407 - 8s - loss: 1.0428 - accuracy: 0.7071 - val_loss: 1.7008 - val_accuracy: 0.6128 - 8s/epoch - 6ms/step\n",
      "Epoch 77/100\n",
      "1407/1407 - 8s - loss: 1.0398 - accuracy: 0.7061 - val_loss: 0.9334 - val_accuracy: 0.7374 - 8s/epoch - 6ms/step\n",
      "Epoch 78/100\n",
      "1407/1407 - 8s - loss: 1.0636 - accuracy: 0.7014 - val_loss: 1.3092 - val_accuracy: 0.6030 - 8s/epoch - 6ms/step\n",
      "Epoch 79/100\n",
      "1407/1407 - 8s - loss: 1.0635 - accuracy: 0.7003 - val_loss: 0.9778 - val_accuracy: 0.7110 - 8s/epoch - 6ms/step\n",
      "Epoch 80/100\n",
      "1407/1407 - 8s - loss: 1.0502 - accuracy: 0.7038 - val_loss: 0.8600 - val_accuracy: 0.7554 - 8s/epoch - 6ms/step\n",
      "Epoch 81/100\n",
      "1407/1407 - 8s - loss: 1.0784 - accuracy: 0.6974 - val_loss: 0.9946 - val_accuracy: 0.7200 - 8s/epoch - 6ms/step\n",
      "Epoch 82/100\n",
      "1407/1407 - 8s - loss: 1.0824 - accuracy: 0.6961 - val_loss: 1.0464 - val_accuracy: 0.7114 - 8s/epoch - 6ms/step\n",
      "Epoch 83/100\n",
      "1407/1407 - 8s - loss: 1.0843 - accuracy: 0.6931 - val_loss: 0.8453 - val_accuracy: 0.7640 - 8s/epoch - 6ms/step\n",
      "Epoch 84/100\n",
      "1407/1407 - 9s - loss: 1.0917 - accuracy: 0.6926 - val_loss: 1.2646 - val_accuracy: 0.6480 - 9s/epoch - 6ms/step\n",
      "Epoch 85/100\n",
      "1407/1407 - 8s - loss: 1.1001 - accuracy: 0.6904 - val_loss: 1.1453 - val_accuracy: 0.6966 - 8s/epoch - 6ms/step\n",
      "Epoch 86/100\n",
      "1407/1407 - 8s - loss: 1.1047 - accuracy: 0.6882 - val_loss: 0.9071 - val_accuracy: 0.7364 - 8s/epoch - 6ms/step\n",
      "Epoch 87/100\n",
      "1407/1407 - 8s - loss: 1.0969 - accuracy: 0.6903 - val_loss: 1.1785 - val_accuracy: 0.6422 - 8s/epoch - 6ms/step\n",
      "Epoch 88/100\n",
      "1407/1407 - 9s - loss: 1.1250 - accuracy: 0.6847 - val_loss: 0.9839 - val_accuracy: 0.7232 - 9s/epoch - 6ms/step\n",
      "Epoch 89/100\n",
      "1407/1407 - 8s - loss: 1.1219 - accuracy: 0.6833 - val_loss: 0.9056 - val_accuracy: 0.7332 - 8s/epoch - 6ms/step\n",
      "Epoch 90/100\n",
      "1407/1407 - 8s - loss: 1.1283 - accuracy: 0.6848 - val_loss: 0.9012 - val_accuracy: 0.7490 - 8s/epoch - 6ms/step\n",
      "Epoch 91/100\n",
      "1407/1407 - 8s - loss: 1.1313 - accuracy: 0.6805 - val_loss: 0.9217 - val_accuracy: 0.7450 - 8s/epoch - 6ms/step\n",
      "Epoch 92/100\n",
      "1407/1407 - 9s - loss: 1.1287 - accuracy: 0.6806 - val_loss: 1.0443 - val_accuracy: 0.7320 - 9s/epoch - 6ms/step\n",
      "Epoch 93/100\n",
      "1407/1407 - 8s - loss: 1.1422 - accuracy: 0.6797 - val_loss: 1.1606 - val_accuracy: 0.6582 - 8s/epoch - 6ms/step\n",
      "Epoch 94/100\n",
      "1407/1407 - 8s - loss: 1.1491 - accuracy: 0.6730 - val_loss: 1.0298 - val_accuracy: 0.7020 - 8s/epoch - 6ms/step\n",
      "Epoch 95/100\n",
      "1407/1407 - 8s - loss: 1.1668 - accuracy: 0.6688 - val_loss: 1.1917 - val_accuracy: 0.6376 - 8s/epoch - 6ms/step\n",
      "Epoch 96/100\n",
      "1407/1407 - 8s - loss: 1.1563 - accuracy: 0.6702 - val_loss: 1.1645 - val_accuracy: 0.6734 - 8s/epoch - 6ms/step\n",
      "Epoch 97/100\n",
      "1407/1407 - 8s - loss: 1.1592 - accuracy: 0.6730 - val_loss: 0.9335 - val_accuracy: 0.7460 - 8s/epoch - 6ms/step\n",
      "Epoch 98/100\n",
      "1407/1407 - 8s - loss: 1.1731 - accuracy: 0.6656 - val_loss: 0.9562 - val_accuracy: 0.7218 - 8s/epoch - 6ms/step\n",
      "Epoch 99/100\n",
      "1407/1407 - 8s - loss: 1.1791 - accuracy: 0.6634 - val_loss: 1.4272 - val_accuracy: 0.6154 - 8s/epoch - 6ms/step\n",
      "Epoch 100/100\n",
      "1407/1407 - 8s - loss: 1.1658 - accuracy: 0.6661 - val_loss: 1.0504 - val_accuracy: 0.7022 - 8s/epoch - 6ms/step\n"
     ]
    }
   ],
   "source": [
    "hist= model.fit(x_train, y_train, \n",
    "                batch_size=32, \n",
    "                epochs=100,\n",
    "                validation_data=(x_valid,y_valid),\n",
    "                verbose=2, shuffle=True\n",
    "               )"
   ]
  },
  {
   "cell_type": "code",
   "execution_count": 14,
   "id": "444e33a0",
   "metadata": {
    "execution": {
     "iopub.execute_input": "2023-03-28T17:14:41.106486Z",
     "iopub.status.busy": "2023-03-28T17:14:41.105355Z",
     "iopub.status.idle": "2023-03-28T17:14:41.320657Z",
     "shell.execute_reply": "2023-03-28T17:14:41.319617Z"
    },
    "papermill": {
     "duration": 0.24129,
     "end_time": "2023-03-28T17:14:41.322890",
     "exception": false,
     "start_time": "2023-03-28T17:14:41.081600",
     "status": "completed"
    },
    "tags": []
   },
   "outputs": [
    {
     "data": {
      "image/png": "[encoded data removed]",
      "text/plain": [
       "<Figure size 640x480 with 1 Axes>"
      ]
     },
     "metadata": {},
     "output_type": "display_data"
    }
   ],
   "source": [
    "plt.plot(hist.history[\"accuracy\"],label=\"Train\")\n",
    "plt.plot(hist.history[\"val_accuracy\"],label=\"Val\")\n",
    "plt.legend()\n",
    "plt.show()"
   ]
  },
  {
   "cell_type": "code",
   "execution_count": 15,
   "id": "b106dc57",
   "metadata": {
    "execution": {
     "iopub.execute_input": "2023-03-28T17:14:41.369120Z",
     "iopub.status.busy": "2023-03-28T17:14:41.368346Z",
     "iopub.status.idle": "2023-03-28T17:14:42.918908Z",
     "shell.execute_reply": "2023-03-28T17:14:42.917940Z"
    },
    "papermill": {
     "duration": 1.575744,
     "end_time": "2023-03-28T17:14:42.921206",
     "exception": false,
     "start_time": "2023-03-28T17:14:41.345462",
     "status": "completed"
    },
    "tags": []
   },
   "outputs": [
    {
     "name": "stdout",
     "output_type": "stream",
     "text": [
      "313/313 [==============================] - 1s 4ms/step - loss: 1.0979 - accuracy: 0.6912\n"
     ]
    },
    {
     "data": {
      "text/plain": [
       "[1.0979079008102417, 0.6912000179290771]"
      ]
     },
     "execution_count": 15,
     "metadata": {},
     "output_type": "execute_result"
    }
   ],
   "source": [
    "model.evaluate(x_test,y_test)"
   ]
  }
 ],
 "metadata": {
  "kernelspec": {
   "display_name": "Python 3",
   "language": "python",
   "name": "python3"
  },
  "language_info": {
   "codemirror_mode": {
    "name": "ipython",
    "version": 3
   },
   "file_extension": ".py",
   "mimetype": "text/x-python",
   "name": "python",
   "nbconvert_exporter": "python",
   "pygments_lexer": "ipython3",
   "version": "3.7.12"
  },
  "papermill": {
   "default_parameters": {},
   "duration": 897.340755,
   "end_time": "2023-03-28T17:14:46.250960",
   "environment_variables": {},
   "exception": null,
   "input_path": "__notebook__.ipynb",
   "output_path": "__notebook__.ipynb",
   "parameters": {},
   "start_time": "2023-03-28T16:59:48.910205",
   "version": "2.4.0"
  }
 },
 "nbformat": 4,
 "nbformat_minor": 5
}
