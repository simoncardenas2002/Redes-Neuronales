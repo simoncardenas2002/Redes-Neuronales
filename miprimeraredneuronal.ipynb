{
  "nbformat": 4,
  "nbformat_minor": 0,
  "metadata": {
    "colab": {
      "provenance": [],
      "authorship_tag": "ABX9TyOQbcz87yOTfvKcXcOr1Z7s",
      "include_colab_link": true
    },
    "kernelspec": {
      "name": "python3",
      "display_name": "Python 3"
    },
    "language_info": {
      "name": "python"
    },
    "accelerator": "GPU",
    "gpuClass": "standard"
  },
  "cells": [
    {
      "cell_type": "markdown",
      "metadata": {
        "id": "view-in-github",
        "colab_type": "text"
      },
      "source": [
        "<a href=\"https://colab.research.google.com/github/simoncardenas2002/Redes-Neuronales/blob/master/miprimeraredneuronal.ipynb\" target=\"_parent\"><img src=\"https://colab.research.google.com/assets/colab-badge.svg\" alt=\"Open In Colab\"/></a>"
      ]
    },
    {
      "cell_type": "markdown",
      "source": [
        "### Cargamos librerías a utilizar"
      ],
      "metadata": {
        "id": "JgiKgs9vDzPW"
      }
    },
    {
      "cell_type": "code",
      "execution_count": null,
      "metadata": {
        "id": "VbCAk5R6-UOB"
      },
      "outputs": [],
      "source": [
        "\n",
        "import numpy as np\n",
        "from keras import layers,models\n",
        "from keras.utils import to_categorical\n",
        "from keras.datasets import mnist\n",
        "import matplotlib.pyplot as plt\n"
      ]
    },
    {
      "cell_type": "markdown",
      "source": [
        "### Cargar los datos y separarlos en entrenamiento y prueba"
      ],
      "metadata": {
        "id": "j7g2hHyWD5ty"
      }
    },
    {
      "cell_type": "code",
      "source": [
        "(train_data,train_labels),(test_data, test_labels)=mnist.load_data()"
      ],
      "metadata": {
        "id": "s3eF2Kxk-xNW"
      },
      "execution_count": null,
      "outputs": []
    },
    {
      "cell_type": "code",
      "source": [
        "  train_data.shape"
      ],
      "metadata": {
        "colab": {
          "base_uri": "https://localhost:8080/"
        },
        "id": "PmwQY_ql_T07",
        "outputId": "0a64e14e-1e8d-476e-dacd-8c6eaf346cd3"
      },
      "execution_count": null,
      "outputs": [
        {
          "output_type": "execute_result",
          "data": {
            "text/plain": [
              "(60000, 28, 28)"
            ]
          },
          "metadata": {},
          "execution_count": 7
        }
      ]
    },
    {
      "cell_type": "markdown",
      "source": [
        "Podemos ver que este dataset que cargamos corresponde a 60000 imagenes de 28 X 28"
      ],
      "metadata": {
        "id": "pDyKzohw_zlo"
      }
    },
    {
      "cell_type": "code",
      "source": [
        "plt.imshow(train_data[0])"
      ],
      "metadata": {
        "colab": {
          "base_uri": "https://localhost:8080/",
          "height": 282
        },
        "id": "aVyv6oL8_e1g",
        "outputId": "5271b704-4009-4598-bcb1-a8200095b2ce"
      },
      "execution_count": null,
      "outputs": [
        {
          "output_type": "execute_result",
          "data": {
            "text/plain": [
              "<matplotlib.image.AxesImage at 0x7f992b795dc0>"
            ]
          },
          "metadata": {},
          "execution_count": 9
        },
        {
          "output_type": "display_data",
          "data": {
            "text/plain": [
              "<Figure size 432x288 with 1 Axes>"
            ],
            "image/png": "[encoded data removed]"
          },
          "metadata": {
            "needs_background": "light"
          }
        }
      ]
    },
    {
      "cell_type": "code",
      "source": [
        "plt.imshow(train_data[57])"
      ],
      "metadata": {
        "colab": {
          "base_uri": "https://localhost:8080/",
          "height": 282
        },
        "id": "ghvVTil6_rUJ",
        "outputId": "cef33bc7-9258-4059-fbdc-43c7bd7151c1"
      },
      "execution_count": null,
      "outputs": [
        {
          "output_type": "execute_result",
          "data": {
            "text/plain": [
              "<matplotlib.image.AxesImage at 0x7f992b267d60>"
            ]
          },
          "metadata": {},
          "execution_count": 10
        },
        {
          "output_type": "display_data",
          "data": {
            "text/plain": [
              "<Figure size 432x288 with 1 Axes>"
            ],
            "image/png": "[encoded data removed]"
          },
          "metadata": {
            "needs_background": "light"
          }
        }
      ]
    },
    {
      "cell_type": "code",
      "source": [
        "train_labels[57]"
      ],
      "metadata": {
        "colab": {
          "base_uri": "https://localhost:8080/"
        },
        "id": "BXtc5iG8ADU1",
        "outputId": "5ef36a90-1301-4f8e-a050-164eaf3fa493"
      },
      "execution_count": null,
      "outputs": [
        {
          "output_type": "execute_result",
          "data": {
            "text/plain": [
              "9"
            ]
          },
          "metadata": {},
          "execution_count": 11
        }
      ]
    },
    {
      "cell_type": "markdown",
      "source": [
        "### Cargar y configurar el modelo de la red neuronal"
      ],
      "metadata": {
        "id": "5nL8Aj_4ECPV"
      }
    },
    {
      "cell_type": "code",
      "source": [
        "model=models.Sequential()\n",
        "#Agregaremos al modelo una red de 512 neuronas con activación tipo relu\n",
        "#cuya entrada será de tipo 28*28\n",
        "model.add(layers.Dense(512,activation=\"relu\",input_shape=(28*28,)))\n",
        "#Agregamos otra capa de 10 neuronas porque esas van a ser nuestras posibles\n",
        "#salidas, numeros del 0 al 9\n",
        "model.add(layers.Dense(10,activation=\"softmax\"))"
      ],
      "metadata": {
        "id": "D6PbArHXATHa"
      },
      "execution_count": null,
      "outputs": []
    },
    {
      "cell_type": "code",
      "source": [
        "model.compile(optimizer=\"rmsprop\",\n",
        "              loss=\"categorical_crossentropy\",\n",
        "              metrics=\"accuracy\")"
      ],
      "metadata": {
        "id": "asyFNBTuAsFJ"
      },
      "execution_count": null,
      "outputs": []
    },
    {
      "cell_type": "code",
      "source": [
        "model.summary()"
      ],
      "metadata": {
        "colab": {
          "base_uri": "https://localhost:8080/"
        },
        "id": "q6WrpUSLB0YP",
        "outputId": "8ff0c63c-c7d4-4b88-e5c9-e6d5c2eceebb"
      },
      "execution_count": null,
      "outputs": [
        {
          "output_type": "stream",
          "name": "stdout",
          "text": [
            "Model: \"sequential_3\"\n",
            "_________________________________________________________________\n",
            " Layer (type)                Output Shape              Param #   \n",
            "=================================================================\n",
            " dense_1 (Dense)             (None, 512)               401920    \n",
            "                                                                 \n",
            " dense_2 (Dense)             (None, 10)                5130      \n",
            "                                                                 \n",
            "=================================================================\n",
            "Total params: 407,050\n",
            "Trainable params: 407,050\n",
            "Non-trainable params: 0\n",
            "_________________________________________________________________\n"
          ]
        }
      ]
    },
    {
      "cell_type": "markdown",
      "source": [
        "### Realizar una limpieza a los datos para un mejor procesamiento"
      ],
      "metadata": {
        "id": "zhz6e2fyEMSk"
      }
    },
    {
      "cell_type": "code",
      "source": [
        "x_train=train_data.reshape((60000,28*28))\n",
        "x_train=x_train.astype(\"float32\")/255\n",
        "\n",
        "x_test=test_data.reshape((10000,28*28))\n",
        "x_test=x_test.astype(\"float32\")/255"
      ],
      "metadata": {
        "id": "XhMKjUVXB5mw"
      },
      "execution_count": null,
      "outputs": []
    },
    {
      "cell_type": "code",
      "source": [
        "y_train=to_categorical(train_labels)\n",
        "y_test=to_categorical(test_labels)"
      ],
      "metadata": {
        "id": "wwCUrZW9CfBw"
      },
      "execution_count": null,
      "outputs": []
    },
    {
      "cell_type": "code",
      "source": [
        "train_labels[0]"
      ],
      "metadata": {
        "colab": {
          "base_uri": "https://localhost:8080/"
        },
        "id": "gLIV7h_YCw-S",
        "outputId": "885c3a11-3980-4a0f-eb16-4524851f3787"
      },
      "execution_count": null,
      "outputs": [
        {
          "output_type": "execute_result",
          "data": {
            "text/plain": [
              "5"
            ]
          },
          "metadata": {},
          "execution_count": 28
        }
      ]
    },
    {
      "cell_type": "code",
      "source": [
        "train_labels[0]"
      ],
      "metadata": {
        "colab": {
          "base_uri": "https://localhost:8080/"
        },
        "id": "9N3ctGUsC1jB",
        "outputId": "c6daeca8-8f8d-41aa-9917-baebe31fa370"
      },
      "execution_count": null,
      "outputs": [
        {
          "output_type": "execute_result",
          "data": {
            "text/plain": [
              "5"
            ]
          },
          "metadata": {},
          "execution_count": 29
        }
      ]
    },
    {
      "cell_type": "markdown",
      "source": [
        "# Entrenamiento del modelo"
      ],
      "metadata": {
        "id": "P5yuzwuzEcNM"
      }
    },
    {
      "cell_type": "code",
      "source": [
        "#Datos de entrenamiento, 5 interaciones y en grupos de 128 datos\n",
        "model.fit(x_train,y_train, epochs=5,batch_size=128)"
      ],
      "metadata": {
        "colab": {
          "base_uri": "https://localhost:8080/"
        },
        "id": "WjbnmHy4EeJw",
        "outputId": "66aad46f-cad2-47dc-ba35-7fb5d2d41d9c"
      },
      "execution_count": null,
      "outputs": [
        {
          "output_type": "stream",
          "name": "stdout",
          "text": [
            "Epoch 1/5\n",
            "469/469 [==============================] - 6s 3ms/step - loss: 0.2647 - accuracy: 0.9244\n",
            "Epoch 2/5\n",
            "469/469 [==============================] - 1s 3ms/step - loss: 0.1047 - accuracy: 0.9695\n",
            "Epoch 3/5\n",
            "469/469 [==============================] - 1s 3ms/step - loss: 0.0696 - accuracy: 0.9791\n",
            "Epoch 4/5\n",
            "469/469 [==============================] - 2s 4ms/step - loss: 0.0506 - accuracy: 0.9847\n",
            "Epoch 5/5\n",
            "469/469 [==============================] - 1s 3ms/step - loss: 0.0382 - accuracy: 0.9884\n"
          ]
        },
        {
          "output_type": "execute_result",
          "data": {
            "text/plain": [
              "<keras.callbacks.History at 0x7f99289a72b0>"
            ]
          },
          "metadata": {},
          "execution_count": 31
        }
      ]
    },
    {
      "cell_type": "markdown",
      "source": [
        "Anteriormente podemos ver como va aumentando la accuracy de los datos"
      ],
      "metadata": {
        "id": "hrQhqakcFgV4"
      }
    },
    {
      "cell_type": "code",
      "source": [
        "model.evaluate(x_test,y_test)"
      ],
      "metadata": {
        "colab": {
          "base_uri": "https://localhost:8080/"
        },
        "id": "OVCHMAN1FlT2",
        "outputId": "f7679c07-7e88-4e72-f330-a82b6fa54cf4"
      },
      "execution_count": null,
      "outputs": [
        {
          "output_type": "stream",
          "name": "stdout",
          "text": [
            "313/313 [==============================] - 1s 2ms/step - loss: 0.0652 - accuracy: 0.9802\n"
          ]
        },
        {
          "output_type": "execute_result",
          "data": {
            "text/plain": [
              "[0.06517685204744339, 0.9801999926567078]"
            ]
          },
          "metadata": {},
          "execution_count": 32
        }
      ]
    },
    {
      "cell_type": "markdown",
      "source": [
        "Podemos ver que el modelo tuvo una precision del 98% "
      ],
      "metadata": {
        "id": "6NL_LkiVFw2p"
      }
    },
    {
      "cell_type": "code",
      "source": [],
      "metadata": {
        "id": "8lqcOc3sF3bk"
      },
      "execution_count": null,
      "outputs": []
    }
  ]
}