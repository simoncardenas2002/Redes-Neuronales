{
  "nbformat": 4,
  "nbformat_minor": 0,
  "metadata": {
    "colab": {
      "provenance": [],
      "authorship_tag": "ABX9TyNveWVu7Wa8m0/pgT/8DQgG",
      "include_colab_link": true
    },
    "kernelspec": {
      "name": "python3",
      "display_name": "Python 3"
    },
    "language_info": {
      "name": "python"
    },
    "gpuClass": "standard"
  },
  "cells": [
    {
      "cell_type": "markdown",
      "metadata": {
        "id": "view-in-github",
        "colab_type": "text"
      },
      "source": [
        "<a href=\"https://colab.research.google.com/github/simoncardenas2002/Redes-Neuronales/blob/master/binary_clasification.ipynb\" target=\"_parent\"><img src=\"https://colab.research.google.com/assets/colab-badge.svg\" alt=\"Open In Colab\"/></a>"
      ]
    },
    {
      "cell_type": "code",
      "execution_count": 51,
      "metadata": {
        "id": "WZQsbAX1xagS"
      },
      "outputs": [],
      "source": [
        "import numpy as np\n",
        "from keras.datasets import imdb\n",
        "from keras import models, layers, optimizers"
      ]
    },
    {
      "cell_type": "code",
      "source": [
        "#seleccionando 10000 palabras\n",
        "(train_data,train_labels),(test_data,test_labels)=imdb.load_data(num_words=10000)"
      ],
      "metadata": {
        "id": "bN-1SZUjx2i6"
      },
      "execution_count": 52,
      "outputs": []
    },
    {
      "cell_type": "code",
      "source": [
        "#Obtengo las palabras con una función determinada de la libería\n",
        "word_index=imdb.get_word_index()"
      ],
      "metadata": {
        "id": "eLe59ORYyVE_"
      },
      "execution_count": 53,
      "outputs": []
    },
    {
      "cell_type": "code",
      "source": [
        "#Cambio el orden de los valores para que primero me aparezca el numero\n",
        "word_index=dict([(value,key) for (key,value) in word_index.items()])"
      ],
      "metadata": {
        "id": "ufjX5HUazRxm"
      },
      "execution_count": 54,
      "outputs": []
    },
    {
      "cell_type": "code",
      "source": [
        "word_index"
      ],
      "metadata": {
        "id": "QCiKEV9zz60m"
      },
      "execution_count": null,
      "outputs": []
    },
    {
      "cell_type": "code",
      "source": [
        "#funcion para imprimir las palabras\n",
        "for _ in train_data[0]:\n",
        "  print(word_index.get(_ -3)) #el -3 se pone porque las primeras 3 palabras son palabras reservadas"
      ],
      "metadata": {
        "id": "LkZdt-0hz9Sz"
      },
      "execution_count": null,
      "outputs": []
    },
    {
      "cell_type": "code",
      "source": [
        "#\n",
        "def vectorizar(sequences,dim=10000):\n",
        "  results=np.zeros((len(sequences),dim))\n",
        "  for i, sequences in enumerate(sequences):\n",
        "    results[i,sequences]=1\n",
        "  return results"
      ],
      "metadata": {
        "id": "XdGniXo80sD_"
      },
      "execution_count": 57,
      "outputs": []
    },
    {
      "cell_type": "code",
      "source": [
        "x_train=vectorizar(train_data)\n",
        "x_test=vectorizar(test_data)"
      ],
      "metadata": {
        "id": "Ed5LXcRx2iBW"
      },
      "execution_count": 59,
      "outputs": []
    },
    {
      "cell_type": "code",
      "source": [
        "#Siempre es recomendado tener los datos en tipo float32\n",
        "\n",
        "y_train=np.asarray(train_labels).astype(\"float32\")\n",
        "y_test=np.asarray(test_labels).astype(\"float32\")"
      ],
      "metadata": {
        "id": "Nocvnerp3DvU"
      },
      "execution_count": 46,
      "outputs": []
    },
    {
      "cell_type": "markdown",
      "source": [
        "### Crearemos el **modelo**"
      ],
      "metadata": {
        "id": "lZaHA9e08_eQ"
      }
    },
    {
      "cell_type": "code",
      "source": [
        "model=models.Sequential() #Modelo tipo secuencial\n",
        "model.add(layers.Dense(16,activation=\"relu\",input_shape=(10000,))) #capas densas de 16 neuronas con activacion reLu\n",
        "model.add(layers.Dense(16,activation=\"relu\")) #estas capas no requieren input porque son ocultas\n",
        "model.add(layers.Dense(1,activation=\"sigmoid\")) #Se cambia de función de activación por una apta para probabilidad \n",
        "\n"
      ],
      "metadata": {
        "id": "kaOGTjcm8iou"
      },
      "execution_count": 65,
      "outputs": []
    },
    {
      "cell_type": "code",
      "source": [
        "model.compile(optimizer=\"rmsprop\", #tipo de funcion optimizadora\n",
        "              loss=\"binary_crossentropy\",  #función de pérdida\n",
        "              metrics=[\"acc\"]) "
      ],
      "metadata": {
        "id": "GpoQItNy99h2"
      },
      "execution_count": 66,
      "outputs": []
    },
    {
      "cell_type": "markdown",
      "source": [
        "### Crearemos data de validacion"
      ],
      "metadata": {
        "id": "aNvqQoJt-4Tz"
      }
    },
    {
      "cell_type": "code",
      "source": [
        "x_val= x_train[:10000]\n",
        "partial_x_train=x_train[10000:]\n",
        "\n",
        "y_val= y_train[:10000]\n",
        "partial_y_train= y_train[10000:]"
      ],
      "metadata": {
        "id": "pOGsIeYZ-xbs"
      },
      "execution_count": 67,
      "outputs": []
    },
    {
      "cell_type": "code",
      "source": [
        "print(partial_y_train.shape)\n",
        "print(partial_x_train.shape)\n",
        "print(y_train.shape)\n",
        "print(x_train.shape)"
      ],
      "metadata": {
        "colab": {
          "base_uri": "https://localhost:8080/"
        },
        "id": "-5CgDo9JJqhw",
        "outputId": "ce98af5b-de5f-483c-9263-f77f485a6f14"
      },
      "execution_count": 68,
      "outputs": [
        {
          "output_type": "stream",
          "name": "stdout",
          "text": [
            "(15000,)\n",
            "(15000, 10000)\n",
            "(25000,)\n",
            "(25000, 10000)\n"
          ]
        }
      ]
    },
    {
      "cell_type": "code",
      "source": [
        "history = model.fit(partial_x_train,\n",
        "                    partial_y_train,\n",
        "                    epochs=10,\n",
        "                    batch_size=512,\n",
        "                    validation_data=(x_val,y_val))"
      ],
      "metadata": {
        "colab": {
          "base_uri": "https://localhost:8080/"
        },
        "id": "sjzUIu16_YgN",
        "outputId": "9987edd3-fa72-4870-91ce-c7630273bcc3"
      },
      "execution_count": 70,
      "outputs": [
        {
          "output_type": "stream",
          "name": "stdout",
          "text": [
            "Epoch 1/10\n",
            "30/30 [==============================] - 2s 72ms/step - loss: 0.1536 - acc: 0.9501 - val_loss: 0.2892 - val_acc: 0.8860\n",
            "Epoch 2/10\n",
            "30/30 [==============================] - 1s 40ms/step - loss: 0.1317 - acc: 0.9575 - val_loss: 0.2907 - val_acc: 0.8865\n",
            "Epoch 3/10\n",
            "30/30 [==============================] - 1s 38ms/step - loss: 0.1094 - acc: 0.9664 - val_loss: 0.3281 - val_acc: 0.8756\n",
            "Epoch 4/10\n",
            "30/30 [==============================] - 1s 37ms/step - loss: 0.0916 - acc: 0.9737 - val_loss: 0.3191 - val_acc: 0.8829\n",
            "Epoch 5/10\n",
            "30/30 [==============================] - 1s 37ms/step - loss: 0.0800 - acc: 0.9772 - val_loss: 0.3398 - val_acc: 0.8788\n",
            "Epoch 6/10\n",
            "30/30 [==============================] - 2s 61ms/step - loss: 0.0670 - acc: 0.9823 - val_loss: 0.3833 - val_acc: 0.8699\n",
            "Epoch 7/10\n",
            "30/30 [==============================] - 1s 50ms/step - loss: 0.0564 - acc: 0.9869 - val_loss: 0.3733 - val_acc: 0.8777\n",
            "Epoch 8/10\n",
            "30/30 [==============================] - 1s 36ms/step - loss: 0.0497 - acc: 0.9881 - val_loss: 0.3935 - val_acc: 0.8775\n",
            "Epoch 9/10\n",
            "30/30 [==============================] - 1s 37ms/step - loss: 0.0404 - acc: 0.9910 - val_loss: 0.4150 - val_acc: 0.8761\n",
            "Epoch 10/10\n",
            "30/30 [==============================] - 1s 35ms/step - loss: 0.0332 - acc: 0.9945 - val_loss: 0.4642 - val_acc: 0.8688\n"
          ]
        }
      ]
    },
    {
      "cell_type": "code",
      "source": [
        "import matplotlib.pyplot as plt\n",
        "\n",
        "#Obtenemos un diccionario del cambio de los valores en el entrenamiento\n",
        "history_dict=history.history\n",
        "\n",
        "loss_values=history_dict[\"loss\"]\n",
        "val_loss_values=history_dict[\"val_loss\"]\n",
        "\n",
        "epoch=range(1,len(loss_values)+1)\n",
        "plt.plot(epoch,loss_values,\"o\",label=\"Training\")\n",
        "plt.plot(epoch,val_loss_values,\"--\",label=\"Training\")\n",
        "plt.legend()\n",
        "plt.show()"
      ],
      "metadata": {
        "colab": {
          "base_uri": "https://localhost:8080/",
          "height": 265
        },
        "id": "HF7ObO7DP3Ce",
        "outputId": "f70b9cab-bf72-4147-c71f-87db736e5563"
      },
      "execution_count": 82,
      "outputs": [
        {
          "output_type": "display_data",
          "data": {
            "text/plain": [
              "<Figure size 432x288 with 1 Axes>"
            ],
            "image/png": "[encoded data removed]"
          },
          "metadata": {
            "needs_background": "light"
          }
        }
      ]
    },
    {
      "cell_type": "code",
      "source": [
        "model.evaluate(x_test,y_test)"
      ],
      "metadata": {
        "colab": {
          "base_uri": "https://localhost:8080/"
        },
        "id": "0Dfl8NpeQADm",
        "outputId": "a2ff484d-3a4d-4f15-dd07-4596437ae184"
      },
      "execution_count": 83,
      "outputs": [
        {
          "output_type": "stream",
          "name": "stdout",
          "text": [
            "782/782 [==============================] - 2s 3ms/step - loss: 0.5105 - acc: 0.8552\n"
          ]
        },
        {
          "output_type": "execute_result",
          "data": {
            "text/plain": [
              "[0.5105448961257935, 0.8551599979400635]"
            ]
          },
          "metadata": {},
          "execution_count": 83
        }
      ]
    },
    {
      "cell_type": "markdown",
      "source": [
        "Asi vemos que nuestro modelo tiene un accuracy del 85%\n"
      ],
      "metadata": {
        "id": "XDU5koMpRmVR"
      }
    },
    {
      "cell_type": "code",
      "source": [],
      "metadata": {
        "id": "Jz2YmqS9RrkL"
      },
      "execution_count": null,
      "outputs": []
    }
  ]
}