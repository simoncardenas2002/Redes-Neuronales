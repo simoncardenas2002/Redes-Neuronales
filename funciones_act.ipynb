{
  "nbformat": 4,
  "nbformat_minor": 0,
  "metadata": {
    "colab": {
      "provenance": [],
      "authorship_tag": "ABX9TyNt4fPxvatIOLbu/yCI842K",
      "include_colab_link": true
    },
    "kernelspec": {
      "name": "python3",
      "display_name": "Python 3"
    },
    "language_info": {
      "name": "python"
    }
  },
  "cells": [
    {
      "cell_type": "markdown",
      "metadata": {
        "id": "view-in-github",
        "colab_type": "text"
      },
      "source": [
        "<a href=\"https://colab.research.google.com/github/simoncardenas2002/Redes-Neuronales/blob/master/funciones_act.ipynb\" target=\"_parent\"><img src=\"https://colab.research.google.com/assets/colab-badge.svg\" alt=\"Open In Colab\"/></a>"
      ]
    },
    {
      "cell_type": "code",
      "execution_count": 1,
      "metadata": {
        "id": "3gcflsahojgl"
      },
      "outputs": [],
      "source": [
        "import numpy as np\n",
        "import matplotlib.pyplot as plt\n"
      ]
    },
    {
      "cell_type": "markdown",
      "source": [
        "1) sigmoid"
      ],
      "metadata": {
        "id": "rt7LdDJpo5Ko"
      }
    },
    {
      "cell_type": "code",
      "source": [
        "def sigmoid(a):\n",
        "  return 1/(1+np.exp(-a))  #se consultó en wolfram la funcion"
      ],
      "metadata": {
        "id": "HYu7AEVRovK5"
      },
      "execution_count": 2,
      "outputs": []
    },
    {
      "cell_type": "code",
      "source": [
        "x=np.linspace(10,-10,100)\n",
        "x"
      ],
      "metadata": {
        "colab": {
          "base_uri": "https://localhost:8080/"
        },
        "id": "AymlTyFDpLCt",
        "outputId": "a8b66123-c7d8-4f91-9de1-e110ff0c2a69"
      },
      "execution_count": 4,
      "outputs": [
        {
          "output_type": "execute_result",
          "data": {
            "text/plain": [
              "array([ 10.        ,   9.7979798 ,   9.5959596 ,   9.39393939,\n",
              "         9.19191919,   8.98989899,   8.78787879,   8.58585859,\n",
              "         8.38383838,   8.18181818,   7.97979798,   7.77777778,\n",
              "         7.57575758,   7.37373737,   7.17171717,   6.96969697,\n",
              "         6.76767677,   6.56565657,   6.36363636,   6.16161616,\n",
              "         5.95959596,   5.75757576,   5.55555556,   5.35353535,\n",
              "         5.15151515,   4.94949495,   4.74747475,   4.54545455,\n",
              "         4.34343434,   4.14141414,   3.93939394,   3.73737374,\n",
              "         3.53535354,   3.33333333,   3.13131313,   2.92929293,\n",
              "         2.72727273,   2.52525253,   2.32323232,   2.12121212,\n",
              "         1.91919192,   1.71717172,   1.51515152,   1.31313131,\n",
              "         1.11111111,   0.90909091,   0.70707071,   0.50505051,\n",
              "         0.3030303 ,   0.1010101 ,  -0.1010101 ,  -0.3030303 ,\n",
              "        -0.50505051,  -0.70707071,  -0.90909091,  -1.11111111,\n",
              "        -1.31313131,  -1.51515152,  -1.71717172,  -1.91919192,\n",
              "        -2.12121212,  -2.32323232,  -2.52525253,  -2.72727273,\n",
              "        -2.92929293,  -3.13131313,  -3.33333333,  -3.53535354,\n",
              "        -3.73737374,  -3.93939394,  -4.14141414,  -4.34343434,\n",
              "        -4.54545455,  -4.74747475,  -4.94949495,  -5.15151515,\n",
              "        -5.35353535,  -5.55555556,  -5.75757576,  -5.95959596,\n",
              "        -6.16161616,  -6.36363636,  -6.56565657,  -6.76767677,\n",
              "        -6.96969697,  -7.17171717,  -7.37373737,  -7.57575758,\n",
              "        -7.77777778,  -7.97979798,  -8.18181818,  -8.38383838,\n",
              "        -8.58585859,  -8.78787879,  -8.98989899,  -9.19191919,\n",
              "        -9.39393939,  -9.5959596 ,  -9.7979798 , -10.        ])"
            ]
          },
          "metadata": {},
          "execution_count": 4
        }
      ]
    },
    {
      "cell_type": "code",
      "source": [
        "plt.plot(x,sigmoid(x))"
      ],
      "metadata": {
        "colab": {
          "base_uri": "https://localhost:8080/",
          "height": 282
        },
        "id": "pZH9VEv8pUCT",
        "outputId": "434f359f-007b-4c69-e3dd-bc3b728aedbd"
      },
      "execution_count": 5,
      "outputs": [
        {
          "output_type": "execute_result",
          "data": {
            "text/plain": [
              "[<matplotlib.lines.Line2D at 0x7f03f3952310>]"
            ]
          },
          "metadata": {},
          "execution_count": 5
        },
        {
          "output_type": "display_data",
          "data": {
            "text/plain": [
              "<Figure size 432x288 with 1 Axes>"
            ],
            "image/png": "[encoded data removed]"
          },
          "metadata": {
            "needs_background": "light"
          }
        }
      ]
    },
    {
      "cell_type": "markdown",
      "source": [
        "2) Step"
      ],
      "metadata": {
        "id": "KuqgkaROpsCw"
      }
    },
    {
      "cell_type": "code",
      "source": [
        "def step(x):\n",
        "  return np.piecewise(x,[x<0.0,x>0.0],[0,1])"
      ],
      "metadata": {
        "id": "ix6pYY5bpuaM"
      },
      "execution_count": 8,
      "outputs": []
    },
    {
      "cell_type": "code",
      "source": [
        "plt.plot(x,step(x))"
      ],
      "metadata": {
        "colab": {
          "base_uri": "https://localhost:8080/",
          "height": 282
        },
        "id": "MitQsi4KqTvs",
        "outputId": "2e759f7c-15ef-4194-9629-64aa278ea7af"
      },
      "execution_count": 9,
      "outputs": [
        {
          "output_type": "execute_result",
          "data": {
            "text/plain": [
              "[<matplotlib.lines.Line2D at 0x7f03e4cd0ee0>]"
            ]
          },
          "metadata": {},
          "execution_count": 9
        },
        {
          "output_type": "display_data",
          "data": {
            "text/plain": [
              "<Figure size 432x288 with 1 Axes>"
            ],
            "image/png": "[encoded data removed]"
          },
          "metadata": {
            "needs_background": "light"
          }
        }
      ]
    },
    {
      "cell_type": "code",
      "source": [],
      "metadata": {
        "id": "uCoUpb__qT6G"
      },
      "execution_count": null,
      "outputs": []
    }
  ]
}