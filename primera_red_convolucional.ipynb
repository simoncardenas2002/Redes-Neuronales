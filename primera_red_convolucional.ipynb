{
 "cells": [
  {
   "cell_type": "markdown",
   "id": "039a0fb2",
   "metadata": {
    "papermill": {
     "duration": 0.005905,
     "end_time": "2023-03-25T21:20:24.305356",
     "exception": false,
     "start_time": "2023-03-25T21:20:24.299451",
     "status": "completed"
    },
    "tags": []
   },
   "source": [
    "### Intro a redes convolucionales\n",
    " las redes neuronales convolucionales se suponen que tratan de simular la corteza cerebral."
   ]
  },
  {
   "cell_type": "code",
   "execution_count": 1,
   "id": "fca8dd01",
   "metadata": {
    "execution": {
     "iopub.execute_input": "2023-03-25T21:20:24.316424Z",
     "iopub.status.busy": "2023-03-25T21:20:24.315961Z",
     "iopub.status.idle": "2023-03-25T21:20:32.406283Z",
     "shell.execute_reply": "2023-03-25T21:20:32.404823Z"
    },
    "papermill": {
     "duration": 8.099002,
     "end_time": "2023-03-25T21:20:32.409078",
     "exception": false,
     "start_time": "2023-03-25T21:20:24.310076",
     "status": "completed"
    },
    "tags": []
   },
   "outputs": [],
   "source": [
    "#Primera red convolusionar\n",
    "import pandas as pd\n",
    "import numpy as np\n",
    "import tensorflow as tf\n",
    "from tensorflow.keras.datasets import fashion_mnist\n",
    "from tensorflow.keras.layers import Conv2D, Dropout, MaxPooling2D , Flatten, Dense\n",
    "import matplotlib.pyplot as plt"
   ]
  },
  {
   "cell_type": "code",
   "execution_count": 2,
   "id": "221e1df6",
   "metadata": {
    "execution": {
     "iopub.execute_input": "2023-03-25T21:20:32.421418Z",
     "iopub.status.busy": "2023-03-25T21:20:32.420746Z",
     "iopub.status.idle": "2023-03-25T21:20:33.177996Z",
     "shell.execute_reply": "2023-03-25T21:20:33.176925Z"
    },
    "papermill": {
     "duration": 0.766371,
     "end_time": "2023-03-25T21:20:33.180827",
     "exception": false,
     "start_time": "2023-03-25T21:20:32.414456",
     "status": "completed"
    },
    "tags": []
   },
   "outputs": [
    {
     "name": "stdout",
     "output_type": "stream",
     "text": [
      "Downloading data from https://storage.googleapis.com/tensorflow/tf-keras-datasets/train-labels-idx1-ubyte.gz\n",
      "29515/29515 [==============================] - 0s 0us/step\n",
      "Downloading data from https://storage.googleapis.com/tensorflow/tf-keras-datasets/train-images-idx3-ubyte.gz\n",
      "26421880/26421880 [==============================] - 0s 0us/step\n",
      "Downloading data from https://storage.googleapis.com/tensorflow/tf-keras-datasets/t10k-labels-idx1-ubyte.gz\n",
      "5148/5148 [==============================] - 0s 0us/step\n",
      "Downloading data from https://storage.googleapis.com/tensorflow/tf-keras-datasets/t10k-images-idx3-ubyte.gz\n",
      "4422102/4422102 [==============================] - 0s 0us/step\n"
     ]
    }
   ],
   "source": [
    "(train_images, train_labels),(test_images, test_labels)= fashion_mnist.load_data()"
   ]
  },
  {
   "cell_type": "markdown",
   "id": "1d8331c0",
   "metadata": {
    "papermill": {
     "duration": 0.005229,
     "end_time": "2023-03-25T21:20:33.192050",
     "exception": false,
     "start_time": "2023-03-25T21:20:33.186821",
     "status": "completed"
    },
    "tags": []
   },
   "source": [
    "1. Hacemos un análisis exploratorio para entender los datos"
   ]
  },
  {
   "cell_type": "code",
   "execution_count": 3,
   "id": "b1734026",
   "metadata": {
    "execution": {
     "iopub.execute_input": "2023-03-25T21:20:33.204023Z",
     "iopub.status.busy": "2023-03-25T21:20:33.203687Z",
     "iopub.status.idle": "2023-03-25T21:20:33.211369Z",
     "shell.execute_reply": "2023-03-25T21:20:33.210286Z"
    },
    "papermill": {
     "duration": 0.016188,
     "end_time": "2023-03-25T21:20:33.213489",
     "exception": false,
     "start_time": "2023-03-25T21:20:33.197301",
     "status": "completed"
    },
    "tags": []
   },
   "outputs": [
    {
     "data": {
      "text/plain": [
       "(60000, 28, 28)"
      ]
     },
     "execution_count": 3,
     "metadata": {},
     "output_type": "execute_result"
    }
   ],
   "source": [
    "train_images.shape #60000 imagenes de 28 * 28"
   ]
  },
  {
   "cell_type": "code",
   "execution_count": 4,
   "id": "e82f8c05",
   "metadata": {
    "execution": {
     "iopub.execute_input": "2023-03-25T21:20:33.225757Z",
     "iopub.status.busy": "2023-03-25T21:20:33.225454Z",
     "iopub.status.idle": "2023-03-25T21:20:33.579248Z",
     "shell.execute_reply": "2023-03-25T21:20:33.578037Z"
    },
    "papermill": {
     "duration": 0.362724,
     "end_time": "2023-03-25T21:20:33.581738",
     "exception": false,
     "start_time": "2023-03-25T21:20:33.219014",
     "status": "completed"
    },
    "tags": []
   },
   "outputs": [
    {
     "data": {
      "text/plain": [
       "<matplotlib.image.AxesImage at 0x7fe974e56890>"
      ]
     },
     "execution_count": 4,
     "metadata": {},
     "output_type": "execute_result"
    },
    {
     "data": {
      "image/png": "[encoded data removed]",
      "text/plain": [
       "<Figure size 640x480 with 1 Axes>"
      ]
     },
     "metadata": {},
     "output_type": "display_data"
    }
   ],
   "source": [
    "plt.imshow(train_images[0])\n",
    "# visualizamos la primera imagen del dataset"
   ]
  },
  {
   "cell_type": "code",
   "execution_count": 5,
   "id": "bc10d018",
   "metadata": {
    "execution": {
     "iopub.execute_input": "2023-03-25T21:20:33.603224Z",
     "iopub.status.busy": "2023-03-25T21:20:33.602869Z",
     "iopub.status.idle": "2023-03-25T21:20:33.855101Z",
     "shell.execute_reply": "2023-03-25T21:20:33.854033Z"
    },
    "papermill": {
     "duration": 0.265367,
     "end_time": "2023-03-25T21:20:33.857522",
     "exception": false,
     "start_time": "2023-03-25T21:20:33.592155",
     "status": "completed"
    },
    "tags": []
   },
   "outputs": [
    {
     "data": {
      "text/plain": [
       "<matplotlib.image.AxesImage at 0x7fe97839cf90>"
      ]
     },
     "execution_count": 5,
     "metadata": {},
     "output_type": "execute_result"
    },
    {
     "data": {
      "image/png": "[encoded data removed]",
      "text/plain": [
       "<Figure size 640x480 with 1 Axes>"
      ]
     },
     "metadata": {},
     "output_type": "display_data"
    }
   ],
   "source": [
    "plt.imshow(train_images[986])"
   ]
  },
  {
   "cell_type": "markdown",
   "id": "583d4b90",
   "metadata": {
    "papermill": {
     "duration": 0.009708,
     "end_time": "2023-03-25T21:20:33.876975",
     "exception": false,
     "start_time": "2023-03-25T21:20:33.867267",
     "status": "completed"
    },
    "tags": []
   },
   "source": [
    "Podemos ver entonces que este dataset es de imagenes de ropa"
   ]
  },
  {
   "cell_type": "markdown",
   "id": "1aca7f73",
   "metadata": {
    "papermill": {
     "duration": 0.009044,
     "end_time": "2023-03-25T21:20:33.895751",
     "exception": false,
     "start_time": "2023-03-25T21:20:33.886707",
     "status": "completed"
    },
    "tags": []
   },
   "source": [
    "2. Estandarizaremos los valores para poder tenerlos en un mismo rango, de 0 a 1 y evitar futuros sesgos"
   ]
  },
  {
   "cell_type": "code",
   "execution_count": 6,
   "id": "a2926ee4",
   "metadata": {
    "execution": {
     "iopub.execute_input": "2023-03-25T21:20:33.917621Z",
     "iopub.status.busy": "2023-03-25T21:20:33.917334Z",
     "iopub.status.idle": "2023-03-25T21:20:34.014697Z",
     "shell.execute_reply": "2023-03-25T21:20:34.013349Z"
    },
    "papermill": {
     "duration": 0.112749,
     "end_time": "2023-03-25T21:20:34.018492",
     "exception": false,
     "start_time": "2023-03-25T21:20:33.905743",
     "status": "completed"
    },
    "tags": []
   },
   "outputs": [],
   "source": [
    "train_images = train_images.astype(\"float32\")/255\n",
    "test_images = test_images.astype(\"float32\")/255"
   ]
  },
  {
   "cell_type": "code",
   "execution_count": 7,
   "id": "1ffc3870",
   "metadata": {
    "execution": {
     "iopub.execute_input": "2023-03-25T21:20:34.035866Z",
     "iopub.status.busy": "2023-03-25T21:20:34.035487Z",
     "iopub.status.idle": "2023-03-25T21:20:34.041186Z",
     "shell.execute_reply": "2023-03-25T21:20:34.039954Z"
    },
    "papermill": {
     "duration": 0.017012,
     "end_time": "2023-03-25T21:20:34.043627",
     "exception": false,
     "start_time": "2023-03-25T21:20:34.026615",
     "status": "completed"
    },
    "tags": []
   },
   "outputs": [],
   "source": [
    "#haremos un reshape del dataset, para que tenga en este caso solo 1 canal (relacionado a la imagen)\n",
    "train_images = train_images.reshape(train_images.shape[0],28,28,1)\n",
    "test_images= test_images.reshape(test_images.shape[0],28,28,1)\n"
   ]
  },
  {
   "cell_type": "markdown",
   "id": "c90dba7a",
   "metadata": {
    "papermill": {
     "duration": 0.006727,
     "end_time": "2023-03-25T21:20:34.057366",
     "exception": false,
     "start_time": "2023-03-25T21:20:34.050639",
     "status": "completed"
    },
    "tags": []
   },
   "source": []
  },
  {
   "cell_type": "markdown",
   "id": "9a59120b",
   "metadata": {
    "papermill": {
     "duration": 0.006634,
     "end_time": "2023-03-25T21:20:34.070915",
     "exception": false,
     "start_time": "2023-03-25T21:20:34.064281",
     "status": "completed"
    },
    "tags": []
   },
   "source": [
    "Este \"to.categorical\" lo que hace es que me logra crear una clasificación del arreglo con 0 y 1, de la cantidad de posibles opciones que puedo tener"
   ]
  },
  {
   "cell_type": "code",
   "execution_count": 8,
   "id": "a34dcf74",
   "metadata": {
    "execution": {
     "iopub.execute_input": "2023-03-25T21:20:34.087049Z",
     "iopub.status.busy": "2023-03-25T21:20:34.086697Z",
     "iopub.status.idle": "2023-03-25T21:20:34.093923Z",
     "shell.execute_reply": "2023-03-25T21:20:34.092629Z"
    },
    "papermill": {
     "duration": 0.019222,
     "end_time": "2023-03-25T21:20:34.097708",
     "exception": false,
     "start_time": "2023-03-25T21:20:34.078486",
     "status": "completed"
    },
    "tags": []
   },
   "outputs": [
    {
     "data": {
      "text/plain": [
       "9"
      ]
     },
     "execution_count": 8,
     "metadata": {},
     "output_type": "execute_result"
    }
   ],
   "source": [
    "train_labels[0]"
   ]
  },
  {
   "cell_type": "markdown",
   "id": "dbf848f5",
   "metadata": {
    "papermill": {
     "duration": 0.006805,
     "end_time": "2023-03-25T21:20:34.111441",
     "exception": false,
     "start_time": "2023-03-25T21:20:34.104636",
     "status": "completed"
    },
    "tags": []
   },
   "source": [
    "Por tanto nuestro arreglo cambiará asi:"
   ]
  },
  {
   "cell_type": "code",
   "execution_count": 9,
   "id": "3a69fe8f",
   "metadata": {
    "execution": {
     "iopub.execute_input": "2023-03-25T21:20:34.126931Z",
     "iopub.status.busy": "2023-03-25T21:20:34.126605Z",
     "iopub.status.idle": "2023-03-25T21:20:34.133808Z",
     "shell.execute_reply": "2023-03-25T21:20:34.132786Z"
    },
    "papermill": {
     "duration": 0.017819,
     "end_time": "2023-03-25T21:20:34.136317",
     "exception": false,
     "start_time": "2023-03-25T21:20:34.118498",
     "status": "completed"
    },
    "tags": []
   },
   "outputs": [],
   "source": [
    "train_labels = tf.keras.utils.to_categorical(train_labels, 10)\n",
    "#el 10, es porque sabemos de la documentación del dataset que tenemos 10 posibles opciones\n",
    "test_labels= tf.keras.utils.to_categorical(test_labels,10)"
   ]
  },
  {
   "cell_type": "code",
   "execution_count": 10,
   "id": "bb010b75",
   "metadata": {
    "execution": {
     "iopub.execute_input": "2023-03-25T21:20:34.151664Z",
     "iopub.status.busy": "2023-03-25T21:20:34.151349Z",
     "iopub.status.idle": "2023-03-25T21:20:34.158822Z",
     "shell.execute_reply": "2023-03-25T21:20:34.157573Z"
    },
    "papermill": {
     "duration": 0.018198,
     "end_time": "2023-03-25T21:20:34.161479",
     "exception": false,
     "start_time": "2023-03-25T21:20:34.143281",
     "status": "completed"
    },
    "tags": []
   },
   "outputs": [
    {
     "data": {
      "text/plain": [
       "array([0., 0., 0., 0., 0., 0., 0., 0., 0., 1.], dtype=float32)"
      ]
     },
     "execution_count": 10,
     "metadata": {},
     "output_type": "execute_result"
    }
   ],
   "source": [
    "train_labels[0]"
   ]
  },
  {
   "cell_type": "markdown",
   "id": "c5aa5278",
   "metadata": {
    "papermill": {
     "duration": 0.00665,
     "end_time": "2023-03-25T21:20:34.175801",
     "exception": false,
     "start_time": "2023-03-25T21:20:34.169151",
     "status": "completed"
    },
    "tags": []
   },
   "source": [
    "Entonces vemos que el \"to_categorical\" me creó este arreglo donde solo es 1 en la posición que corresponde"
   ]
  },
  {
   "cell_type": "markdown",
   "id": "18232d6a",
   "metadata": {
    "papermill": {
     "duration": 0.006694,
     "end_time": "2023-03-25T21:20:34.189262",
     "exception": false,
     "start_time": "2023-03-25T21:20:34.182568",
     "status": "completed"
    },
    "tags": []
   },
   "source": [
    "### Modelo de datos"
   ]
  },
  {
   "cell_type": "code",
   "execution_count": 11,
   "id": "b6a29b82",
   "metadata": {
    "execution": {
     "iopub.execute_input": "2023-03-25T21:20:34.204469Z",
     "iopub.status.busy": "2023-03-25T21:20:34.204168Z",
     "iopub.status.idle": "2023-03-25T21:20:38.156388Z",
     "shell.execute_reply": "2023-03-25T21:20:38.154373Z"
    },
    "papermill": {
     "duration": 3.979454,
     "end_time": "2023-03-25T21:20:38.175638",
     "exception": false,
     "start_time": "2023-03-25T21:20:34.196184",
     "status": "completed"
    },
    "tags": []
   },
   "outputs": [
    {
     "name": "stdout",
     "output_type": "stream",
     "text": [
      "Model: \"sequential\"\n",
      "_________________________________________________________________\n",
      " Layer (type)                Output Shape              Param #   \n",
      "=================================================================\n",
      " conv2d (Conv2D)             (None, 28, 28, 64)        320       \n",
      "                                                                 \n",
      " max_pooling2d (MaxPooling2D  (None, 14, 14, 64)       0         \n",
      " )                                                               \n",
      "                                                                 \n",
      " dropout (Dropout)           (None, 14, 14, 64)        0         \n",
      "                                                                 \n",
      " conv2d_1 (Conv2D)           (None, 14, 14, 64)        16448     \n",
      "                                                                 \n",
      " max_pooling2d_1 (MaxPooling  (None, 7, 7, 64)         0         \n",
      " 2D)                                                             \n",
      "                                                                 \n",
      " dropout_1 (Dropout)         (None, 7, 7, 64)          0         \n",
      "                                                                 \n",
      " flatten (Flatten)           (None, 3136)              0         \n",
      "                                                                 \n",
      " dense (Dense)               (None, 256)               803072    \n",
      "                                                                 \n",
      " dropout_2 (Dropout)         (None, 256)               0         \n",
      "                                                                 \n",
      " dense_1 (Dense)             (None, 10)                2570      \n",
      "                                                                 \n",
      "=================================================================\n",
      "Total params: 822,410\n",
      "Trainable params: 822,410\n",
      "Non-trainable params: 0\n",
      "_________________________________________________________________\n"
     ]
    }
   ],
   "source": [
    "model= tf.keras.Sequential()\n",
    "#Primero agregamos la capa de convolución\n",
    "model.add(Conv2D(filters=64,kernel_size=2,padding=\"same\",activation=\"relu\",input_shape=(28,28,1)))\n",
    "model.add(MaxPooling2D(pool_size=2))\n",
    "model.add(Dropout(0.3)) #Capa para evitar overfitting\n",
    "model.add(Conv2D(filters=64,kernel_size=2,padding=\"same\",activation=\"relu\"))\n",
    "model.add(MaxPooling2D(pool_size=2))\n",
    "model.add(Dropout(0.3))\n",
    "#La siguiente capa \"aplanará los datos de la neurona\"\n",
    "model.add(Flatten())\n",
    "model.add(Dense(256,activation=\"relu\"))\n",
    "model.add(Dropout(0.5))\n",
    "model.add(Dense(10,activation=\"softmax\"))\n",
    "\n",
    "model.summary() "
   ]
  },
  {
   "cell_type": "markdown",
   "id": "58018472",
   "metadata": {
    "papermill": {
     "duration": 0.008017,
     "end_time": "2023-03-25T21:20:38.192469",
     "exception": false,
     "start_time": "2023-03-25T21:20:38.184452",
     "status": "completed"
    },
    "tags": []
   },
   "source": [
    "### Entrenando el modelo"
   ]
  },
  {
   "cell_type": "code",
   "execution_count": 12,
   "id": "9cce1b95",
   "metadata": {
    "execution": {
     "iopub.execute_input": "2023-03-25T21:20:38.209911Z",
     "iopub.status.busy": "2023-03-25T21:20:38.209603Z",
     "iopub.status.idle": "2023-03-25T21:20:38.226228Z",
     "shell.execute_reply": "2023-03-25T21:20:38.225245Z"
    },
    "papermill": {
     "duration": 0.027489,
     "end_time": "2023-03-25T21:20:38.228506",
     "exception": false,
     "start_time": "2023-03-25T21:20:38.201017",
     "status": "completed"
    },
    "tags": []
   },
   "outputs": [],
   "source": [
    "#compilando el modelo\n",
    "model.compile(loss = \"categorical_crossentropy\",\n",
    "             optimizer=\"rmsprop\",\n",
    "             metrics=[\"accuracy\"])"
   ]
  },
  {
   "cell_type": "code",
   "execution_count": 13,
   "id": "258198f2",
   "metadata": {
    "execution": {
     "iopub.execute_input": "2023-03-25T21:20:38.245281Z",
     "iopub.status.busy": "2023-03-25T21:20:38.244960Z",
     "iopub.status.idle": "2023-03-25T21:24:01.434033Z",
     "shell.execute_reply": "2023-03-25T21:24:01.432966Z"
    },
    "papermill": {
     "duration": 203.357014,
     "end_time": "2023-03-25T21:24:01.593146",
     "exception": false,
     "start_time": "2023-03-25T21:20:38.236132",
     "status": "completed"
    },
    "tags": []
   },
   "outputs": [
    {
     "name": "stdout",
     "output_type": "stream",
     "text": [
      "Epoch 1/30\n"
     ]
    },
    {
     "name": "stderr",
     "output_type": "stream",
     "text": [
      "2023-03-25 21:20:39.441598: E tensorflow/core/grappler/optimizers/meta_optimizer.cc:954] layout failed: INVALID_ARGUMENT: Size of values 0 does not match size of permutation 4 @ fanin shape insequential/dropout/dropout/SelectV2-2-TransposeNHWCToNCHW-LayoutOptimizer\n"
     ]
    },
    {
     "name": "stdout",
     "output_type": "stream",
     "text": [
      "938/938 [==============================] - 14s 5ms/step - loss: 0.5567 - accuracy: 0.7979\n",
      "Epoch 2/30\n",
      "938/938 [==============================] - 5s 5ms/step - loss: 0.3803 - accuracy: 0.8620\n",
      "Epoch 3/30\n",
      "938/938 [==============================] - 5s 5ms/step - loss: 0.3374 - accuracy: 0.8795\n",
      "Epoch 4/30\n",
      "938/938 [==============================] - 5s 5ms/step - loss: 0.3140 - accuracy: 0.8881\n",
      "Epoch 5/30\n",
      "938/938 [==============================] - 5s 5ms/step - loss: 0.3031 - accuracy: 0.8927\n",
      "Epoch 6/30\n",
      "938/938 [==============================] - 5s 5ms/step - loss: 0.2935 - accuracy: 0.8957\n",
      "Epoch 7/30\n",
      "938/938 [==============================] - 5s 5ms/step - loss: 0.2895 - accuracy: 0.8971\n",
      "Epoch 8/30\n",
      "938/938 [==============================] - 5s 5ms/step - loss: 0.2855 - accuracy: 0.8983\n",
      "Epoch 9/30\n",
      "938/938 [==============================] - 5s 5ms/step - loss: 0.2806 - accuracy: 0.9016\n",
      "Epoch 10/30\n",
      "938/938 [==============================] - 5s 5ms/step - loss: 0.2776 - accuracy: 0.9026\n",
      "Epoch 11/30\n",
      "938/938 [==============================] - 5s 5ms/step - loss: 0.2760 - accuracy: 0.9025\n",
      "Epoch 12/30\n",
      "938/938 [==============================] - 5s 5ms/step - loss: 0.2749 - accuracy: 0.9037\n",
      "Epoch 13/30\n",
      "938/938 [==============================] - 5s 5ms/step - loss: 0.2765 - accuracy: 0.9037\n",
      "Epoch 14/30\n",
      "938/938 [==============================] - 5s 5ms/step - loss: 0.2706 - accuracy: 0.9066\n",
      "Epoch 15/30\n",
      "938/938 [==============================] - 5s 5ms/step - loss: 0.2724 - accuracy: 0.9055\n",
      "Epoch 16/30\n",
      "938/938 [==============================] - 5s 6ms/step - loss: 0.2680 - accuracy: 0.9058\n",
      "Epoch 17/30\n",
      "938/938 [==============================] - 5s 5ms/step - loss: 0.2656 - accuracy: 0.9072\n",
      "Epoch 18/30\n",
      "938/938 [==============================] - 5s 5ms/step - loss: 0.2690 - accuracy: 0.9059\n",
      "Epoch 19/30\n",
      "938/938 [==============================] - 5s 5ms/step - loss: 0.2660 - accuracy: 0.9080\n",
      "Epoch 20/30\n",
      "938/938 [==============================] - 5s 5ms/step - loss: 0.2656 - accuracy: 0.9071\n",
      "Epoch 21/30\n",
      "938/938 [==============================] - 5s 5ms/step - loss: 0.2631 - accuracy: 0.9081\n",
      "Epoch 22/30\n",
      "938/938 [==============================] - 5s 5ms/step - loss: 0.2662 - accuracy: 0.9078\n",
      "Epoch 23/30\n",
      "938/938 [==============================] - 5s 6ms/step - loss: 0.2641 - accuracy: 0.9092\n",
      "Epoch 24/30\n",
      "938/938 [==============================] - 5s 5ms/step - loss: 0.2641 - accuracy: 0.9093\n",
      "Epoch 25/30\n",
      "938/938 [==============================] - 5s 5ms/step - loss: 0.2628 - accuracy: 0.9099\n",
      "Epoch 26/30\n",
      "938/938 [==============================] - 5s 5ms/step - loss: 0.2561 - accuracy: 0.9109\n",
      "Epoch 27/30\n",
      "938/938 [==============================] - 5s 5ms/step - loss: 0.2589 - accuracy: 0.9112\n",
      "Epoch 28/30\n",
      "938/938 [==============================] - 5s 5ms/step - loss: 0.2580 - accuracy: 0.9105\n",
      "Epoch 29/30\n",
      "938/938 [==============================] - 5s 6ms/step - loss: 0.2628 - accuracy: 0.9089\n",
      "Epoch 30/30\n",
      "938/938 [==============================] - 5s 5ms/step - loss: 0.2615 - accuracy: 0.9095\n"
     ]
    },
    {
     "data": {
      "text/plain": [
       "<keras.callbacks.History at 0x7fe974f0fb10>"
      ]
     },
     "execution_count": 13,
     "metadata": {},
     "output_type": "execute_result"
    }
   ],
   "source": [
    "model.fit(train_images,train_labels, batch_size=64,\n",
    "         epochs=30)"
   ]
  },
  {
   "cell_type": "code",
   "execution_count": 14,
   "id": "1783c392",
   "metadata": {
    "execution": {
     "iopub.execute_input": "2023-03-25T21:24:01.969761Z",
     "iopub.status.busy": "2023-03-25T21:24:01.968716Z",
     "iopub.status.idle": "2023-03-25T21:24:03.540927Z",
     "shell.execute_reply": "2023-03-25T21:24:03.539934Z"
    },
    "papermill": {
     "duration": 1.790441,
     "end_time": "2023-03-25T21:24:03.543192",
     "exception": false,
     "start_time": "2023-03-25T21:24:01.752751",
     "status": "completed"
    },
    "tags": []
   },
   "outputs": [
    {
     "data": {
      "text/plain": [
       "[0.2544901967048645, 0.9164000153541565]"
      ]
     },
     "execution_count": 14,
     "metadata": {},
     "output_type": "execute_result"
    }
   ],
   "source": [
    "model.evaluate(test_images,test_labels,\n",
    "              verbose=0)"
   ]
  },
  {
   "cell_type": "markdown",
   "id": "5ec70773",
   "metadata": {
    "papermill": {
     "duration": 0.162893,
     "end_time": "2023-03-25T21:24:03.865915",
     "exception": false,
     "start_time": "2023-03-25T21:24:03.703022",
     "status": "completed"
    },
    "tags": []
   },
   "source": [
    "Vemos que tenemos un 91% de accuracy en el modelo"
   ]
  }
 ],
 "metadata": {
  "kernelspec": {
   "display_name": "Python 3",
   "language": "python",
   "name": "python3"
  },
  "language_info": {
   "codemirror_mode": {
    "name": "ipython",
    "version": 3
   },
   "file_extension": ".py",
   "mimetype": "text/x-python",
   "name": "python",
   "nbconvert_exporter": "python",
   "pygments_lexer": "ipython3",
   "version": "3.7.12"
  },
  "papermill": {
   "default_parameters": {},
   "duration": 233.048464,
   "end_time": "2023-03-25T21:24:07.608530",
   "environment_variables": {},
   "exception": null,
   "input_path": "__notebook__.ipynb",
   "output_path": "__notebook__.ipynb",
   "parameters": {},
   "start_time": "2023-03-25T21:20:14.560066",
   "version": "2.4.0"
  }
 },
 "nbformat": 4,
 "nbformat_minor": 5
}
