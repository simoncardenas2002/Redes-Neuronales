{
 "cells": [
  {
   "cell_type": "markdown",
   "id": "c8aa70eb",
   "metadata": {
    "papermill": {
     "duration": 0.006901,
     "end_time": "2023-03-29T15:55:18.078073",
     "exception": false,
     "start_time": "2023-03-29T15:55:18.071172",
     "status": "completed"
    },
    "tags": []
   },
   "source": [
    "### Intro a redes convolucionales\n",
    " las redes neuronales convolucionales se suponen que tratan de simular la corteza cerebral."
   ]
  },
  {
   "cell_type": "code",
   "execution_count": 1,
   "id": "145d1060",
   "metadata": {
    "execution": {
     "iopub.execute_input": "2023-03-29T15:55:18.091495Z",
     "iopub.status.busy": "2023-03-29T15:55:18.091042Z",
     "iopub.status.idle": "2023-03-29T15:55:25.152131Z",
     "shell.execute_reply": "2023-03-29T15:55:25.150959Z"
    },
    "papermill": {
     "duration": 7.071309,
     "end_time": "2023-03-29T15:55:25.155313",
     "exception": false,
     "start_time": "2023-03-29T15:55:18.084004",
     "status": "completed"
    },
    "tags": []
   },
   "outputs": [],
   "source": [
    "#Primera red convolusionar\n",
    "import pandas as pd\n",
    "import numpy as np\n",
    "import tensorflow as tf\n",
    "from tensorflow.keras.datasets import fashion_mnist\n",
    "from tensorflow.keras.layers import Conv2D, Dropout, MaxPooling2D , Flatten, Dense\n",
    "import matplotlib.pyplot as plt"
   ]
  },
  {
   "cell_type": "code",
   "execution_count": 2,
   "id": "92f03651",
   "metadata": {
    "execution": {
     "iopub.execute_input": "2023-03-29T15:55:25.168770Z",
     "iopub.status.busy": "2023-03-29T15:55:25.168153Z",
     "iopub.status.idle": "2023-03-29T15:55:27.780927Z",
     "shell.execute_reply": "2023-03-29T15:55:27.779775Z"
    },
    "papermill": {
     "duration": 2.622657,
     "end_time": "2023-03-29T15:55:27.783888",
     "exception": false,
     "start_time": "2023-03-29T15:55:25.161231",
     "status": "completed"
    },
    "tags": []
   },
   "outputs": [
    {
     "name": "stdout",
     "output_type": "stream",
     "text": [
      "Downloading data from https://storage.googleapis.com/tensorflow/tf-keras-datasets/train-labels-idx1-ubyte.gz\n",
      "29515/29515 [==============================] - 0s 0us/step\n",
      "Downloading data from https://storage.googleapis.com/tensorflow/tf-keras-datasets/train-images-idx3-ubyte.gz\n",
      "26421880/26421880 [==============================] - 1s 0us/step\n",
      "Downloading data from https://storage.googleapis.com/tensorflow/tf-keras-datasets/t10k-labels-idx1-ubyte.gz\n",
      "5148/5148 [==============================] - 0s 0us/step\n",
      "Downloading data from https://storage.googleapis.com/tensorflow/tf-keras-datasets/t10k-images-idx3-ubyte.gz\n",
      "4422102/4422102 [==============================] - 0s 0us/step\n"
     ]
    }
   ],
   "source": [
    "(train_images, train_labels),(test_images, test_labels)= fashion_mnist.load_data()"
   ]
  },
  {
   "cell_type": "markdown",
   "id": "db335bc2",
   "metadata": {
    "papermill": {
     "duration": 0.007057,
     "end_time": "2023-03-29T15:55:27.798935",
     "exception": false,
     "start_time": "2023-03-29T15:55:27.791878",
     "status": "completed"
    },
    "tags": []
   },
   "source": [
    "1. Hacemos un análisis exploratorio para entender los datos"
   ]
  },
  {
   "cell_type": "code",
   "execution_count": 3,
   "id": "2c4d5336",
   "metadata": {
    "execution": {
     "iopub.execute_input": "2023-03-29T15:55:27.816671Z",
     "iopub.status.busy": "2023-03-29T15:55:27.815613Z",
     "iopub.status.idle": "2023-03-29T15:55:27.823885Z",
     "shell.execute_reply": "2023-03-29T15:55:27.822782Z"
    },
    "papermill": {
     "duration": 0.019573,
     "end_time": "2023-03-29T15:55:27.826552",
     "exception": false,
     "start_time": "2023-03-29T15:55:27.806979",
     "status": "completed"
    },
    "tags": []
   },
   "outputs": [
    {
     "data": {
      "text/plain": [
       "(60000, 28, 28)"
      ]
     },
     "execution_count": 3,
     "metadata": {},
     "output_type": "execute_result"
    }
   ],
   "source": [
    "train_images.shape #60000 imagenes de 28 * 28"
   ]
  },
  {
   "cell_type": "code",
   "execution_count": 4,
   "id": "a218d6b1",
   "metadata": {
    "execution": {
     "iopub.execute_input": "2023-03-29T15:55:27.843016Z",
     "iopub.status.busy": "2023-03-29T15:55:27.842222Z",
     "iopub.status.idle": "2023-03-29T15:55:28.084152Z",
     "shell.execute_reply": "2023-03-29T15:55:28.083220Z"
    },
    "papermill": {
     "duration": 0.252743,
     "end_time": "2023-03-29T15:55:28.086602",
     "exception": false,
     "start_time": "2023-03-29T15:55:27.833859",
     "status": "completed"
    },
    "tags": []
   },
   "outputs": [
    {
     "data": {
      "text/plain": [
       "<matplotlib.image.AxesImage at 0x7f8504dea5d0>"
      ]
     },
     "execution_count": 4,
     "metadata": {},
     "output_type": "execute_result"
    },
    {
     "data": {
      "image/png": "[encoded data removed]",
      "text/plain": [
       "<Figure size 640x480 with 1 Axes>"
      ]
     },
     "metadata": {},
     "output_type": "display_data"
    }
   ],
   "source": [
    "plt.imshow(train_images[0])\n",
    "# visualizamos la primera imagen del dataset"
   ]
  },
  {
   "cell_type": "code",
   "execution_count": 5,
   "id": "af745f23",
   "metadata": {
    "execution": {
     "iopub.execute_input": "2023-03-29T15:55:28.103986Z",
     "iopub.status.busy": "2023-03-29T15:55:28.103459Z",
     "iopub.status.idle": "2023-03-29T15:55:28.320173Z",
     "shell.execute_reply": "2023-03-29T15:55:28.319243Z"
    },
    "papermill": {
     "duration": 0.228228,
     "end_time": "2023-03-29T15:55:28.322785",
     "exception": false,
     "start_time": "2023-03-29T15:55:28.094557",
     "status": "completed"
    },
    "tags": []
   },
   "outputs": [
    {
     "data": {
      "text/plain": [
       "<matplotlib.image.AxesImage at 0x7f847d7e8650>"
      ]
     },
     "execution_count": 5,
     "metadata": {},
     "output_type": "execute_result"
    },
    {
     "data": {
      "image/png": "[encoded data removed]",
      "text/plain": [
       "<Figure size 640x480 with 1 Axes>"
      ]
     },
     "metadata": {},
     "output_type": "display_data"
    }
   ],
   "source": [
    "plt.imshow(train_images[986])"
   ]
  },
  {
   "cell_type": "markdown",
   "id": "abf48192",
   "metadata": {
    "papermill": {
     "duration": 0.007745,
     "end_time": "2023-03-29T15:55:28.338809",
     "exception": false,
     "start_time": "2023-03-29T15:55:28.331064",
     "status": "completed"
    },
    "tags": []
   },
   "source": [
    "Podemos ver entonces que este dataset es de imagenes de ropa"
   ]
  },
  {
   "cell_type": "markdown",
   "id": "556ea91c",
   "metadata": {
    "papermill": {
     "duration": 0.007615,
     "end_time": "2023-03-29T15:55:28.354482",
     "exception": false,
     "start_time": "2023-03-29T15:55:28.346867",
     "status": "completed"
    },
    "tags": []
   },
   "source": [
    "2. Estandarizaremos los valores para poder tenerlos en un mismo rango, de 0 a 1 y evitar futuros sesgos"
   ]
  },
  {
   "cell_type": "code",
   "execution_count": 6,
   "id": "8d6297bf",
   "metadata": {
    "execution": {
     "iopub.execute_input": "2023-03-29T15:55:28.371666Z",
     "iopub.status.busy": "2023-03-29T15:55:28.371336Z",
     "iopub.status.idle": "2023-03-29T15:55:28.451957Z",
     "shell.execute_reply": "2023-03-29T15:55:28.450851Z"
    },
    "papermill": {
     "duration": 0.092327,
     "end_time": "2023-03-29T15:55:28.454917",
     "exception": false,
     "start_time": "2023-03-29T15:55:28.362590",
     "status": "completed"
    },
    "tags": []
   },
   "outputs": [],
   "source": [
    "train_images = train_images.astype(\"float32\")/255\n",
    "test_images = test_images.astype(\"float32\")/255"
   ]
  },
  {
   "cell_type": "code",
   "execution_count": 7,
   "id": "a008be78",
   "metadata": {
    "execution": {
     "iopub.execute_input": "2023-03-29T15:55:28.474284Z",
     "iopub.status.busy": "2023-03-29T15:55:28.473967Z",
     "iopub.status.idle": "2023-03-29T15:55:28.478894Z",
     "shell.execute_reply": "2023-03-29T15:55:28.477866Z"
    },
    "papermill": {
     "duration": 0.016595,
     "end_time": "2023-03-29T15:55:28.481078",
     "exception": false,
     "start_time": "2023-03-29T15:55:28.464483",
     "status": "completed"
    },
    "tags": []
   },
   "outputs": [],
   "source": [
    "#haremos un reshape del dataset, para que tenga en este caso solo 1 canal (relacionado a la imagen)\n",
    "train_images = train_images.reshape(train_images.shape[0],28,28,1)\n",
    "test_images= test_images.reshape(test_images.shape[0],28,28,1)\n"
   ]
  },
  {
   "cell_type": "markdown",
   "id": "fa6a6386",
   "metadata": {
    "papermill": {
     "duration": 0.007873,
     "end_time": "2023-03-29T15:55:28.497145",
     "exception": false,
     "start_time": "2023-03-29T15:55:28.489272",
     "status": "completed"
    },
    "tags": []
   },
   "source": []
  },
  {
   "cell_type": "markdown",
   "id": "43ba9cd0",
   "metadata": {
    "papermill": {
     "duration": 0.007707,
     "end_time": "2023-03-29T15:55:28.513058",
     "exception": false,
     "start_time": "2023-03-29T15:55:28.505351",
     "status": "completed"
    },
    "tags": []
   },
   "source": [
    "Este \"to.categorical\" lo que hace es que me logra crear una clasificación del arreglo con 0 y 1, de la cantidad de posibles opciones que puedo tener"
   ]
  },
  {
   "cell_type": "code",
   "execution_count": 8,
   "id": "c26ed828",
   "metadata": {
    "execution": {
     "iopub.execute_input": "2023-03-29T15:55:28.530481Z",
     "iopub.status.busy": "2023-03-29T15:55:28.530161Z",
     "iopub.status.idle": "2023-03-29T15:55:28.536276Z",
     "shell.execute_reply": "2023-03-29T15:55:28.535304Z"
    },
    "papermill": {
     "duration": 0.017169,
     "end_time": "2023-03-29T15:55:28.538349",
     "exception": false,
     "start_time": "2023-03-29T15:55:28.521180",
     "status": "completed"
    },
    "tags": []
   },
   "outputs": [
    {
     "data": {
      "text/plain": [
       "9"
      ]
     },
     "execution_count": 8,
     "metadata": {},
     "output_type": "execute_result"
    }
   ],
   "source": [
    "train_labels[0]"
   ]
  },
  {
   "cell_type": "markdown",
   "id": "b7989fa3",
   "metadata": {
    "papermill": {
     "duration": 0.007783,
     "end_time": "2023-03-29T15:55:28.554497",
     "exception": false,
     "start_time": "2023-03-29T15:55:28.546714",
     "status": "completed"
    },
    "tags": []
   },
   "source": [
    "Por tanto nuestro arreglo cambiará asi:"
   ]
  },
  {
   "cell_type": "code",
   "execution_count": 9,
   "id": "193d09bd",
   "metadata": {
    "execution": {
     "iopub.execute_input": "2023-03-29T15:55:28.571958Z",
     "iopub.status.busy": "2023-03-29T15:55:28.571421Z",
     "iopub.status.idle": "2023-03-29T15:55:28.577915Z",
     "shell.execute_reply": "2023-03-29T15:55:28.577010Z"
    },
    "papermill": {
     "duration": 0.017326,
     "end_time": "2023-03-29T15:55:28.580044",
     "exception": false,
     "start_time": "2023-03-29T15:55:28.562718",
     "status": "completed"
    },
    "tags": []
   },
   "outputs": [],
   "source": [
    "train_labels = tf.keras.utils.to_categorical(train_labels, 10)\n",
    "#el 10, es porque sabemos de la documentación del dataset que tenemos 10 posibles opciones\n",
    "test_labels= tf.keras.utils.to_categorical(test_labels,10)"
   ]
  },
  {
   "cell_type": "code",
   "execution_count": 10,
   "id": "075775d9",
   "metadata": {
    "execution": {
     "iopub.execute_input": "2023-03-29T15:55:28.597447Z",
     "iopub.status.busy": "2023-03-29T15:55:28.597164Z",
     "iopub.status.idle": "2023-03-29T15:55:28.603704Z",
     "shell.execute_reply": "2023-03-29T15:55:28.602677Z"
    },
    "papermill": {
     "duration": 0.017727,
     "end_time": "2023-03-29T15:55:28.606025",
     "exception": false,
     "start_time": "2023-03-29T15:55:28.588298",
     "status": "completed"
    },
    "tags": []
   },
   "outputs": [
    {
     "data": {
      "text/plain": [
       "array([0., 0., 0., 0., 0., 0., 0., 0., 0., 1.], dtype=float32)"
      ]
     },
     "execution_count": 10,
     "metadata": {},
     "output_type": "execute_result"
    }
   ],
   "source": [
    "train_labels[0]"
   ]
  },
  {
   "cell_type": "markdown",
   "id": "0a3017f0",
   "metadata": {
    "papermill": {
     "duration": 0.008017,
     "end_time": "2023-03-29T15:55:28.622442",
     "exception": false,
     "start_time": "2023-03-29T15:55:28.614425",
     "status": "completed"
    },
    "tags": []
   },
   "source": [
    "Entonces vemos que el \"to_categorical\" me creó este arreglo donde solo es 1 en la posición que corresponde"
   ]
  },
  {
   "cell_type": "markdown",
   "id": "a856cb8a",
   "metadata": {
    "papermill": {
     "duration": 0.007963,
     "end_time": "2023-03-29T15:55:28.638451",
     "exception": false,
     "start_time": "2023-03-29T15:55:28.630488",
     "status": "completed"
    },
    "tags": []
   },
   "source": [
    "### Modelo de datos"
   ]
  },
  {
   "cell_type": "code",
   "execution_count": 11,
   "id": "0963fdc4",
   "metadata": {
    "execution": {
     "iopub.execute_input": "2023-03-29T15:55:28.656825Z",
     "iopub.status.busy": "2023-03-29T15:55:28.655914Z",
     "iopub.status.idle": "2023-03-29T15:55:31.248246Z",
     "shell.execute_reply": "2023-03-29T15:55:31.247339Z"
    },
    "papermill": {
     "duration": 2.625783,
     "end_time": "2023-03-29T15:55:31.272633",
     "exception": false,
     "start_time": "2023-03-29T15:55:28.646850",
     "status": "completed"
    },
    "tags": []
   },
   "outputs": [
    {
     "name": "stdout",
     "output_type": "stream",
     "text": [
      "Model: \"sequential\"\n",
      "_________________________________________________________________\n",
      " Layer (type)                Output Shape              Param #   \n",
      "=================================================================\n",
      " conv2d (Conv2D)             (None, 28, 28, 64)        320       \n",
      "                                                                 \n",
      " max_pooling2d (MaxPooling2D  (None, 14, 14, 64)       0         \n",
      " )                                                               \n",
      "                                                                 \n",
      " dropout (Dropout)           (None, 14, 14, 64)        0         \n",
      "                                                                 \n",
      " conv2d_1 (Conv2D)           (None, 14, 14, 64)        16448     \n",
      "                                                                 \n",
      " max_pooling2d_1 (MaxPooling  (None, 7, 7, 64)         0         \n",
      " 2D)                                                             \n",
      "                                                                 \n",
      " dropout_1 (Dropout)         (None, 7, 7, 64)          0         \n",
      "                                                                 \n",
      " flatten (Flatten)           (None, 3136)              0         \n",
      "                                                                 \n",
      " dense (Dense)               (None, 256)               803072    \n",
      "                                                                 \n",
      " dropout_2 (Dropout)         (None, 256)               0         \n",
      "                                                                 \n",
      " dense_1 (Dense)             (None, 10)                2570      \n",
      "                                                                 \n",
      "=================================================================\n",
      "Total params: 822,410\n",
      "Trainable params: 822,410\n",
      "Non-trainable params: 0\n",
      "_________________________________________________________________\n"
     ]
    }
   ],
   "source": [
    "model= tf.keras.Sequential()\n",
    "#Primero agregamos la capa de convolución\n",
    "model.add(Conv2D(filters=64,kernel_size=2,padding=\"same\",activation=\"relu\",input_shape=(28,28,1)))\n",
    "model.add(MaxPooling2D(pool_size=2))\n",
    "model.add(Dropout(0.3)) #Capa para evitar overfitting\n",
    "model.add(Conv2D(filters=64,kernel_size=2,padding=\"same\",activation=\"relu\"))\n",
    "model.add(MaxPooling2D(pool_size=2))\n",
    "model.add(Dropout(0.3))\n",
    "#La siguiente capa \"aplanará los datos de la neurona\"\n",
    "model.add(Flatten())\n",
    "model.add(Dense(256,activation=\"relu\"))\n",
    "model.add(Dropout(0.5))\n",
    "model.add(Dense(10,activation=\"softmax\"))\n",
    "\n",
    "model.summary() "
   ]
  },
  {
   "cell_type": "markdown",
   "id": "eacbb2a7",
   "metadata": {
    "papermill": {
     "duration": 0.010339,
     "end_time": "2023-03-29T15:55:31.294535",
     "exception": false,
     "start_time": "2023-03-29T15:55:31.284196",
     "status": "completed"
    },
    "tags": []
   },
   "source": [
    "### Entrenando el modelo"
   ]
  },
  {
   "cell_type": "code",
   "execution_count": 12,
   "id": "8be9e0bc",
   "metadata": {
    "execution": {
     "iopub.execute_input": "2023-03-29T15:55:31.315428Z",
     "iopub.status.busy": "2023-03-29T15:55:31.315083Z",
     "iopub.status.idle": "2023-03-29T15:55:31.331827Z",
     "shell.execute_reply": "2023-03-29T15:55:31.330874Z"
    },
    "papermill": {
     "duration": 0.029542,
     "end_time": "2023-03-29T15:55:31.333888",
     "exception": false,
     "start_time": "2023-03-29T15:55:31.304346",
     "status": "completed"
    },
    "tags": []
   },
   "outputs": [],
   "source": [
    "#compilando el modelo\n",
    "model.compile(loss = \"categorical_crossentropy\",\n",
    "             optimizer=\"rmsprop\",\n",
    "             metrics=[\"accuracy\"])"
   ]
  },
  {
   "cell_type": "code",
   "execution_count": 13,
   "id": "59ac5177",
   "metadata": {
    "execution": {
     "iopub.execute_input": "2023-03-29T15:55:31.355009Z",
     "iopub.status.busy": "2023-03-29T15:55:31.354557Z",
     "iopub.status.idle": "2023-03-29T15:58:54.711627Z",
     "shell.execute_reply": "2023-03-29T15:58:54.710561Z"
    },
    "papermill": {
     "duration": 203.51885,
     "end_time": "2023-03-29T15:58:54.862857",
     "exception": false,
     "start_time": "2023-03-29T15:55:31.344007",
     "status": "completed"
    },
    "scrolled": true,
    "tags": []
   },
   "outputs": [
    {
     "name": "stdout",
     "output_type": "stream",
     "text": [
      "Epoch 1/30\n"
     ]
    },
    {
     "name": "stderr",
     "output_type": "stream",
     "text": [
      "2023-03-29 15:55:32.722332: E tensorflow/core/grappler/optimizers/meta_optimizer.cc:954] layout failed: INVALID_ARGUMENT: Size of values 0 does not match size of permutation 4 @ fanin shape insequential/dropout/dropout/SelectV2-2-TransposeNHWCToNCHW-LayoutOptimizer\n"
     ]
    },
    {
     "name": "stdout",
     "output_type": "stream",
     "text": [
      "938/938 [==============================] - 12s 5ms/step - loss: 0.5610 - accuracy: 0.7973\n",
      "Epoch 2/30\n",
      "938/938 [==============================] - 4s 5ms/step - loss: 0.3781 - accuracy: 0.8648\n",
      "Epoch 3/30\n",
      "938/938 [==============================] - 5s 5ms/step - loss: 0.3350 - accuracy: 0.8789\n",
      "Epoch 4/30\n",
      "938/938 [==============================] - 4s 5ms/step - loss: 0.3119 - accuracy: 0.8870\n",
      "Epoch 5/30\n",
      "938/938 [==============================] - 4s 5ms/step - loss: 0.2978 - accuracy: 0.8930\n",
      "Epoch 6/30\n",
      "938/938 [==============================] - 5s 5ms/step - loss: 0.2912 - accuracy: 0.8961\n",
      "Epoch 7/30\n",
      "938/938 [==============================] - 4s 5ms/step - loss: 0.2843 - accuracy: 0.8995\n",
      "Epoch 8/30\n",
      "938/938 [==============================] - 5s 5ms/step - loss: 0.2822 - accuracy: 0.9001\n",
      "Epoch 9/30\n",
      "938/938 [==============================] - 4s 5ms/step - loss: 0.2774 - accuracy: 0.9015\n",
      "Epoch 10/30\n",
      "938/938 [==============================] - 5s 5ms/step - loss: 0.2770 - accuracy: 0.9025\n",
      "Epoch 11/30\n",
      "938/938 [==============================] - 5s 5ms/step - loss: 0.2740 - accuracy: 0.9037\n",
      "Epoch 12/30\n",
      "938/938 [==============================] - 4s 5ms/step - loss: 0.2698 - accuracy: 0.9049\n",
      "Epoch 13/30\n",
      "938/938 [==============================] - 5s 5ms/step - loss: 0.2694 - accuracy: 0.9061\n",
      "Epoch 14/30\n",
      "938/938 [==============================] - 4s 5ms/step - loss: 0.2677 - accuracy: 0.9055\n",
      "Epoch 15/30\n",
      "938/938 [==============================] - 5s 5ms/step - loss: 0.2665 - accuracy: 0.9067\n",
      "Epoch 16/30\n",
      "938/938 [==============================] - 4s 5ms/step - loss: 0.2634 - accuracy: 0.9069\n",
      "Epoch 17/30\n",
      "938/938 [==============================] - 5s 5ms/step - loss: 0.2664 - accuracy: 0.9077\n",
      "Epoch 18/30\n",
      "938/938 [==============================] - 5s 5ms/step - loss: 0.2647 - accuracy: 0.9085\n",
      "Epoch 19/30\n",
      "938/938 [==============================] - 5s 5ms/step - loss: 0.2602 - accuracy: 0.9089\n",
      "Epoch 20/30\n",
      "938/938 [==============================] - 5s 5ms/step - loss: 0.2599 - accuracy: 0.9086\n",
      "Epoch 21/30\n",
      "938/938 [==============================] - 4s 5ms/step - loss: 0.2575 - accuracy: 0.9093\n",
      "Epoch 22/30\n",
      "938/938 [==============================] - 4s 5ms/step - loss: 0.2590 - accuracy: 0.9086\n",
      "Epoch 23/30\n",
      "938/938 [==============================] - 5s 5ms/step - loss: 0.2597 - accuracy: 0.9111\n",
      "Epoch 24/30\n",
      "938/938 [==============================] - 5s 5ms/step - loss: 0.2569 - accuracy: 0.9104\n",
      "Epoch 25/30\n",
      "938/938 [==============================] - 5s 5ms/step - loss: 0.2558 - accuracy: 0.9111\n",
      "Epoch 26/30\n",
      "938/938 [==============================] - 4s 5ms/step - loss: 0.2548 - accuracy: 0.9113\n",
      "Epoch 27/30\n",
      "938/938 [==============================] - 4s 5ms/step - loss: 0.2572 - accuracy: 0.9109\n",
      "Epoch 28/30\n",
      "938/938 [==============================] - 5s 5ms/step - loss: 0.2563 - accuracy: 0.9100\n",
      "Epoch 29/30\n",
      "938/938 [==============================] - 4s 5ms/step - loss: 0.2529 - accuracy: 0.9124\n",
      "Epoch 30/30\n",
      "938/938 [==============================] - 5s 5ms/step - loss: 0.2538 - accuracy: 0.9105\n"
     ]
    },
    {
     "data": {
      "text/plain": [
       "<keras.callbacks.History at 0x7f84861bd990>"
      ]
     },
     "execution_count": 13,
     "metadata": {},
     "output_type": "execute_result"
    }
   ],
   "source": [
    "model.fit(train_images,train_labels, batch_size=64,\n",
    "         epochs=30)"
   ]
  },
  {
   "cell_type": "code",
   "execution_count": 14,
   "id": "f444f596",
   "metadata": {
    "execution": {
     "iopub.execute_input": "2023-03-29T15:58:55.225433Z",
     "iopub.status.busy": "2023-03-29T15:58:55.225071Z",
     "iopub.status.idle": "2023-03-29T15:58:56.771506Z",
     "shell.execute_reply": "2023-03-29T15:58:56.770539Z"
    },
    "papermill": {
     "duration": 1.759381,
     "end_time": "2023-03-29T15:58:56.773689",
     "exception": false,
     "start_time": "2023-03-29T15:58:55.014308",
     "status": "completed"
    },
    "tags": []
   },
   "outputs": [
    {
     "data": {
      "text/plain": [
       "[0.29075291752815247, 0.9106000065803528]"
      ]
     },
     "execution_count": 14,
     "metadata": {},
     "output_type": "execute_result"
    }
   ],
   "source": [
    "model.evaluate(test_images,test_labels,\n",
    "              verbose=0)"
   ]
  },
  {
   "cell_type": "raw",
   "id": "f09c1311",
   "metadata": {
    "papermill": {
     "duration": 0.151179,
     "end_time": "2023-03-29T15:58:57.085163",
     "exception": false,
     "start_time": "2023-03-29T15:58:56.933984",
     "status": "completed"
    },
    "tags": []
   },
   "source": [
    "Vemos que tenemos un 91% de accuracy en el modelo"
   ]
  },
  {
   "cell_type": "markdown",
   "id": "9c836ced",
   "metadata": {
    "papermill": {
     "duration": 0.150533,
     "end_time": "2023-03-29T15:58:57.385912",
     "exception": false,
     "start_time": "2023-03-29T15:58:57.235379",
     "status": "completed"
    },
    "tags": []
   },
   "source": [
    "### Callbacks\n",
    "Me dan una gran utilidad a la hora de trabajar con redes que empiezan a diverger a lo largo de las épocas"
   ]
  },
  {
   "cell_type": "code",
   "execution_count": 15,
   "id": "1e6a8422",
   "metadata": {
    "execution": {
     "iopub.execute_input": "2023-03-29T15:58:57.690905Z",
     "iopub.status.busy": "2023-03-29T15:58:57.690544Z",
     "iopub.status.idle": "2023-03-29T15:59:07.424175Z",
     "shell.execute_reply": "2023-03-29T15:59:07.423125Z"
    },
    "papermill": {
     "duration": 9.888428,
     "end_time": "2023-03-29T15:59:07.426280",
     "exception": false,
     "start_time": "2023-03-29T15:58:57.537852",
     "status": "completed"
    },
    "tags": []
   },
   "outputs": [
    {
     "name": "stdout",
     "output_type": "stream",
     "text": [
      "Epoch 1/10\n",
      "938/938 [==============================] - 5s 5ms/step - loss: 0.2517 - accuracy: 0.9133\n",
      "Epoch 2/10\n",
      "938/938 [==============================] - 4s 5ms/step - loss: 0.2548 - accuracy: 0.9116\n"
     ]
    },
    {
     "data": {
      "text/plain": [
       "<keras.callbacks.History at 0x7f8460308890>"
      ]
     },
     "execution_count": 15,
     "metadata": {},
     "output_type": "execute_result"
    }
   ],
   "source": [
    "#EarlyStopping\n",
    "early= tf.keras.callbacks.EarlyStopping(monitor=\"accuracy\",patience=1)\n",
    "\n",
    "model.fit(train_images,\n",
    "          train_labels,\n",
    "          batch_size=64,\n",
    "          callbacks=[early],\n",
    "         epochs=10)\n",
    "\n"
   ]
  },
  {
   "cell_type": "markdown",
   "id": "ad71fa6e",
   "metadata": {
    "papermill": {
     "duration": 0.160581,
     "end_time": "2023-03-29T15:59:07.747627",
     "exception": false,
     "start_time": "2023-03-29T15:59:07.587046",
     "status": "completed"
    },
    "tags": []
   },
   "source": [
    "Como en el caso anterior, que en lugar que seguir realizando mas épocas, detuvo el entrenamiento en el momento en que el accuracy del modelo disminuyó"
   ]
  },
  {
   "cell_type": "code",
   "execution_count": 16,
   "id": "40d22d3d",
   "metadata": {
    "execution": {
     "iopub.execute_input": "2023-03-29T15:59:08.069395Z",
     "iopub.status.busy": "2023-03-29T15:59:08.068403Z",
     "iopub.status.idle": "2023-03-29T16:00:30.392645Z",
     "shell.execute_reply": "2023-03-29T16:00:30.391557Z"
    },
    "papermill": {
     "duration": 82.698708,
     "end_time": "2023-03-29T16:00:30.605717",
     "exception": false,
     "start_time": "2023-03-29T15:59:07.907009",
     "status": "completed"
    },
    "scrolled": true,
    "tags": []
   },
   "outputs": [
    {
     "name": "stdout",
     "output_type": "stream",
     "text": [
      "Epoch 1/10\n",
      "928/938 [============================>.] - ETA: 0s - loss: 0.2541 - accuracy: 0.9125\n",
      "Epoch 1: accuracy improved from -inf to 0.91217, saving model to mi_primer_red_conv.hdf5\n",
      "938/938 [==============================] - 5s 5ms/step - loss: 0.2546 - accuracy: 0.9122\n",
      "Epoch 2/10\n",
      "928/938 [============================>.] - ETA: 0s - loss: 0.2546 - accuracy: 0.9128\n",
      "Epoch 2: accuracy improved from 0.91217 to 0.91260, saving model to mi_primer_red_conv.hdf5\n",
      "938/938 [==============================] - 4s 5ms/step - loss: 0.2547 - accuracy: 0.9126\n",
      "Epoch 3/10\n",
      "933/938 [============================>.] - ETA: 0s - loss: 0.2585 - accuracy: 0.9113\n",
      "Epoch 3: accuracy did not improve from 0.91260\n",
      "938/938 [==============================] - 5s 5ms/step - loss: 0.2590 - accuracy: 0.9111\n",
      "Epoch 4/10\n",
      "933/938 [============================>.] - ETA: 0s - loss: 0.2513 - accuracy: 0.9124\n",
      "Epoch 4: accuracy did not improve from 0.91260\n",
      "938/938 [==============================] - 4s 5ms/step - loss: 0.2508 - accuracy: 0.9125\n",
      "Epoch 5/10\n",
      "928/938 [============================>.] - ETA: 0s - loss: 0.2534 - accuracy: 0.9116\n",
      "Epoch 5: accuracy did not improve from 0.91260\n",
      "938/938 [==============================] - 4s 5ms/step - loss: 0.2539 - accuracy: 0.9115\n",
      "Epoch 6/10\n",
      "936/938 [============================>.] - ETA: 0s - loss: 0.2545 - accuracy: 0.9118\n",
      "Epoch 6: accuracy did not improve from 0.91260\n",
      "938/938 [==============================] - 5s 5ms/step - loss: 0.2544 - accuracy: 0.9118\n",
      "Epoch 7/10\n",
      "936/938 [============================>.] - ETA: 0s - loss: 0.2545 - accuracy: 0.9130\n",
      "Epoch 7: accuracy improved from 0.91260 to 0.91303, saving model to mi_primer_red_conv.hdf5\n",
      "938/938 [==============================] - 5s 5ms/step - loss: 0.2544 - accuracy: 0.9130\n",
      "Epoch 8/10\n",
      "934/938 [============================>.] - ETA: 0s - loss: 0.2527 - accuracy: 0.9129\n",
      "Epoch 8: accuracy did not improve from 0.91303\n",
      "938/938 [==============================] - 5s 5ms/step - loss: 0.2530 - accuracy: 0.9128\n",
      "Epoch 9/10\n",
      "933/938 [============================>.] - ETA: 0s - loss: 0.2522 - accuracy: 0.9136\n",
      "Epoch 9: accuracy improved from 0.91303 to 0.91355, saving model to mi_primer_red_conv.hdf5\n",
      "938/938 [==============================] - 4s 5ms/step - loss: 0.2521 - accuracy: 0.9136\n",
      "Epoch 10/10\n",
      "932/938 [============================>.] - ETA: 0s - loss: 0.2576 - accuracy: 0.9117\n",
      "Epoch 10: accuracy did not improve from 0.91355\n",
      "938/938 [==============================] - 4s 5ms/step - loss: 0.2574 - accuracy: 0.9118\n"
     ]
    },
    {
     "data": {
      "text/plain": [
       "<keras.callbacks.History at 0x7f84602fe810>"
      ]
     },
     "execution_count": 16,
     "metadata": {},
     "output_type": "execute_result"
    }
   ],
   "source": [
    "#ModelCheckpoint\n",
    "checkpoint= tf.keras.callbacks.ModelCheckpoint(filepath=\"mi_primer_red_conv.hdf5\",\n",
    "                                  verbose=1,\n",
    "                                  monitor=\"accuracy\",\n",
    "                                  save_best_only=True)\n",
    "model.fit(train_images,\n",
    "          train_labels,\n",
    "          batch_size=64,\n",
    "          callbacks=[checkpoint],\n",
    "         epochs=10)"
   ]
  },
  {
   "cell_type": "markdown",
   "id": "d9e902b6",
   "metadata": {
    "papermill": {
     "duration": 0.209657,
     "end_time": "2023-03-29T16:00:31.025396",
     "exception": false,
     "start_time": "2023-03-29T16:00:30.815739",
     "status": "completed"
    },
    "tags": []
   },
   "source": [
    "Este callback si hace todas las épocas, sin embargo, siempre busca ir guardando la mejor, en este caso, nunca mejoró de un 0.91255"
   ]
  },
  {
   "cell_type": "code",
   "execution_count": 17,
   "id": "78191fa4",
   "metadata": {
    "execution": {
     "iopub.execute_input": "2023-03-29T16:00:31.445798Z",
     "iopub.status.busy": "2023-03-29T16:00:31.444762Z",
     "iopub.status.idle": "2023-03-29T16:00:31.470189Z",
     "shell.execute_reply": "2023-03-29T16:00:31.469199Z"
    },
    "papermill": {
     "duration": 0.237761,
     "end_time": "2023-03-29T16:00:31.472475",
     "exception": false,
     "start_time": "2023-03-29T16:00:31.234714",
     "status": "completed"
    },
    "tags": []
   },
   "outputs": [],
   "source": [
    "model2=model\n",
    "model2.load_weights(\"/kaggle/working/mi_primer_red_conv.hdf5\")"
   ]
  },
  {
   "cell_type": "code",
   "execution_count": 18,
   "id": "691f53d8",
   "metadata": {
    "execution": {
     "iopub.execute_input": "2023-03-29T16:00:31.938233Z",
     "iopub.status.busy": "2023-03-29T16:00:31.937856Z",
     "iopub.status.idle": "2023-03-29T16:00:32.981644Z",
     "shell.execute_reply": "2023-03-29T16:00:32.980567Z"
    },
    "papermill": {
     "duration": 1.25605,
     "end_time": "2023-03-29T16:00:32.983891",
     "exception": false,
     "start_time": "2023-03-29T16:00:31.727841",
     "status": "completed"
    },
    "tags": []
   },
   "outputs": [
    {
     "name": "stdout",
     "output_type": "stream",
     "text": [
      "313/313 [==============================] - 1s 3ms/step - loss: 0.3171 - accuracy: 0.9071\n"
     ]
    },
    {
     "data": {
      "text/plain": [
       "[0.3171257972717285, 0.9071000218391418]"
      ]
     },
     "execution_count": 18,
     "metadata": {},
     "output_type": "execute_result"
    }
   ],
   "source": [
    "model.evaluate(test_images,test_labels)"
   ]
  },
  {
   "cell_type": "markdown",
   "id": "7d72f0ac",
   "metadata": {
    "papermill": {
     "duration": 0.209199,
     "end_time": "2023-03-29T16:00:33.403425",
     "exception": false,
     "start_time": "2023-03-29T16:00:33.194226",
     "status": "completed"
    },
    "tags": []
   },
   "source": [
    "### Por tanto usando estos callbacks logramos asegurar que el modelo que estamos utilizando es siempre el mejor que se logró."
   ]
  }
 ],
 "metadata": {
  "kernelspec": {
   "display_name": "Python 3",
   "language": "python",
   "name": "python3"
  },
  "language_info": {
   "codemirror_mode": {
    "name": "ipython",
    "version": 3
   },
   "file_extension": ".py",
   "mimetype": "text/x-python",
   "name": "python",
   "nbconvert_exporter": "python",
   "pygments_lexer": "ipython3",
   "version": "3.7.12"
  },
  "papermill": {
   "default_parameters": {},
   "duration": 327.93741,
   "end_time": "2023-03-29T16:00:37.193299",
   "environment_variables": {},
   "exception": null,
   "input_path": "__notebook__.ipynb",
   "output_path": "__notebook__.ipynb",
   "parameters": {},
   "start_time": "2023-03-29T15:55:09.255889",
   "version": "2.4.0"
  }
 },
 "nbformat": 4,
 "nbformat_minor": 5
}
