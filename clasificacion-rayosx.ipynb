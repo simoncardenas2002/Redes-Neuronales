{
 "cells": [
  {
   "cell_type": "code",
   "execution_count": 1,
   "id": "3d32c20c",
   "metadata": {
    "execution": {
     "iopub.execute_input": "2023-03-29T22:18:30.621604Z",
     "iopub.status.busy": "2023-03-29T22:18:30.621138Z",
     "iopub.status.idle": "2023-03-29T22:18:38.995805Z",
     "shell.execute_reply": "2023-03-29T22:18:38.994648Z"
    },
    "papermill": {
     "duration": 8.38481,
     "end_time": "2023-03-29T22:18:38.998496",
     "exception": false,
     "start_time": "2023-03-29T22:18:30.613686",
     "status": "completed"
    },
    "tags": []
   },
   "outputs": [],
   "source": [
    "import matplotlib.pyplot as plt\n",
    "import seaborn as sns\n",
    "import keras\n",
    "from keras.models import Sequential\n",
    "from keras.layers import Dense, Conv2D , MaxPooling2D , Flatten , Dropout , BatchNormalization\n",
    "from keras.preprocessing.image import ImageDataGenerator\n",
    "from sklearn.model_selection import train_test_split\n",
    "from sklearn.metrics import classification_report,confusion_matrix\n",
    "from keras.callbacks import ReduceLROnPlateau, ModelCheckpoint, EarlyStopping\n",
    "from keras import models, optimizers, regularizers\n",
    "import cv2\n",
    "import os\n",
    "import numpy as np"
   ]
  },
  {
   "cell_type": "markdown",
   "id": "b10582fd",
   "metadata": {
    "papermill": {
     "duration": 0.00429,
     "end_time": "2023-03-29T22:18:39.007533",
     "exception": false,
     "start_time": "2023-03-29T22:18:39.003243",
     "status": "completed"
    },
    "tags": []
   },
   "source": [
    "### Cargamos los datos Forma 1"
   ]
  },
  {
   "cell_type": "code",
   "execution_count": 2,
   "id": "5b494003",
   "metadata": {
    "execution": {
     "iopub.execute_input": "2023-03-29T22:18:39.019125Z",
     "iopub.status.busy": "2023-03-29T22:18:39.017818Z",
     "iopub.status.idle": "2023-03-29T22:18:39.023235Z",
     "shell.execute_reply": "2023-03-29T22:18:39.022332Z"
    },
    "papermill": {
     "duration": 0.012948,
     "end_time": "2023-03-29T22:18:39.025270",
     "exception": false,
     "start_time": "2023-03-29T22:18:39.012322",
     "status": "completed"
    },
    "tags": []
   },
   "outputs": [],
   "source": [
    "Data_dir=\"/kaggle/input/chest-xray-pneumonia/chest_xray/train/\"\n",
    "CATEGORIES=[\"NORMAL\",\"PNEUMONIA\"]"
   ]
  },
  {
   "cell_type": "markdown",
   "id": "333ba599",
   "metadata": {
    "papermill": {
     "duration": 0.004232,
     "end_time": "2023-03-29T22:18:39.034045",
     "exception": false,
     "start_time": "2023-03-29T22:18:39.029813",
     "status": "completed"
    },
    "tags": []
   },
   "source": [
    "Se creará una función que me **cree un arreglo a partir de las imagenes** deseadas"
   ]
  },
  {
   "cell_type": "markdown",
   "id": "00a1dcc3",
   "metadata": {
    "papermill": {
     "duration": 0.004128,
     "end_time": "2023-03-29T22:18:39.042464",
     "exception": false,
     "start_time": "2023-03-29T22:18:39.038336",
     "status": "completed"
    },
    "tags": []
   },
   "source": []
  },
  {
   "cell_type": "code",
   "execution_count": 3,
   "id": "ea0cccc4",
   "metadata": {
    "execution": {
     "iopub.execute_input": "2023-03-29T22:18:39.052951Z",
     "iopub.status.busy": "2023-03-29T22:18:39.052263Z",
     "iopub.status.idle": "2023-03-29T22:18:39.059171Z",
     "shell.execute_reply": "2023-03-29T22:18:39.057943Z"
    },
    "papermill": {
     "duration": 0.015369,
     "end_time": "2023-03-29T22:18:39.062082",
     "exception": false,
     "start_time": "2023-03-29T22:18:39.046713",
     "status": "completed"
    },
    "tags": []
   },
   "outputs": [],
   "source": [
    "\n",
    "img_size= 200\n",
    "def get_data(Data_dir):\n",
    "    data=[]\n",
    "    for category in CATEGORIES: \n",
    "            path = os.path.join(Data_dir,category)\n",
    "            class_num=CATEGORIES.index(category)\n",
    "            for img in os.listdir(path):\n",
    "                img_array= cv2.imread(os.path.join(path,img),cv2.IMREAD_GRAYSCALE)\n",
    "                resized_array=cv2.resize(img_array,(img_size,img_size))\n",
    "                data.append([resized_array,class_num])\n",
    "    return np.array(data)\n",
    "                \n"
   ]
  },
  {
   "cell_type": "markdown",
   "id": "6bef826b",
   "metadata": {
    "papermill": {
     "duration": 0.004683,
     "end_time": "2023-03-29T22:18:39.072087",
     "exception": false,
     "start_time": "2023-03-29T22:18:39.067404",
     "status": "completed"
    },
    "tags": []
   },
   "source": [
    "### Cargar datos forma 2\n",
    "# ESTA ES LA FORMA RECOMENDADA PARA LEER LA INFORMACIÓN DE UN DIRECTORIO"
   ]
  },
  {
   "cell_type": "code",
   "execution_count": 4,
   "id": "8b925edf",
   "metadata": {
    "execution": {
     "iopub.execute_input": "2023-03-29T22:18:39.083589Z",
     "iopub.status.busy": "2023-03-29T22:18:39.082638Z",
     "iopub.status.idle": "2023-03-29T22:18:39.088255Z",
     "shell.execute_reply": "2023-03-29T22:18:39.087345Z"
    },
    "papermill": {
     "duration": 0.013308,
     "end_time": "2023-03-29T22:18:39.090336",
     "exception": false,
     "start_time": "2023-03-29T22:18:39.077028",
     "status": "completed"
    },
    "tags": []
   },
   "outputs": [],
   "source": [
    "#generando las imagenes del entrenamiento\n",
    "train_datagen=ImageDataGenerator(rescale= 1./255,\n",
    "                  rotation_range=40,\n",
    "                  width_shift_range=0.2,\n",
    "                  height_shift_range=0.2,\n",
    "                  shear_range=0.2,\n",
    "                   zoom_range=0.2,\n",
    "                   horizontal_flip=True\n",
    "                  )"
   ]
  },
  {
   "cell_type": "code",
   "execution_count": 5,
   "id": "4768f4ff",
   "metadata": {
    "execution": {
     "iopub.execute_input": "2023-03-29T22:18:39.100543Z",
     "iopub.status.busy": "2023-03-29T22:18:39.100276Z",
     "iopub.status.idle": "2023-03-29T22:18:39.104488Z",
     "shell.execute_reply": "2023-03-29T22:18:39.103464Z"
    },
    "papermill": {
     "duration": 0.011626,
     "end_time": "2023-03-29T22:18:39.106553",
     "exception": false,
     "start_time": "2023-03-29T22:18:39.094927",
     "status": "completed"
    },
    "tags": []
   },
   "outputs": [],
   "source": [
    "#generando las imagenes de test\n",
    "test_datagen= ImageDataGenerator(rescale=1./255)"
   ]
  },
  {
   "cell_type": "code",
   "execution_count": 6,
   "id": "35279fa2",
   "metadata": {
    "execution": {
     "iopub.execute_input": "2023-03-29T22:18:39.118105Z",
     "iopub.status.busy": "2023-03-29T22:18:39.116471Z",
     "iopub.status.idle": "2023-03-29T22:18:40.942934Z",
     "shell.execute_reply": "2023-03-29T22:18:40.941935Z"
    },
    "papermill": {
     "duration": 1.835245,
     "end_time": "2023-03-29T22:18:40.946145",
     "exception": false,
     "start_time": "2023-03-29T22:18:39.110900",
     "status": "completed"
    },
    "tags": []
   },
   "outputs": [
    {
     "name": "stdout",
     "output_type": "stream",
     "text": [
      "Found 5216 images belonging to 2 classes.\n",
      "Found 16 images belonging to 2 classes.\n"
     ]
    }
   ],
   "source": [
    "train_generator=train_datagen.flow_from_directory(\"/kaggle/input/chest-xray-pneumonia/chest_xray/train\",\n",
    "                                 target_size=(200,200),\n",
    "                                 batch_size=32,\n",
    "                                 class_mode=\"binary\")\n",
    "\n",
    "validation_generator=test_datagen.flow_from_directory(\"/kaggle/input/chest-xray-pneumonia/chest_xray/val\",\n",
    "                                 target_size=(200,200),\n",
    "                                 batch_size=32,\n",
    "                                 class_mode=\"binary\")"
   ]
  },
  {
   "cell_type": "markdown",
   "id": "19aafcfd",
   "metadata": {
    "papermill": {
     "duration": 0.008018,
     "end_time": "2023-03-29T22:18:40.961150",
     "exception": false,
     "start_time": "2023-03-29T22:18:40.953132",
     "status": "completed"
    },
    "tags": []
   },
   "source": [
    "Podemos observar que detecta 5216 imagenes de 2 clases y 16 imágenes de validación, tal vez son muy pocas, pero se continuará"
   ]
  },
  {
   "cell_type": "markdown",
   "id": "46bade6b",
   "metadata": {
    "papermill": {
     "duration": 0.006916,
     "end_time": "2023-03-29T22:18:40.974819",
     "exception": false,
     "start_time": "2023-03-29T22:18:40.967903",
     "status": "completed"
    },
    "tags": []
   },
   "source": [
    "Lo que se está haciendo es una alternativa para la lectura de los datos del dataset, a partir de una función nativa de keras.preprocessing.image "
   ]
  },
  {
   "cell_type": "markdown",
   "id": "454d81a3",
   "metadata": {
    "papermill": {
     "duration": 0.006928,
     "end_time": "2023-03-29T22:18:40.988550",
     "exception": false,
     "start_time": "2023-03-29T22:18:40.981622",
     "status": "completed"
    },
    "tags": []
   },
   "source": [
    "## Modelo"
   ]
  },
  {
   "cell_type": "code",
   "execution_count": 7,
   "id": "f016f3a0",
   "metadata": {
    "execution": {
     "iopub.execute_input": "2023-03-29T22:18:41.003895Z",
     "iopub.status.busy": "2023-03-29T22:18:41.003137Z",
     "iopub.status.idle": "2023-03-29T22:18:43.818868Z",
     "shell.execute_reply": "2023-03-29T22:18:43.818036Z"
    },
    "papermill": {
     "duration": 2.851232,
     "end_time": "2023-03-29T22:18:43.847037",
     "exception": false,
     "start_time": "2023-03-29T22:18:40.995805",
     "status": "completed"
    },
    "tags": []
   },
   "outputs": [
    {
     "name": "stdout",
     "output_type": "stream",
     "text": [
      "Model: \"sequential\"\n",
      "_________________________________________________________________\n",
      " Layer (type)                Output Shape              Param #   \n",
      "=================================================================\n",
      " conv2d (Conv2D)             (None, 198, 198, 32)      896       \n",
      "                                                                 \n",
      " max_pooling2d (MaxPooling2D  (None, 99, 99, 32)       0         \n",
      " )                                                               \n",
      "                                                                 \n",
      " conv2d_1 (Conv2D)           (None, 97, 97, 64)        18496     \n",
      "                                                                 \n",
      " max_pooling2d_1 (MaxPooling  (None, 48, 48, 64)       0         \n",
      " 2D)                                                             \n",
      "                                                                 \n",
      " conv2d_2 (Conv2D)           (None, 46, 46, 128)       73856     \n",
      "                                                                 \n",
      " max_pooling2d_2 (MaxPooling  (None, 23, 23, 128)      0         \n",
      " 2D)                                                             \n",
      "                                                                 \n",
      " conv2d_3 (Conv2D)           (None, 21, 21, 128)       147584    \n",
      "                                                                 \n",
      " max_pooling2d_3 (MaxPooling  (None, 10, 10, 128)      0         \n",
      " 2D)                                                             \n",
      "                                                                 \n",
      " flatten (Flatten)           (None, 12800)             0         \n",
      "                                                                 \n",
      " dropout (Dropout)           (None, 12800)             0         \n",
      "                                                                 \n",
      " dense (Dense)               (None, 512)               6554112   \n",
      "                                                                 \n",
      " dense_1 (Dense)             (None, 1)                 513       \n",
      "                                                                 \n",
      "=================================================================\n",
      "Total params: 6,795,457\n",
      "Trainable params: 6,795,457\n",
      "Non-trainable params: 0\n",
      "_________________________________________________________________\n"
     ]
    }
   ],
   "source": [
    "model=models.Sequential()\n",
    "\n",
    "model.add(Conv2D(32,(3,3),activation=\"relu\",input_shape=(200,200,3)))\n",
    "model.add(MaxPooling2D((2,2)))\n",
    "\n",
    "model.add(Conv2D(64,(3,3),activation=\"relu\"))\n",
    "model.add(MaxPooling2D((2,2)))\n",
    "\n",
    "model.add(Conv2D(128,(3,3),activation=\"relu\"))\n",
    "model.add(MaxPooling2D((2,2)))\n",
    "\n",
    "model.add(Conv2D(128,(3,3),activation=\"relu\"))\n",
    "model.add(MaxPooling2D((2,2)))\n",
    "\n",
    "model.add(Flatten())\n",
    "model.add(Dropout(0.5))\n",
    "model.add(Dense(512,activation=\"relu\"))\n",
    "model.add(Dense(1,activation=\"sigmoid\"))\n",
    "\n",
    "model.summary()"
   ]
  },
  {
   "cell_type": "markdown",
   "id": "3b028726",
   "metadata": {
    "papermill": {
     "duration": 0.006336,
     "end_time": "2023-03-29T22:18:43.860032",
     "exception": false,
     "start_time": "2023-03-29T22:18:43.853696",
     "status": "completed"
    },
    "tags": []
   },
   "source": [
    "### Entrenamos el modelo"
   ]
  },
  {
   "cell_type": "code",
   "execution_count": 8,
   "id": "81f5839e",
   "metadata": {
    "execution": {
     "iopub.execute_input": "2023-03-29T22:18:43.874667Z",
     "iopub.status.busy": "2023-03-29T22:18:43.874309Z",
     "iopub.status.idle": "2023-03-29T22:18:43.879704Z",
     "shell.execute_reply": "2023-03-29T22:18:43.878782Z"
    },
    "papermill": {
     "duration": 0.015381,
     "end_time": "2023-03-29T22:18:43.881862",
     "exception": false,
     "start_time": "2023-03-29T22:18:43.866481",
     "status": "completed"
    },
    "tags": []
   },
   "outputs": [],
   "source": [
    "checkpoint= ModelCheckpoint(\"modelo_deteccion_neumonia\",verbose=1,save_best_only=True)"
   ]
  },
  {
   "cell_type": "code",
   "execution_count": 9,
   "id": "ee6a5956",
   "metadata": {
    "execution": {
     "iopub.execute_input": "2023-03-29T22:18:43.895762Z",
     "iopub.status.busy": "2023-03-29T22:18:43.895493Z",
     "iopub.status.idle": "2023-03-29T22:18:43.911284Z",
     "shell.execute_reply": "2023-03-29T22:18:43.910380Z"
    },
    "papermill": {
     "duration": 0.025263,
     "end_time": "2023-03-29T22:18:43.913403",
     "exception": false,
     "start_time": "2023-03-29T22:18:43.888140",
     "status": "completed"
    },
    "tags": []
   },
   "outputs": [],
   "source": [
    "model.compile(loss=\"binary_crossentropy\",\n",
    "             optimizer=optimizers.Adam(),\n",
    "             metrics=[\"accuracy\"])"
   ]
  },
  {
   "cell_type": "code",
   "execution_count": 10,
   "id": "d5228e3b",
   "metadata": {
    "execution": {
     "iopub.execute_input": "2023-03-29T22:18:43.927968Z",
     "iopub.status.busy": "2023-03-29T22:18:43.927158Z",
     "iopub.status.idle": "2023-03-29T22:55:44.250882Z",
     "shell.execute_reply": "2023-03-29T22:55:44.249828Z"
    },
    "papermill": {
     "duration": 2220.333813,
     "end_time": "2023-03-29T22:55:44.253747",
     "exception": false,
     "start_time": "2023-03-29T22:18:43.919934",
     "status": "completed"
    },
    "scrolled": true,
    "tags": []
   },
   "outputs": [
    {
     "name": "stdout",
     "output_type": "stream",
     "text": [
      "Epoch 1/20\n",
      "163/163 [==============================] - ETA: 0s - loss: 0.4744 - accuracy: 0.7774\n",
      "Epoch 1: val_loss improved from inf to 0.58929, saving model to modelo_deteccion_neumonia\n",
      "163/163 [==============================] - 147s 862ms/step - loss: 0.4744 - accuracy: 0.7774 - val_loss: 0.5893 - val_accuracy: 0.5000\n",
      "Epoch 2/20\n",
      "163/163 [==============================] - ETA: 0s - loss: 0.3529 - accuracy: 0.8347\n",
      "Epoch 2: val_loss improved from 0.58929 to 0.42610, saving model to modelo_deteccion_neumonia\n",
      "163/163 [==============================] - 109s 669ms/step - loss: 0.3529 - accuracy: 0.8347 - val_loss: 0.4261 - val_accuracy: 0.7500\n",
      "Epoch 3/20\n",
      "163/163 [==============================] - ETA: 0s - loss: 0.3086 - accuracy: 0.8643\n",
      "Epoch 3: val_loss did not improve from 0.42610\n",
      "163/163 [==============================] - 107s 655ms/step - loss: 0.3086 - accuracy: 0.8643 - val_loss: 0.4831 - val_accuracy: 0.6250\n",
      "Epoch 4/20\n",
      "163/163 [==============================] - ETA: 0s - loss: 0.2790 - accuracy: 0.8750\n",
      "Epoch 4: val_loss improved from 0.42610 to 0.39838, saving model to modelo_deteccion_neumonia\n",
      "163/163 [==============================] - 109s 670ms/step - loss: 0.2790 - accuracy: 0.8750 - val_loss: 0.3984 - val_accuracy: 0.8750\n",
      "Epoch 5/20\n",
      "163/163 [==============================] - ETA: 0s - loss: 0.2637 - accuracy: 0.8842\n",
      "Epoch 5: val_loss did not improve from 0.39838\n",
      "163/163 [==============================] - 107s 655ms/step - loss: 0.2637 - accuracy: 0.8842 - val_loss: 0.4937 - val_accuracy: 0.8125\n",
      "Epoch 6/20\n",
      "163/163 [==============================] - ETA: 0s - loss: 0.2421 - accuracy: 0.8934\n",
      "Epoch 6: val_loss did not improve from 0.39838\n",
      "163/163 [==============================] - 107s 656ms/step - loss: 0.2421 - accuracy: 0.8934 - val_loss: 0.7430 - val_accuracy: 0.6875\n",
      "Epoch 7/20\n",
      "163/163 [==============================] - ETA: 0s - loss: 0.2458 - accuracy: 0.9001\n",
      "Epoch 7: val_loss improved from 0.39838 to 0.39191, saving model to modelo_deteccion_neumonia\n",
      "163/163 [==============================] - 109s 667ms/step - loss: 0.2458 - accuracy: 0.9001 - val_loss: 0.3919 - val_accuracy: 0.8125\n",
      "Epoch 8/20\n",
      "163/163 [==============================] - ETA: 0s - loss: 0.2276 - accuracy: 0.9039\n",
      "Epoch 8: val_loss did not improve from 0.39191\n",
      "163/163 [==============================] - 106s 653ms/step - loss: 0.2276 - accuracy: 0.9039 - val_loss: 0.4693 - val_accuracy: 0.7500\n",
      "Epoch 9/20\n",
      "163/163 [==============================] - ETA: 0s - loss: 0.2268 - accuracy: 0.9064\n",
      "Epoch 9: val_loss did not improve from 0.39191\n",
      "163/163 [==============================] - 106s 652ms/step - loss: 0.2268 - accuracy: 0.9064 - val_loss: 0.5367 - val_accuracy: 0.6875\n",
      "Epoch 10/20\n",
      "163/163 [==============================] - ETA: 0s - loss: 0.2153 - accuracy: 0.9066\n",
      "Epoch 10: val_loss improved from 0.39191 to 0.36368, saving model to modelo_deteccion_neumonia\n",
      "163/163 [==============================] - 108s 659ms/step - loss: 0.2153 - accuracy: 0.9066 - val_loss: 0.3637 - val_accuracy: 0.8750\n",
      "Epoch 11/20\n",
      "163/163 [==============================] - ETA: 0s - loss: 0.2121 - accuracy: 0.9126\n",
      "Epoch 11: val_loss did not improve from 0.36368\n",
      "163/163 [==============================] - 107s 659ms/step - loss: 0.2121 - accuracy: 0.9126 - val_loss: 0.4831 - val_accuracy: 0.6250\n",
      "Epoch 12/20\n",
      "163/163 [==============================] - ETA: 0s - loss: 0.1995 - accuracy: 0.9158\n",
      "Epoch 12: val_loss did not improve from 0.36368\n",
      "163/163 [==============================] - 108s 663ms/step - loss: 0.1995 - accuracy: 0.9158 - val_loss: 0.4974 - val_accuracy: 0.6875\n",
      "Epoch 13/20\n",
      "163/163 [==============================] - ETA: 0s - loss: 0.2074 - accuracy: 0.9166\n",
      "Epoch 13: val_loss did not improve from 0.36368\n",
      "163/163 [==============================] - 106s 653ms/step - loss: 0.2074 - accuracy: 0.9166 - val_loss: 0.4410 - val_accuracy: 0.7500\n",
      "Epoch 14/20\n",
      "163/163 [==============================] - ETA: 0s - loss: 0.1933 - accuracy: 0.9210\n",
      "Epoch 14: val_loss did not improve from 0.36368\n",
      "163/163 [==============================] - 106s 652ms/step - loss: 0.1933 - accuracy: 0.9210 - val_loss: 0.5156 - val_accuracy: 0.7500\n",
      "Epoch 15/20\n",
      "163/163 [==============================] - ETA: 0s - loss: 0.1968 - accuracy: 0.9222\n",
      "Epoch 15: val_loss did not improve from 0.36368\n",
      "163/163 [==============================] - 107s 656ms/step - loss: 0.1968 - accuracy: 0.9222 - val_loss: 0.5445 - val_accuracy: 0.6875\n",
      "Epoch 16/20\n",
      "163/163 [==============================] - ETA: 0s - loss: 0.1821 - accuracy: 0.9212\n",
      "Epoch 16: val_loss did not improve from 0.36368\n",
      "163/163 [==============================] - 106s 652ms/step - loss: 0.1821 - accuracy: 0.9212 - val_loss: 0.9837 - val_accuracy: 0.6250\n",
      "Epoch 17/20\n",
      "163/163 [==============================] - ETA: 0s - loss: 0.1946 - accuracy: 0.9178\n",
      "Epoch 17: val_loss did not improve from 0.36368\n",
      "163/163 [==============================] - 107s 657ms/step - loss: 0.1946 - accuracy: 0.9178 - val_loss: 0.4811 - val_accuracy: 0.8125\n",
      "Epoch 18/20\n",
      "163/163 [==============================] - ETA: 0s - loss: 0.1860 - accuracy: 0.9247\n",
      "Epoch 18: val_loss did not improve from 0.36368\n",
      "163/163 [==============================] - 106s 650ms/step - loss: 0.1860 - accuracy: 0.9247 - val_loss: 0.5571 - val_accuracy: 0.7500\n",
      "Epoch 19/20\n",
      "163/163 [==============================] - ETA: 0s - loss: 0.1665 - accuracy: 0.9296\n",
      "Epoch 19: val_loss did not improve from 0.36368\n",
      "163/163 [==============================] - 108s 660ms/step - loss: 0.1665 - accuracy: 0.9296 - val_loss: 0.4148 - val_accuracy: 0.8125\n",
      "Epoch 20/20\n",
      "163/163 [==============================] - ETA: 0s - loss: 0.1632 - accuracy: 0.9319\n",
      "Epoch 20: val_loss did not improve from 0.36368\n",
      "163/163 [==============================] - 109s 665ms/step - loss: 0.1632 - accuracy: 0.9319 - val_loss: 0.5169 - val_accuracy: 0.7500\n"
     ]
    }
   ],
   "source": [
    "hist= model.fit(train_generator,\n",
    "                steps_per_epoch=5216//32,\n",
    "                epochs=20,\n",
    "                validation_data=validation_generator,\n",
    "                validation_steps=1,\n",
    "                callbacks=[checkpoint]\n",
    "               )"
   ]
  },
  {
   "cell_type": "code",
   "execution_count": 11,
   "id": "a41be6f9",
   "metadata": {
    "execution": {
     "iopub.execute_input": "2023-03-29T22:55:44.667906Z",
     "iopub.status.busy": "2023-03-29T22:55:44.666648Z",
     "iopub.status.idle": "2023-03-29T22:55:44.888788Z",
     "shell.execute_reply": "2023-03-29T22:55:44.887731Z"
    },
    "papermill": {
     "duration": 0.457588,
     "end_time": "2023-03-29T22:55:44.891142",
     "exception": false,
     "start_time": "2023-03-29T22:55:44.433554",
     "status": "completed"
    },
    "tags": []
   },
   "outputs": [
    {
     "data": {
      "image/png": "[encoded data removed]",
      "text/plain": [
       "<Figure size 640x480 with 1 Axes>"
      ]
     },
     "metadata": {},
     "output_type": "display_data"
    }
   ],
   "source": [
    "plt.plot(hist.history[\"accuracy\"],label=\"Train\")\n",
    "plt.plot(hist.history[\"val_accuracy\"],label=\"Val\")\n",
    "plt.legend()\n",
    "plt.show()"
   ]
  },
  {
   "cell_type": "code",
   "execution_count": 12,
   "id": "9ee5f6cf",
   "metadata": {
    "execution": {
     "iopub.execute_input": "2023-03-29T22:55:45.256901Z",
     "iopub.status.busy": "2023-03-29T22:55:45.255874Z",
     "iopub.status.idle": "2023-03-29T22:55:45.366888Z",
     "shell.execute_reply": "2023-03-29T22:55:45.365836Z"
    },
    "papermill": {
     "duration": 0.2972,
     "end_time": "2023-03-29T22:55:45.369506",
     "exception": false,
     "start_time": "2023-03-29T22:55:45.072306",
     "status": "completed"
    },
    "tags": []
   },
   "outputs": [
    {
     "name": "stdout",
     "output_type": "stream",
     "text": [
      "Found 624 images belonging to 2 classes.\n"
     ]
    }
   ],
   "source": [
    "test_generator=test_datagen.flow_from_directory(\"/kaggle/input/chest-xray-pneumonia/chest_xray/test\",\n",
    "                                 target_size=(200,200),\n",
    "                                 batch_size=32,\n",
    "                                 class_mode=\"binary\")"
   ]
  },
  {
   "cell_type": "code",
   "execution_count": 13,
   "id": "298e5ea4",
   "metadata": {
    "execution": {
     "iopub.execute_input": "2023-03-29T22:55:45.733950Z",
     "iopub.status.busy": "2023-03-29T22:55:45.733561Z",
     "iopub.status.idle": "2023-03-29T22:55:45.738206Z",
     "shell.execute_reply": "2023-03-29T22:55:45.737078Z"
    },
    "papermill": {
     "duration": 0.191345,
     "end_time": "2023-03-29T22:55:45.740900",
     "exception": false,
     "start_time": "2023-03-29T22:55:45.549555",
     "status": "completed"
    },
    "tags": []
   },
   "outputs": [],
   "source": [
    "model2=model"
   ]
  },
  {
   "cell_type": "code",
   "execution_count": 14,
   "id": "60809cdc",
   "metadata": {
    "execution": {
     "iopub.execute_input": "2023-03-29T22:55:46.102565Z",
     "iopub.status.busy": "2023-03-29T22:55:46.102204Z",
     "iopub.status.idle": "2023-03-29T22:55:46.231801Z",
     "shell.execute_reply": "2023-03-29T22:55:46.230814Z"
    },
    "papermill": {
     "duration": 0.315181,
     "end_time": "2023-03-29T22:55:46.234151",
     "exception": false,
     "start_time": "2023-03-29T22:55:45.918970",
     "status": "completed"
    },
    "tags": []
   },
   "outputs": [
    {
     "data": {
      "text/plain": [
       "<tensorflow.python.checkpoint.checkpoint.CheckpointLoadStatus at 0x7f9e080a8490>"
      ]
     },
     "execution_count": 14,
     "metadata": {},
     "output_type": "execute_result"
    }
   ],
   "source": [
    "model2.load_weights(\"modelo_deteccion_neumonia\")"
   ]
  },
  {
   "cell_type": "code",
   "execution_count": 15,
   "id": "821d7850",
   "metadata": {
    "execution": {
     "iopub.execute_input": "2023-03-29T22:55:46.597305Z",
     "iopub.status.busy": "2023-03-29T22:55:46.596941Z",
     "iopub.status.idle": "2023-03-29T22:55:57.423496Z",
     "shell.execute_reply": "2023-03-29T22:55:57.422405Z"
    },
    "papermill": {
     "duration": 11.009516,
     "end_time": "2023-03-29T22:55:57.425852",
     "exception": false,
     "start_time": "2023-03-29T22:55:46.416336",
     "status": "completed"
    },
    "tags": []
   },
   "outputs": [
    {
     "name": "stdout",
     "output_type": "stream",
     "text": [
      "20/20 [==============================] - 9s 458ms/step - loss: 0.2760 - accuracy: 0.9231\n",
      "El accuracy del modelo es  0.9230769276618958\n"
     ]
    }
   ],
   "source": [
    "print(\"El accuracy del modelo es \",model2.evaluate(test_generator)[1])"
   ]
  }
 ],
 "metadata": {
  "kernelspec": {
   "display_name": "Python 3",
   "language": "python",
   "name": "python3"
  },
  "language_info": {
   "codemirror_mode": {
    "name": "ipython",
    "version": 3
   },
   "file_extension": ".py",
   "mimetype": "text/x-python",
   "name": "python",
   "nbconvert_exporter": "python",
   "pygments_lexer": "ipython3",
   "version": "3.7.12"
  },
  "papermill": {
   "default_parameters": {},
   "duration": 2259.919457,
   "end_time": "2023-03-29T22:56:01.040291",
   "environment_variables": {},
   "exception": null,
   "input_path": "__notebook__.ipynb",
   "output_path": "__notebook__.ipynb",
   "parameters": {},
   "start_time": "2023-03-29T22:18:21.120834",
   "version": "2.4.0"
  }
 },
 "nbformat": 4,
 "nbformat_minor": 5
}
